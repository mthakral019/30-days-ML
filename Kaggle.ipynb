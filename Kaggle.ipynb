{
 "cells": [
  {
   "cell_type": "code",
   "execution_count": 1,
   "id": "cc6d664a",
   "metadata": {},
   "outputs": [],
   "source": [
    "import numpy as np\n",
    "import pandas as pd\n",
    "import matplotlib.pyplot as plt\n",
    "import seaborn as sns\n",
    "import os\n",
    "%matplotlib inline\n",
    "pd.set_option('display.max_columns',None)"
   ]
  },
  {
   "cell_type": "code",
   "execution_count": 3,
   "id": "a127de5d",
   "metadata": {},
   "outputs": [
    {
     "data": {
      "application/javascript": [
       "\n",
       "        if (window._pyforest_update_imports_cell) { window._pyforest_update_imports_cell('import os'); }\n",
       "    "
      ],
      "text/plain": [
       "<IPython.core.display.Javascript object>"
      ]
     },
     "metadata": {},
     "output_type": "display_data"
    },
    {
     "data": {
      "text/plain": [
       "'E:\\\\Complete Machine Learning'"
      ]
     },
     "execution_count": 3,
     "metadata": {},
     "output_type": "execute_result"
    }
   ],
   "source": [
    "os.getcwd()"
   ]
  },
  {
   "cell_type": "code",
   "execution_count": 4,
   "id": "8299e66a",
   "metadata": {},
   "outputs": [
    {
     "data": {
      "application/javascript": [
       "\n",
       "        if (window._pyforest_update_imports_cell) { window._pyforest_update_imports_cell('import os'); }\n",
       "    "
      ],
      "text/plain": [
       "<IPython.core.display.Javascript object>"
      ]
     },
     "metadata": {},
     "output_type": "display_data"
    }
   ],
   "source": [
    "os.chdir('E:\\\\Complete Machine Learning\\\\datasets\\\\Kaggle')"
   ]
  },
  {
   "cell_type": "code",
   "execution_count": 7,
   "id": "b2d7523a",
   "metadata": {},
   "outputs": [],
   "source": [
    "train=pd.read_csv('train_kfold.csv')"
   ]
  },
  {
   "cell_type": "code",
   "execution_count": 14,
   "id": "c68480ec",
   "metadata": {},
   "outputs": [
    {
     "data": {
      "text/html": [
       "<div>\n",
       "<style scoped>\n",
       "    .dataframe tbody tr th:only-of-type {\n",
       "        vertical-align: middle;\n",
       "    }\n",
       "\n",
       "    .dataframe tbody tr th {\n",
       "        vertical-align: top;\n",
       "    }\n",
       "\n",
       "    .dataframe thead th {\n",
       "        text-align: right;\n",
       "    }\n",
       "</style>\n",
       "<table border=\"1\" class=\"dataframe\">\n",
       "  <thead>\n",
       "    <tr style=\"text-align: right;\">\n",
       "      <th></th>\n",
       "      <th>id</th>\n",
       "      <th>cat0</th>\n",
       "      <th>cat1</th>\n",
       "      <th>cat2</th>\n",
       "      <th>cat3</th>\n",
       "      <th>cat4</th>\n",
       "      <th>cat5</th>\n",
       "      <th>cat6</th>\n",
       "      <th>cat7</th>\n",
       "      <th>cat8</th>\n",
       "      <th>cat9</th>\n",
       "      <th>cont0</th>\n",
       "      <th>cont1</th>\n",
       "      <th>cont2</th>\n",
       "      <th>cont3</th>\n",
       "      <th>cont4</th>\n",
       "      <th>cont5</th>\n",
       "      <th>cont6</th>\n",
       "      <th>cont7</th>\n",
       "      <th>cont8</th>\n",
       "      <th>cont9</th>\n",
       "      <th>cont10</th>\n",
       "      <th>cont11</th>\n",
       "      <th>cont12</th>\n",
       "      <th>cont13</th>\n",
       "      <th>target</th>\n",
       "    </tr>\n",
       "  </thead>\n",
       "  <tbody>\n",
       "    <tr>\n",
       "      <th>0</th>\n",
       "      <td>1</td>\n",
       "      <td>B</td>\n",
       "      <td>B</td>\n",
       "      <td>B</td>\n",
       "      <td>C</td>\n",
       "      <td>B</td>\n",
       "      <td>B</td>\n",
       "      <td>A</td>\n",
       "      <td>E</td>\n",
       "      <td>C</td>\n",
       "      <td>N</td>\n",
       "      <td>0.201470</td>\n",
       "      <td>-0.014822</td>\n",
       "      <td>0.669699</td>\n",
       "      <td>0.136278</td>\n",
       "      <td>0.610706</td>\n",
       "      <td>0.400361</td>\n",
       "      <td>0.160266</td>\n",
       "      <td>0.310921</td>\n",
       "      <td>0.389470</td>\n",
       "      <td>0.267559</td>\n",
       "      <td>0.237281</td>\n",
       "      <td>0.377873</td>\n",
       "      <td>0.322401</td>\n",
       "      <td>0.869850</td>\n",
       "      <td>8.113634</td>\n",
       "    </tr>\n",
       "    <tr>\n",
       "      <th>1</th>\n",
       "      <td>2</td>\n",
       "      <td>B</td>\n",
       "      <td>B</td>\n",
       "      <td>A</td>\n",
       "      <td>A</td>\n",
       "      <td>B</td>\n",
       "      <td>D</td>\n",
       "      <td>A</td>\n",
       "      <td>F</td>\n",
       "      <td>A</td>\n",
       "      <td>O</td>\n",
       "      <td>0.743068</td>\n",
       "      <td>0.367411</td>\n",
       "      <td>1.021605</td>\n",
       "      <td>0.365798</td>\n",
       "      <td>0.276853</td>\n",
       "      <td>0.533087</td>\n",
       "      <td>0.558922</td>\n",
       "      <td>0.516294</td>\n",
       "      <td>0.594928</td>\n",
       "      <td>0.341439</td>\n",
       "      <td>0.906013</td>\n",
       "      <td>0.921701</td>\n",
       "      <td>0.261975</td>\n",
       "      <td>0.465083</td>\n",
       "      <td>8.481233</td>\n",
       "    </tr>\n",
       "    <tr>\n",
       "      <th>2</th>\n",
       "      <td>3</td>\n",
       "      <td>A</td>\n",
       "      <td>A</td>\n",
       "      <td>A</td>\n",
       "      <td>C</td>\n",
       "      <td>B</td>\n",
       "      <td>D</td>\n",
       "      <td>A</td>\n",
       "      <td>D</td>\n",
       "      <td>A</td>\n",
       "      <td>F</td>\n",
       "      <td>0.742708</td>\n",
       "      <td>0.310383</td>\n",
       "      <td>-0.012673</td>\n",
       "      <td>0.576957</td>\n",
       "      <td>0.285074</td>\n",
       "      <td>0.650609</td>\n",
       "      <td>0.375348</td>\n",
       "      <td>0.902567</td>\n",
       "      <td>0.555205</td>\n",
       "      <td>0.843531</td>\n",
       "      <td>0.748809</td>\n",
       "      <td>0.620126</td>\n",
       "      <td>0.541474</td>\n",
       "      <td>0.763846</td>\n",
       "      <td>8.364351</td>\n",
       "    </tr>\n",
       "    <tr>\n",
       "      <th>3</th>\n",
       "      <td>4</td>\n",
       "      <td>B</td>\n",
       "      <td>B</td>\n",
       "      <td>A</td>\n",
       "      <td>C</td>\n",
       "      <td>B</td>\n",
       "      <td>D</td>\n",
       "      <td>A</td>\n",
       "      <td>E</td>\n",
       "      <td>C</td>\n",
       "      <td>K</td>\n",
       "      <td>0.429551</td>\n",
       "      <td>0.620998</td>\n",
       "      <td>0.577942</td>\n",
       "      <td>0.280610</td>\n",
       "      <td>0.284667</td>\n",
       "      <td>0.668980</td>\n",
       "      <td>0.239061</td>\n",
       "      <td>0.732948</td>\n",
       "      <td>0.679618</td>\n",
       "      <td>0.574844</td>\n",
       "      <td>0.346010</td>\n",
       "      <td>0.714610</td>\n",
       "      <td>0.540150</td>\n",
       "      <td>0.280682</td>\n",
       "      <td>8.049253</td>\n",
       "    </tr>\n",
       "    <tr>\n",
       "      <th>4</th>\n",
       "      <td>6</td>\n",
       "      <td>A</td>\n",
       "      <td>A</td>\n",
       "      <td>A</td>\n",
       "      <td>C</td>\n",
       "      <td>B</td>\n",
       "      <td>D</td>\n",
       "      <td>A</td>\n",
       "      <td>E</td>\n",
       "      <td>A</td>\n",
       "      <td>N</td>\n",
       "      <td>1.058291</td>\n",
       "      <td>0.367492</td>\n",
       "      <td>-0.052389</td>\n",
       "      <td>0.232407</td>\n",
       "      <td>0.287595</td>\n",
       "      <td>0.686964</td>\n",
       "      <td>0.420667</td>\n",
       "      <td>0.648182</td>\n",
       "      <td>0.684501</td>\n",
       "      <td>0.956692</td>\n",
       "      <td>1.000773</td>\n",
       "      <td>0.776742</td>\n",
       "      <td>0.625849</td>\n",
       "      <td>0.250823</td>\n",
       "      <td>7.972260</td>\n",
       "    </tr>\n",
       "  </tbody>\n",
       "</table>\n",
       "</div>"
      ],
      "text/plain": [
       "   id cat0 cat1 cat2 cat3 cat4 cat5 cat6 cat7 cat8 cat9     cont0     cont1  \\\n",
       "0   1    B    B    B    C    B    B    A    E    C    N  0.201470 -0.014822   \n",
       "1   2    B    B    A    A    B    D    A    F    A    O  0.743068  0.367411   \n",
       "2   3    A    A    A    C    B    D    A    D    A    F  0.742708  0.310383   \n",
       "3   4    B    B    A    C    B    D    A    E    C    K  0.429551  0.620998   \n",
       "4   6    A    A    A    C    B    D    A    E    A    N  1.058291  0.367492   \n",
       "\n",
       "      cont2     cont3     cont4     cont5     cont6     cont7     cont8  \\\n",
       "0  0.669699  0.136278  0.610706  0.400361  0.160266  0.310921  0.389470   \n",
       "1  1.021605  0.365798  0.276853  0.533087  0.558922  0.516294  0.594928   \n",
       "2 -0.012673  0.576957  0.285074  0.650609  0.375348  0.902567  0.555205   \n",
       "3  0.577942  0.280610  0.284667  0.668980  0.239061  0.732948  0.679618   \n",
       "4 -0.052389  0.232407  0.287595  0.686964  0.420667  0.648182  0.684501   \n",
       "\n",
       "      cont9    cont10    cont11    cont12    cont13    target  \n",
       "0  0.267559  0.237281  0.377873  0.322401  0.869850  8.113634  \n",
       "1  0.341439  0.906013  0.921701  0.261975  0.465083  8.481233  \n",
       "2  0.843531  0.748809  0.620126  0.541474  0.763846  8.364351  \n",
       "3  0.574844  0.346010  0.714610  0.540150  0.280682  8.049253  \n",
       "4  0.956692  1.000773  0.776742  0.625849  0.250823  7.972260  "
      ]
     },
     "execution_count": 14,
     "metadata": {},
     "output_type": "execute_result"
    }
   ],
   "source": [
    "train.head(5)"
   ]
  },
  {
   "cell_type": "code",
   "execution_count": 18,
   "id": "a2eda535",
   "metadata": {},
   "outputs": [
    {
     "data": {
      "text/html": [
       "<style  type=\"text/css\" >\n",
       "#T_ddb45_row0_col5{\n",
       "            background-color:  #276419;\n",
       "            color:  #f1f1f1;\n",
       "        }#T_ddb45_row1_col5,#T_ddb45_row2_col5,#T_ddb45_row3_col5,#T_ddb45_row4_col5,#T_ddb45_row5_col5,#T_ddb45_row6_col5,#T_ddb45_row7_col5,#T_ddb45_row8_col5,#T_ddb45_row9_col5,#T_ddb45_row10_col5,#T_ddb45_row11_col5,#T_ddb45_row12_col5,#T_ddb45_row13_col5,#T_ddb45_row14_col5,#T_ddb45_row15_col5,#T_ddb45_row16_col5{\n",
       "            background-color:  #8e0152;\n",
       "            color:  #f1f1f1;\n",
       "        }</style><table id=\"T_ddb45_\" ><thead>    <tr>        <th class=\"blank level0\" ></th>        <th class=\"col_heading level0 col0\" >count</th>        <th class=\"col_heading level0 col1\" >mean</th>        <th class=\"col_heading level0 col2\" >std</th>        <th class=\"col_heading level0 col3\" >min</th>        <th class=\"col_heading level0 col4\" >25%</th>        <th class=\"col_heading level0 col5\" >50%</th>        <th class=\"col_heading level0 col6\" >75%</th>        <th class=\"col_heading level0 col7\" >max</th>    </tr></thead><tbody>\n",
       "                <tr>\n",
       "                        <th id=\"T_ddb45_level0_row0\" class=\"row_heading level0 row0\" >id</th>\n",
       "                        <td id=\"T_ddb45_row0_col0\" class=\"data row0 col0\" >300000.000000</td>\n",
       "                        <td id=\"T_ddb45_row0_col1\" class=\"data row0 col1\" >250018.576947</td>\n",
       "                        <td id=\"T_ddb45_row0_col2\" class=\"data row0 col2\" >144450.150010</td>\n",
       "                        <td id=\"T_ddb45_row0_col3\" class=\"data row0 col3\" >1.000000</td>\n",
       "                        <td id=\"T_ddb45_row0_col4\" class=\"data row0 col4\" >124772.500000</td>\n",
       "                        <td id=\"T_ddb45_row0_col5\" class=\"data row0 col5\" >250002.500000</td>\n",
       "                        <td id=\"T_ddb45_row0_col6\" class=\"data row0 col6\" >375226.500000</td>\n",
       "                        <td id=\"T_ddb45_row0_col7\" class=\"data row0 col7\" >499999.000000</td>\n",
       "            </tr>\n",
       "            <tr>\n",
       "                        <th id=\"T_ddb45_level0_row1\" class=\"row_heading level0 row1\" >cont0</th>\n",
       "                        <td id=\"T_ddb45_row1_col0\" class=\"data row1 col0\" >300000.000000</td>\n",
       "                        <td id=\"T_ddb45_row1_col1\" class=\"data row1 col1\" >0.527335</td>\n",
       "                        <td id=\"T_ddb45_row1_col2\" class=\"data row1 col2\" >0.230599</td>\n",
       "                        <td id=\"T_ddb45_row1_col3\" class=\"data row1 col3\" >-0.118039</td>\n",
       "                        <td id=\"T_ddb45_row1_col4\" class=\"data row1 col4\" >0.405965</td>\n",
       "                        <td id=\"T_ddb45_row1_col5\" class=\"data row1 col5\" >0.497053</td>\n",
       "                        <td id=\"T_ddb45_row1_col6\" class=\"data row1 col6\" >0.668060</td>\n",
       "                        <td id=\"T_ddb45_row1_col7\" class=\"data row1 col7\" >1.058443</td>\n",
       "            </tr>\n",
       "            <tr>\n",
       "                        <th id=\"T_ddb45_level0_row2\" class=\"row_heading level0 row2\" >cont1</th>\n",
       "                        <td id=\"T_ddb45_row2_col0\" class=\"data row2 col0\" >300000.000000</td>\n",
       "                        <td id=\"T_ddb45_row2_col1\" class=\"data row2 col1\" >0.460926</td>\n",
       "                        <td id=\"T_ddb45_row2_col2\" class=\"data row2 col2\" >0.214003</td>\n",
       "                        <td id=\"T_ddb45_row2_col3\" class=\"data row2 col3\" >-0.069309</td>\n",
       "                        <td id=\"T_ddb45_row2_col4\" class=\"data row2 col4\" >0.310494</td>\n",
       "                        <td id=\"T_ddb45_row2_col5\" class=\"data row2 col5\" >0.427903</td>\n",
       "                        <td id=\"T_ddb45_row2_col6\" class=\"data row2 col6\" >0.615113</td>\n",
       "                        <td id=\"T_ddb45_row2_col7\" class=\"data row2 col7\" >0.887253</td>\n",
       "            </tr>\n",
       "            <tr>\n",
       "                        <th id=\"T_ddb45_level0_row3\" class=\"row_heading level0 row3\" >cont2</th>\n",
       "                        <td id=\"T_ddb45_row3_col0\" class=\"data row3 col0\" >300000.000000</td>\n",
       "                        <td id=\"T_ddb45_row3_col1\" class=\"data row3 col1\" >0.490498</td>\n",
       "                        <td id=\"T_ddb45_row3_col2\" class=\"data row3 col2\" >0.253346</td>\n",
       "                        <td id=\"T_ddb45_row3_col3\" class=\"data row3 col3\" >-0.056104</td>\n",
       "                        <td id=\"T_ddb45_row3_col4\" class=\"data row3 col4\" >0.300604</td>\n",
       "                        <td id=\"T_ddb45_row3_col5\" class=\"data row3 col5\" >0.502462</td>\n",
       "                        <td id=\"T_ddb45_row3_col6\" class=\"data row3 col6\" >0.647512</td>\n",
       "                        <td id=\"T_ddb45_row3_col7\" class=\"data row3 col7\" >1.034704</td>\n",
       "            </tr>\n",
       "            <tr>\n",
       "                        <th id=\"T_ddb45_level0_row4\" class=\"row_heading level0 row4\" >cont3</th>\n",
       "                        <td id=\"T_ddb45_row4_col0\" class=\"data row4 col0\" >300000.000000</td>\n",
       "                        <td id=\"T_ddb45_row4_col1\" class=\"data row4 col1\" >0.496689</td>\n",
       "                        <td id=\"T_ddb45_row4_col2\" class=\"data row4 col2\" >0.219199</td>\n",
       "                        <td id=\"T_ddb45_row4_col3\" class=\"data row4 col3\" >0.130676</td>\n",
       "                        <td id=\"T_ddb45_row4_col4\" class=\"data row4 col4\" >0.329783</td>\n",
       "                        <td id=\"T_ddb45_row4_col5\" class=\"data row4 col5\" >0.465026</td>\n",
       "                        <td id=\"T_ddb45_row4_col6\" class=\"data row4 col6\" >0.664451</td>\n",
       "                        <td id=\"T_ddb45_row4_col7\" class=\"data row4 col7\" >1.039560</td>\n",
       "            </tr>\n",
       "            <tr>\n",
       "                        <th id=\"T_ddb45_level0_row5\" class=\"row_heading level0 row5\" >cont4</th>\n",
       "                        <td id=\"T_ddb45_row5_col0\" class=\"data row5 col0\" >300000.000000</td>\n",
       "                        <td id=\"T_ddb45_row5_col1\" class=\"data row5 col1\" >0.491654</td>\n",
       "                        <td id=\"T_ddb45_row5_col2\" class=\"data row5 col2\" >0.240074</td>\n",
       "                        <td id=\"T_ddb45_row5_col3\" class=\"data row5 col3\" >0.255908</td>\n",
       "                        <td id=\"T_ddb45_row5_col4\" class=\"data row5 col4\" >0.284188</td>\n",
       "                        <td id=\"T_ddb45_row5_col5\" class=\"data row5 col5\" >0.390470</td>\n",
       "                        <td id=\"T_ddb45_row5_col6\" class=\"data row5 col6\" >0.696599</td>\n",
       "                        <td id=\"T_ddb45_row5_col7\" class=\"data row5 col7\" >1.055424</td>\n",
       "            </tr>\n",
       "            <tr>\n",
       "                        <th id=\"T_ddb45_level0_row6\" class=\"row_heading level0 row6\" >cont5</th>\n",
       "                        <td id=\"T_ddb45_row6_col0\" class=\"data row6 col0\" >300000.000000</td>\n",
       "                        <td id=\"T_ddb45_row6_col1\" class=\"data row6 col1\" >0.510526</td>\n",
       "                        <td id=\"T_ddb45_row6_col2\" class=\"data row6 col2\" >0.228232</td>\n",
       "                        <td id=\"T_ddb45_row6_col3\" class=\"data row6 col3\" >0.045915</td>\n",
       "                        <td id=\"T_ddb45_row6_col4\" class=\"data row6 col4\" >0.354141</td>\n",
       "                        <td id=\"T_ddb45_row6_col5\" class=\"data row6 col5\" >0.488865</td>\n",
       "                        <td id=\"T_ddb45_row6_col6\" class=\"data row6 col6\" >0.669625</td>\n",
       "                        <td id=\"T_ddb45_row6_col7\" class=\"data row6 col7\" >1.067649</td>\n",
       "            </tr>\n",
       "            <tr>\n",
       "                        <th id=\"T_ddb45_level0_row7\" class=\"row_heading level0 row7\" >cont6</th>\n",
       "                        <td id=\"T_ddb45_row7_col0\" class=\"data row7 col0\" >300000.000000</td>\n",
       "                        <td id=\"T_ddb45_row7_col1\" class=\"data row7 col1\" >0.467476</td>\n",
       "                        <td id=\"T_ddb45_row7_col2\" class=\"data row7 col2\" >0.210331</td>\n",
       "                        <td id=\"T_ddb45_row7_col3\" class=\"data row7 col3\" >-0.224689</td>\n",
       "                        <td id=\"T_ddb45_row7_col4\" class=\"data row7 col4\" >0.342873</td>\n",
       "                        <td id=\"T_ddb45_row7_col5\" class=\"data row7 col5\" >0.429383</td>\n",
       "                        <td id=\"T_ddb45_row7_col6\" class=\"data row7 col6\" >0.573383</td>\n",
       "                        <td id=\"T_ddb45_row7_col7\" class=\"data row7 col7\" >1.111552</td>\n",
       "            </tr>\n",
       "            <tr>\n",
       "                        <th id=\"T_ddb45_level0_row8\" class=\"row_heading level0 row8\" >cont7</th>\n",
       "                        <td id=\"T_ddb45_row8_col0\" class=\"data row8 col0\" >300000.000000</td>\n",
       "                        <td id=\"T_ddb45_row8_col1\" class=\"data row8 col1\" >0.537119</td>\n",
       "                        <td id=\"T_ddb45_row8_col2\" class=\"data row8 col2\" >0.218140</td>\n",
       "                        <td id=\"T_ddb45_row8_col3\" class=\"data row8 col3\" >0.203763</td>\n",
       "                        <td id=\"T_ddb45_row8_col4\" class=\"data row8 col4\" >0.355825</td>\n",
       "                        <td id=\"T_ddb45_row8_col5\" class=\"data row8 col5\" >0.504661</td>\n",
       "                        <td id=\"T_ddb45_row8_col6\" class=\"data row8 col6\" >0.703441</td>\n",
       "                        <td id=\"T_ddb45_row8_col7\" class=\"data row8 col7\" >1.032837</td>\n",
       "            </tr>\n",
       "            <tr>\n",
       "                        <th id=\"T_ddb45_level0_row9\" class=\"row_heading level0 row9\" >cont8</th>\n",
       "                        <td id=\"T_ddb45_row9_col0\" class=\"data row9 col0\" >300000.000000</td>\n",
       "                        <td id=\"T_ddb45_row9_col1\" class=\"data row9 col1\" >0.498456</td>\n",
       "                        <td id=\"T_ddb45_row9_col2\" class=\"data row9 col2\" >0.239920</td>\n",
       "                        <td id=\"T_ddb45_row9_col3\" class=\"data row9 col3\" >-0.260275</td>\n",
       "                        <td id=\"T_ddb45_row9_col4\" class=\"data row9 col4\" >0.332486</td>\n",
       "                        <td id=\"T_ddb45_row9_col5\" class=\"data row9 col5\" >0.439151</td>\n",
       "                        <td id=\"T_ddb45_row9_col6\" class=\"data row9 col6\" >0.606056</td>\n",
       "                        <td id=\"T_ddb45_row9_col7\" class=\"data row9 col7\" >1.040229</td>\n",
       "            </tr>\n",
       "            <tr>\n",
       "                        <th id=\"T_ddb45_level0_row10\" class=\"row_heading level0 row10\" >cont9</th>\n",
       "                        <td id=\"T_ddb45_row10_col0\" class=\"data row10 col0\" >300000.000000</td>\n",
       "                        <td id=\"T_ddb45_row10_col1\" class=\"data row10 col1\" >0.474872</td>\n",
       "                        <td id=\"T_ddb45_row10_col2\" class=\"data row10 col2\" >0.218007</td>\n",
       "                        <td id=\"T_ddb45_row10_col3\" class=\"data row10 col3\" >0.117896</td>\n",
       "                        <td id=\"T_ddb45_row10_col4\" class=\"data row10 col4\" >0.306874</td>\n",
       "                        <td id=\"T_ddb45_row10_col5\" class=\"data row10 col5\" >0.434620</td>\n",
       "                        <td id=\"T_ddb45_row10_col6\" class=\"data row10 col6\" >0.614333</td>\n",
       "                        <td id=\"T_ddb45_row10_col7\" class=\"data row10 col7\" >0.982922</td>\n",
       "            </tr>\n",
       "            <tr>\n",
       "                        <th id=\"T_ddb45_level0_row11\" class=\"row_heading level0 row11\" >cont10</th>\n",
       "                        <td id=\"T_ddb45_row11_col0\" class=\"data row11 col0\" >300000.000000</td>\n",
       "                        <td id=\"T_ddb45_row11_col1\" class=\"data row11 col1\" >0.474492</td>\n",
       "                        <td id=\"T_ddb45_row11_col2\" class=\"data row11 col2\" >0.255949</td>\n",
       "                        <td id=\"T_ddb45_row11_col3\" class=\"data row11 col3\" >0.048732</td>\n",
       "                        <td id=\"T_ddb45_row11_col4\" class=\"data row11 col4\" >0.276017</td>\n",
       "                        <td id=\"T_ddb45_row11_col5\" class=\"data row11 col5\" >0.459975</td>\n",
       "                        <td id=\"T_ddb45_row11_col6\" class=\"data row11 col6\" >0.691579</td>\n",
       "                        <td id=\"T_ddb45_row11_col7\" class=\"data row11 col7\" >1.055960</td>\n",
       "            </tr>\n",
       "            <tr>\n",
       "                        <th id=\"T_ddb45_level0_row12\" class=\"row_heading level0 row12\" >cont11</th>\n",
       "                        <td id=\"T_ddb45_row12_col0\" class=\"data row12 col0\" >300000.000000</td>\n",
       "                        <td id=\"T_ddb45_row12_col1\" class=\"data row12 col1\" >0.473216</td>\n",
       "                        <td id=\"T_ddb45_row12_col2\" class=\"data row12 col2\" >0.222022</td>\n",
       "                        <td id=\"T_ddb45_row12_col3\" class=\"data row12 col3\" >0.052608</td>\n",
       "                        <td id=\"T_ddb45_row12_col4\" class=\"data row12 col4\" >0.308151</td>\n",
       "                        <td id=\"T_ddb45_row12_col5\" class=\"data row12 col5\" >0.433812</td>\n",
       "                        <td id=\"T_ddb45_row12_col6\" class=\"data row12 col6\" >0.642057</td>\n",
       "                        <td id=\"T_ddb45_row12_col7\" class=\"data row12 col7\" >1.071444</td>\n",
       "            </tr>\n",
       "            <tr>\n",
       "                        <th id=\"T_ddb45_level0_row13\" class=\"row_heading level0 row13\" >cont12</th>\n",
       "                        <td id=\"T_ddb45_row13_col0\" class=\"data row13 col0\" >300000.000000</td>\n",
       "                        <td id=\"T_ddb45_row13_col1\" class=\"data row13 col1\" >0.494561</td>\n",
       "                        <td id=\"T_ddb45_row13_col2\" class=\"data row13 col2\" >0.247292</td>\n",
       "                        <td id=\"T_ddb45_row13_col3\" class=\"data row13 col3\" >-0.074208</td>\n",
       "                        <td id=\"T_ddb45_row13_col4\" class=\"data row13 col4\" >0.289074</td>\n",
       "                        <td id=\"T_ddb45_row13_col5\" class=\"data row13 col5\" >0.422887</td>\n",
       "                        <td id=\"T_ddb45_row13_col6\" class=\"data row13 col6\" >0.714502</td>\n",
       "                        <td id=\"T_ddb45_row13_col7\" class=\"data row13 col7\" >0.975035</td>\n",
       "            </tr>\n",
       "            <tr>\n",
       "                        <th id=\"T_ddb45_level0_row14\" class=\"row_heading level0 row14\" >cont13</th>\n",
       "                        <td id=\"T_ddb45_row14_col0\" class=\"data row14 col0\" >300000.000000</td>\n",
       "                        <td id=\"T_ddb45_row14_col1\" class=\"data row14 col1\" >0.508273</td>\n",
       "                        <td id=\"T_ddb45_row14_col2\" class=\"data row14 col2\" >0.222950</td>\n",
       "                        <td id=\"T_ddb45_row14_col3\" class=\"data row14 col3\" >0.151050</td>\n",
       "                        <td id=\"T_ddb45_row14_col4\" class=\"data row14 col4\" >0.300669</td>\n",
       "                        <td id=\"T_ddb45_row14_col5\" class=\"data row14 col5\" >0.472400</td>\n",
       "                        <td id=\"T_ddb45_row14_col6\" class=\"data row14 col6\" >0.758447</td>\n",
       "                        <td id=\"T_ddb45_row14_col7\" class=\"data row14 col7\" >0.905992</td>\n",
       "            </tr>\n",
       "            <tr>\n",
       "                        <th id=\"T_ddb45_level0_row15\" class=\"row_heading level0 row15\" >target</th>\n",
       "                        <td id=\"T_ddb45_row15_col0\" class=\"data row15 col0\" >300000.000000</td>\n",
       "                        <td id=\"T_ddb45_row15_col1\" class=\"data row15 col1\" >8.241979</td>\n",
       "                        <td id=\"T_ddb45_row15_col2\" class=\"data row15 col2\" >0.746555</td>\n",
       "                        <td id=\"T_ddb45_row15_col3\" class=\"data row15 col3\" >0.140329</td>\n",
       "                        <td id=\"T_ddb45_row15_col4\" class=\"data row15 col4\" >7.742071</td>\n",
       "                        <td id=\"T_ddb45_row15_col5\" class=\"data row15 col5\" >8.191373</td>\n",
       "                        <td id=\"T_ddb45_row15_col6\" class=\"data row15 col6\" >8.728634</td>\n",
       "                        <td id=\"T_ddb45_row15_col7\" class=\"data row15 col7\" >10.411992</td>\n",
       "            </tr>\n",
       "            <tr>\n",
       "                        <th id=\"T_ddb45_level0_row16\" class=\"row_heading level0 row16\" >kfold</th>\n",
       "                        <td id=\"T_ddb45_row16_col0\" class=\"data row16 col0\" >300000.000000</td>\n",
       "                        <td id=\"T_ddb45_row16_col1\" class=\"data row16 col1\" >2.000000</td>\n",
       "                        <td id=\"T_ddb45_row16_col2\" class=\"data row16 col2\" >1.414216</td>\n",
       "                        <td id=\"T_ddb45_row16_col3\" class=\"data row16 col3\" >0.000000</td>\n",
       "                        <td id=\"T_ddb45_row16_col4\" class=\"data row16 col4\" >1.000000</td>\n",
       "                        <td id=\"T_ddb45_row16_col5\" class=\"data row16 col5\" >2.000000</td>\n",
       "                        <td id=\"T_ddb45_row16_col6\" class=\"data row16 col6\" >3.000000</td>\n",
       "                        <td id=\"T_ddb45_row16_col7\" class=\"data row16 col7\" >4.000000</td>\n",
       "            </tr>\n",
       "    </tbody></table>"
      ],
      "text/plain": [
       "<pandas.io.formats.style.Styler at 0x180ae331c40>"
      ]
     },
     "execution_count": 18,
     "metadata": {},
     "output_type": "execute_result"
    }
   ],
   "source": [
    "train.describe().T.style.background_gradient(subset=['50%'],cmap='PiYG')"
   ]
  },
  {
   "cell_type": "code",
   "execution_count": 12,
   "id": "acb24f1b",
   "metadata": {},
   "outputs": [
    {
     "data": {
      "text/html": [
       "<div>\n",
       "<style scoped>\n",
       "    .dataframe tbody tr th:only-of-type {\n",
       "        vertical-align: middle;\n",
       "    }\n",
       "\n",
       "    .dataframe tbody tr th {\n",
       "        vertical-align: top;\n",
       "    }\n",
       "\n",
       "    .dataframe thead th {\n",
       "        text-align: right;\n",
       "    }\n",
       "</style>\n",
       "<table border=\"1\" class=\"dataframe\">\n",
       "  <thead>\n",
       "    <tr style=\"text-align: right;\">\n",
       "      <th></th>\n",
       "      <th>cont0</th>\n",
       "      <th>cont1</th>\n",
       "      <th>cont2</th>\n",
       "      <th>cont3</th>\n",
       "      <th>cont4</th>\n",
       "      <th>cont5</th>\n",
       "      <th>cont6</th>\n",
       "      <th>cont7</th>\n",
       "      <th>cont8</th>\n",
       "      <th>cont9</th>\n",
       "      <th>cont10</th>\n",
       "      <th>cont11</th>\n",
       "      <th>cont12</th>\n",
       "      <th>cont13</th>\n",
       "      <th>target</th>\n",
       "    </tr>\n",
       "  </thead>\n",
       "  <tbody>\n",
       "    <tr>\n",
       "      <th>count</th>\n",
       "      <td>300000.000000</td>\n",
       "      <td>300000.000000</td>\n",
       "      <td>300000.000000</td>\n",
       "      <td>300000.000000</td>\n",
       "      <td>300000.000000</td>\n",
       "      <td>300000.000000</td>\n",
       "      <td>300000.000000</td>\n",
       "      <td>300000.000000</td>\n",
       "      <td>300000.000000</td>\n",
       "      <td>300000.000000</td>\n",
       "      <td>300000.000000</td>\n",
       "      <td>300000.000000</td>\n",
       "      <td>300000.000000</td>\n",
       "      <td>300000.000000</td>\n",
       "      <td>300000.000000</td>\n",
       "    </tr>\n",
       "    <tr>\n",
       "      <th>mean</th>\n",
       "      <td>0.527335</td>\n",
       "      <td>0.460926</td>\n",
       "      <td>0.490498</td>\n",
       "      <td>0.496689</td>\n",
       "      <td>0.491654</td>\n",
       "      <td>0.510526</td>\n",
       "      <td>0.467476</td>\n",
       "      <td>0.537119</td>\n",
       "      <td>0.498456</td>\n",
       "      <td>0.474872</td>\n",
       "      <td>0.474492</td>\n",
       "      <td>0.473216</td>\n",
       "      <td>0.494561</td>\n",
       "      <td>0.508273</td>\n",
       "      <td>8.241979</td>\n",
       "    </tr>\n",
       "    <tr>\n",
       "      <th>std</th>\n",
       "      <td>0.230599</td>\n",
       "      <td>0.214003</td>\n",
       "      <td>0.253346</td>\n",
       "      <td>0.219199</td>\n",
       "      <td>0.240074</td>\n",
       "      <td>0.228232</td>\n",
       "      <td>0.210331</td>\n",
       "      <td>0.218140</td>\n",
       "      <td>0.239920</td>\n",
       "      <td>0.218007</td>\n",
       "      <td>0.255949</td>\n",
       "      <td>0.222022</td>\n",
       "      <td>0.247292</td>\n",
       "      <td>0.222950</td>\n",
       "      <td>0.746555</td>\n",
       "    </tr>\n",
       "    <tr>\n",
       "      <th>min</th>\n",
       "      <td>-0.118039</td>\n",
       "      <td>-0.069309</td>\n",
       "      <td>-0.056104</td>\n",
       "      <td>0.130676</td>\n",
       "      <td>0.255908</td>\n",
       "      <td>0.045915</td>\n",
       "      <td>-0.224689</td>\n",
       "      <td>0.203763</td>\n",
       "      <td>-0.260275</td>\n",
       "      <td>0.117896</td>\n",
       "      <td>0.048732</td>\n",
       "      <td>0.052608</td>\n",
       "      <td>-0.074208</td>\n",
       "      <td>0.151050</td>\n",
       "      <td>0.140329</td>\n",
       "    </tr>\n",
       "    <tr>\n",
       "      <th>25%</th>\n",
       "      <td>0.405965</td>\n",
       "      <td>0.310494</td>\n",
       "      <td>0.300604</td>\n",
       "      <td>0.329783</td>\n",
       "      <td>0.284188</td>\n",
       "      <td>0.354141</td>\n",
       "      <td>0.342873</td>\n",
       "      <td>0.355825</td>\n",
       "      <td>0.332486</td>\n",
       "      <td>0.306874</td>\n",
       "      <td>0.276017</td>\n",
       "      <td>0.308151</td>\n",
       "      <td>0.289074</td>\n",
       "      <td>0.300669</td>\n",
       "      <td>7.742071</td>\n",
       "    </tr>\n",
       "    <tr>\n",
       "      <th>50%</th>\n",
       "      <td>0.497053</td>\n",
       "      <td>0.427903</td>\n",
       "      <td>0.502462</td>\n",
       "      <td>0.465026</td>\n",
       "      <td>0.390470</td>\n",
       "      <td>0.488865</td>\n",
       "      <td>0.429383</td>\n",
       "      <td>0.504661</td>\n",
       "      <td>0.439151</td>\n",
       "      <td>0.434620</td>\n",
       "      <td>0.459975</td>\n",
       "      <td>0.433812</td>\n",
       "      <td>0.422887</td>\n",
       "      <td>0.472400</td>\n",
       "      <td>8.191373</td>\n",
       "    </tr>\n",
       "    <tr>\n",
       "      <th>75%</th>\n",
       "      <td>0.668060</td>\n",
       "      <td>0.615113</td>\n",
       "      <td>0.647512</td>\n",
       "      <td>0.664451</td>\n",
       "      <td>0.696599</td>\n",
       "      <td>0.669625</td>\n",
       "      <td>0.573383</td>\n",
       "      <td>0.703441</td>\n",
       "      <td>0.606056</td>\n",
       "      <td>0.614333</td>\n",
       "      <td>0.691579</td>\n",
       "      <td>0.642057</td>\n",
       "      <td>0.714502</td>\n",
       "      <td>0.758447</td>\n",
       "      <td>8.728634</td>\n",
       "    </tr>\n",
       "    <tr>\n",
       "      <th>max</th>\n",
       "      <td>1.058443</td>\n",
       "      <td>0.887253</td>\n",
       "      <td>1.034704</td>\n",
       "      <td>1.039560</td>\n",
       "      <td>1.055424</td>\n",
       "      <td>1.067649</td>\n",
       "      <td>1.111552</td>\n",
       "      <td>1.032837</td>\n",
       "      <td>1.040229</td>\n",
       "      <td>0.982922</td>\n",
       "      <td>1.055960</td>\n",
       "      <td>1.071444</td>\n",
       "      <td>0.975035</td>\n",
       "      <td>0.905992</td>\n",
       "      <td>10.411992</td>\n",
       "    </tr>\n",
       "  </tbody>\n",
       "</table>\n",
       "</div>"
      ],
      "text/plain": [
       "               cont0          cont1          cont2          cont3  \\\n",
       "count  300000.000000  300000.000000  300000.000000  300000.000000   \n",
       "mean        0.527335       0.460926       0.490498       0.496689   \n",
       "std         0.230599       0.214003       0.253346       0.219199   \n",
       "min        -0.118039      -0.069309      -0.056104       0.130676   \n",
       "25%         0.405965       0.310494       0.300604       0.329783   \n",
       "50%         0.497053       0.427903       0.502462       0.465026   \n",
       "75%         0.668060       0.615113       0.647512       0.664451   \n",
       "max         1.058443       0.887253       1.034704       1.039560   \n",
       "\n",
       "               cont4          cont5          cont6          cont7  \\\n",
       "count  300000.000000  300000.000000  300000.000000  300000.000000   \n",
       "mean        0.491654       0.510526       0.467476       0.537119   \n",
       "std         0.240074       0.228232       0.210331       0.218140   \n",
       "min         0.255908       0.045915      -0.224689       0.203763   \n",
       "25%         0.284188       0.354141       0.342873       0.355825   \n",
       "50%         0.390470       0.488865       0.429383       0.504661   \n",
       "75%         0.696599       0.669625       0.573383       0.703441   \n",
       "max         1.055424       1.067649       1.111552       1.032837   \n",
       "\n",
       "               cont8          cont9         cont10         cont11  \\\n",
       "count  300000.000000  300000.000000  300000.000000  300000.000000   \n",
       "mean        0.498456       0.474872       0.474492       0.473216   \n",
       "std         0.239920       0.218007       0.255949       0.222022   \n",
       "min        -0.260275       0.117896       0.048732       0.052608   \n",
       "25%         0.332486       0.306874       0.276017       0.308151   \n",
       "50%         0.439151       0.434620       0.459975       0.433812   \n",
       "75%         0.606056       0.614333       0.691579       0.642057   \n",
       "max         1.040229       0.982922       1.055960       1.071444   \n",
       "\n",
       "              cont12         cont13         target  \n",
       "count  300000.000000  300000.000000  300000.000000  \n",
       "mean        0.494561       0.508273       8.241979  \n",
       "std         0.247292       0.222950       0.746555  \n",
       "min        -0.074208       0.151050       0.140329  \n",
       "25%         0.289074       0.300669       7.742071  \n",
       "50%         0.422887       0.472400       8.191373  \n",
       "75%         0.714502       0.758447       8.728634  \n",
       "max         0.975035       0.905992      10.411992  "
      ]
     },
     "execution_count": 12,
     "metadata": {},
     "output_type": "execute_result"
    }
   ],
   "source": [
    "train.describe()"
   ]
  },
  {
   "cell_type": "code",
   "execution_count": 18,
   "id": "c8f585c9",
   "metadata": {},
   "outputs": [],
   "source": [
    "## Dataset is well organized.\n",
    "## No outliers detected from description."
   ]
  },
  {
   "cell_type": "code",
   "execution_count": 15,
   "id": "598988a0",
   "metadata": {},
   "outputs": [
    {
     "name": "stdout",
     "output_type": "stream",
     "text": [
      "<class 'pandas.core.frame.DataFrame'>\n",
      "Int64Index: 300000 entries, 1 to 499999\n",
      "Data columns (total 25 columns):\n",
      " #   Column  Non-Null Count   Dtype  \n",
      "---  ------  --------------   -----  \n",
      " 0   cat0    300000 non-null  object \n",
      " 1   cat1    300000 non-null  object \n",
      " 2   cat2    300000 non-null  object \n",
      " 3   cat3    300000 non-null  object \n",
      " 4   cat4    300000 non-null  object \n",
      " 5   cat5    300000 non-null  object \n",
      " 6   cat6    300000 non-null  object \n",
      " 7   cat7    300000 non-null  object \n",
      " 8   cat8    300000 non-null  object \n",
      " 9   cat9    300000 non-null  object \n",
      " 10  cont0   300000 non-null  float64\n",
      " 11  cont1   300000 non-null  float64\n",
      " 12  cont2   300000 non-null  float64\n",
      " 13  cont3   300000 non-null  float64\n",
      " 14  cont4   300000 non-null  float64\n",
      " 15  cont5   300000 non-null  float64\n",
      " 16  cont6   300000 non-null  float64\n",
      " 17  cont7   300000 non-null  float64\n",
      " 18  cont8   300000 non-null  float64\n",
      " 19  cont9   300000 non-null  float64\n",
      " 20  cont10  300000 non-null  float64\n",
      " 21  cont11  300000 non-null  float64\n",
      " 22  cont12  300000 non-null  float64\n",
      " 23  cont13  300000 non-null  float64\n",
      " 24  target  300000 non-null  float64\n",
      "dtypes: float64(15), object(10)\n",
      "memory usage: 59.5+ MB\n"
     ]
    }
   ],
   "source": [
    "train.info()"
   ]
  },
  {
   "cell_type": "code",
   "execution_count": 16,
   "id": "b9acb2bd",
   "metadata": {},
   "outputs": [
    {
     "data": {
      "text/plain": [
       "cat0      0\n",
       "cat1      0\n",
       "cat2      0\n",
       "cat3      0\n",
       "cat4      0\n",
       "cat5      0\n",
       "cat6      0\n",
       "cat7      0\n",
       "cat8      0\n",
       "cat9      0\n",
       "cont0     0\n",
       "cont1     0\n",
       "cont2     0\n",
       "cont3     0\n",
       "cont4     0\n",
       "cont5     0\n",
       "cont6     0\n",
       "cont7     0\n",
       "cont8     0\n",
       "cont9     0\n",
       "cont10    0\n",
       "cont11    0\n",
       "cont12    0\n",
       "cont13    0\n",
       "target    0\n",
       "dtype: int64"
      ]
     },
     "execution_count": 16,
     "metadata": {},
     "output_type": "execute_result"
    }
   ],
   "source": [
    "train.isnull().sum()"
   ]
  },
  {
   "cell_type": "code",
   "execution_count": 17,
   "id": "590cbfce",
   "metadata": {},
   "outputs": [],
   "source": [
    "## Data has no null value."
   ]
  },
  {
   "cell_type": "code",
   "execution_count": 22,
   "id": "b0683ef0",
   "metadata": {},
   "outputs": [],
   "source": [
    "train.drop(['id'],axis=1,inplace=True)"
   ]
  },
  {
   "cell_type": "code",
   "execution_count": 25,
   "id": "de3128ab",
   "metadata": {},
   "outputs": [],
   "source": [
    "columns_to_consider=[col for col in train.columns if col not in ['target','kfold']]"
   ]
  },
  {
   "cell_type": "code",
   "execution_count": 28,
   "id": "d891c33f",
   "metadata": {},
   "outputs": [],
   "source": [
    "num_feat=[feat for feat in columns_to_consider if train[feat].dtypes!='O']\n",
    "cat_feat=[feat for feat in columns_to_consider if train[feat].dtypes=='O']"
   ]
  },
  {
   "cell_type": "code",
   "execution_count": 29,
   "id": "986ac3e5",
   "metadata": {},
   "outputs": [
    {
     "name": "stdout",
     "output_type": "stream",
     "text": [
      "['cont0', 'cont1', 'cont2', 'cont3', 'cont4', 'cont5', 'cont6', 'cont7', 'cont8', 'cont9', 'cont10', 'cont11', 'cont12', 'cont13']\n",
      "['cat0', 'cat1', 'cat2', 'cat3', 'cat4', 'cat5', 'cat6', 'cat7', 'cat8', 'cat9']\n"
     ]
    }
   ],
   "source": [
    "print(num_feat)\n",
    "print(cat_feat)"
   ]
  },
  {
   "cell_type": "code",
   "execution_count": null,
   "id": "4a4aaebf",
   "metadata": {},
   "outputs": [],
   "source": []
  },
  {
   "cell_type": "code",
   "execution_count": 40,
   "id": "9029ada8",
   "metadata": {
    "scrolled": false
   },
   "outputs": [
    {
     "data": {
      "image/png": "[encoded data removed]",
      "text/plain": [
       "<Figure size 1152x360 with 1 Axes>"
      ]
     },
     "metadata": {
      "needs_background": "light"
     },
     "output_type": "display_data"
    },
    {
     "data": {
      "image/png": "[encoded data removed]",
      "text/plain": [
       "<Figure size 1152x360 with 1 Axes>"
      ]
     },
     "metadata": {
      "needs_background": "light"
     },
     "output_type": "display_data"
    }
   ],
   "source": [
    "# Lets see how different columns are distributed.\n",
    "plt.figure(figsize=(16,5))\n",
    "train.iloc[:,:-1].boxplot()\n",
    "plt.title('Raw Distribution of Data',fontsize=15)\n",
    "plt.show()\n",
    "\n",
    "plt.figure(figsize=(16,5))\n",
    "np.log(train[num_feat].iloc[:,:-1]).boxplot()\n",
    "plt.title('Log Distribution of Data',fontsize=15)\n",
    "plt.show()"
   ]
  },
  {
   "cell_type": "code",
   "execution_count": 26,
   "id": "6321b3b4",
   "metadata": {},
   "outputs": [],
   "source": [
    "## There are few Outliers in cont0,cont6,cont8.\n"
   ]
  },
  {
   "cell_type": "code",
   "execution_count": 31,
   "id": "6050fcba",
   "metadata": {},
   "outputs": [
    {
     "data": {
      "text/plain": [
       "[('cat0', 2),\n",
       " ('cat1', 2),\n",
       " ('cat2', 2),\n",
       " ('cat3', 4),\n",
       " ('cat4', 4),\n",
       " ('cat5', 4),\n",
       " ('cat8', 7),\n",
       " ('cat6', 8),\n",
       " ('cat7', 8),\n",
       " ('cat9', 15)]"
      ]
     },
     "execution_count": 31,
     "metadata": {},
     "output_type": "execute_result"
    }
   ],
   "source": [
    "## No of unique values in each categorical columns.\n",
    "cat_nunique= list(map(lambda col: train[col].nunique(),cat_feat))\n",
    "d= dict(zip(cat_feat,cat_nunique))\n",
    "sorted(d.items(),key= lambda x: x[1])"
   ]
  },
  {
   "cell_type": "code",
   "execution_count": 12,
   "id": "6404b833",
   "metadata": {},
   "outputs": [],
   "source": [
    "df=train.copy()"
   ]
  },
  {
   "cell_type": "code",
   "execution_count": 13,
   "id": "74d126c9",
   "metadata": {},
   "outputs": [],
   "source": [
    "## Our target variable is target\n",
    "X=df.drop('target',axis=1)\n",
    "y=df['target']"
   ]
  },
  {
   "cell_type": "code",
   "execution_count": 35,
   "id": "25b1c627",
   "metadata": {},
   "outputs": [
    {
     "data": {
      "text/plain": [
       "((300000, 24), (300000,))"
      ]
     },
     "execution_count": 35,
     "metadata": {},
     "output_type": "execute_result"
    }
   ],
   "source": [
    "X.shape,y.shape"
   ]
  },
  {
   "cell_type": "code",
   "execution_count": 22,
   "id": "bfd31712",
   "metadata": {},
   "outputs": [
    {
     "data": {
      "text/html": [
       "<div>\n",
       "<style scoped>\n",
       "    .dataframe tbody tr th:only-of-type {\n",
       "        vertical-align: middle;\n",
       "    }\n",
       "\n",
       "    .dataframe tbody tr th {\n",
       "        vertical-align: top;\n",
       "    }\n",
       "\n",
       "    .dataframe thead th {\n",
       "        text-align: right;\n",
       "    }\n",
       "</style>\n",
       "<table border=\"1\" class=\"dataframe\">\n",
       "  <thead>\n",
       "    <tr style=\"text-align: right;\">\n",
       "      <th></th>\n",
       "      <th>cat0</th>\n",
       "      <th>cat1</th>\n",
       "      <th>cat2</th>\n",
       "      <th>cat3</th>\n",
       "      <th>cat4</th>\n",
       "      <th>cat5</th>\n",
       "      <th>cat6</th>\n",
       "      <th>cat7</th>\n",
       "      <th>cat8</th>\n",
       "      <th>cat9</th>\n",
       "      <th>cont0</th>\n",
       "      <th>cont1</th>\n",
       "      <th>cont2</th>\n",
       "      <th>cont3</th>\n",
       "      <th>cont4</th>\n",
       "      <th>cont5</th>\n",
       "      <th>cont6</th>\n",
       "      <th>cont7</th>\n",
       "      <th>cont8</th>\n",
       "      <th>cont9</th>\n",
       "      <th>cont10</th>\n",
       "      <th>cont11</th>\n",
       "      <th>cont12</th>\n",
       "      <th>cont13</th>\n",
       "    </tr>\n",
       "    <tr>\n",
       "      <th>id</th>\n",
       "      <th></th>\n",
       "      <th></th>\n",
       "      <th></th>\n",
       "      <th></th>\n",
       "      <th></th>\n",
       "      <th></th>\n",
       "      <th></th>\n",
       "      <th></th>\n",
       "      <th></th>\n",
       "      <th></th>\n",
       "      <th></th>\n",
       "      <th></th>\n",
       "      <th></th>\n",
       "      <th></th>\n",
       "      <th></th>\n",
       "      <th></th>\n",
       "      <th></th>\n",
       "      <th></th>\n",
       "      <th></th>\n",
       "      <th></th>\n",
       "      <th></th>\n",
       "      <th></th>\n",
       "      <th></th>\n",
       "      <th></th>\n",
       "    </tr>\n",
       "  </thead>\n",
       "  <tbody>\n",
       "    <tr>\n",
       "      <th>1</th>\n",
       "      <td>B</td>\n",
       "      <td>B</td>\n",
       "      <td>B</td>\n",
       "      <td>C</td>\n",
       "      <td>B</td>\n",
       "      <td>B</td>\n",
       "      <td>A</td>\n",
       "      <td>E</td>\n",
       "      <td>C</td>\n",
       "      <td>N</td>\n",
       "      <td>0.201470</td>\n",
       "      <td>-0.014822</td>\n",
       "      <td>0.669699</td>\n",
       "      <td>0.136278</td>\n",
       "      <td>0.610706</td>\n",
       "      <td>0.400361</td>\n",
       "      <td>0.160266</td>\n",
       "      <td>0.310921</td>\n",
       "      <td>0.389470</td>\n",
       "      <td>0.267559</td>\n",
       "      <td>0.237281</td>\n",
       "      <td>0.377873</td>\n",
       "      <td>0.322401</td>\n",
       "      <td>0.869850</td>\n",
       "    </tr>\n",
       "    <tr>\n",
       "      <th>2</th>\n",
       "      <td>B</td>\n",
       "      <td>B</td>\n",
       "      <td>A</td>\n",
       "      <td>A</td>\n",
       "      <td>B</td>\n",
       "      <td>D</td>\n",
       "      <td>A</td>\n",
       "      <td>F</td>\n",
       "      <td>A</td>\n",
       "      <td>O</td>\n",
       "      <td>0.743068</td>\n",
       "      <td>0.367411</td>\n",
       "      <td>1.021605</td>\n",
       "      <td>0.365798</td>\n",
       "      <td>0.276853</td>\n",
       "      <td>0.533087</td>\n",
       "      <td>0.558922</td>\n",
       "      <td>0.516294</td>\n",
       "      <td>0.594928</td>\n",
       "      <td>0.341439</td>\n",
       "      <td>0.906013</td>\n",
       "      <td>0.921701</td>\n",
       "      <td>0.261975</td>\n",
       "      <td>0.465083</td>\n",
       "    </tr>\n",
       "    <tr>\n",
       "      <th>3</th>\n",
       "      <td>A</td>\n",
       "      <td>A</td>\n",
       "      <td>A</td>\n",
       "      <td>C</td>\n",
       "      <td>B</td>\n",
       "      <td>D</td>\n",
       "      <td>A</td>\n",
       "      <td>D</td>\n",
       "      <td>A</td>\n",
       "      <td>F</td>\n",
       "      <td>0.742708</td>\n",
       "      <td>0.310383</td>\n",
       "      <td>-0.012673</td>\n",
       "      <td>0.576957</td>\n",
       "      <td>0.285074</td>\n",
       "      <td>0.650609</td>\n",
       "      <td>0.375348</td>\n",
       "      <td>0.902567</td>\n",
       "      <td>0.555205</td>\n",
       "      <td>0.843531</td>\n",
       "      <td>0.748809</td>\n",
       "      <td>0.620126</td>\n",
       "      <td>0.541474</td>\n",
       "      <td>0.763846</td>\n",
       "    </tr>\n",
       "    <tr>\n",
       "      <th>4</th>\n",
       "      <td>B</td>\n",
       "      <td>B</td>\n",
       "      <td>A</td>\n",
       "      <td>C</td>\n",
       "      <td>B</td>\n",
       "      <td>D</td>\n",
       "      <td>A</td>\n",
       "      <td>E</td>\n",
       "      <td>C</td>\n",
       "      <td>K</td>\n",
       "      <td>0.429551</td>\n",
       "      <td>0.620998</td>\n",
       "      <td>0.577942</td>\n",
       "      <td>0.280610</td>\n",
       "      <td>0.284667</td>\n",
       "      <td>0.668980</td>\n",
       "      <td>0.239061</td>\n",
       "      <td>0.732948</td>\n",
       "      <td>0.679618</td>\n",
       "      <td>0.574844</td>\n",
       "      <td>0.346010</td>\n",
       "      <td>0.714610</td>\n",
       "      <td>0.540150</td>\n",
       "      <td>0.280682</td>\n",
       "    </tr>\n",
       "    <tr>\n",
       "      <th>6</th>\n",
       "      <td>A</td>\n",
       "      <td>A</td>\n",
       "      <td>A</td>\n",
       "      <td>C</td>\n",
       "      <td>B</td>\n",
       "      <td>D</td>\n",
       "      <td>A</td>\n",
       "      <td>E</td>\n",
       "      <td>A</td>\n",
       "      <td>N</td>\n",
       "      <td>1.058291</td>\n",
       "      <td>0.367492</td>\n",
       "      <td>-0.052389</td>\n",
       "      <td>0.232407</td>\n",
       "      <td>0.287595</td>\n",
       "      <td>0.686964</td>\n",
       "      <td>0.420667</td>\n",
       "      <td>0.648182</td>\n",
       "      <td>0.684501</td>\n",
       "      <td>0.956692</td>\n",
       "      <td>1.000773</td>\n",
       "      <td>0.776742</td>\n",
       "      <td>0.625849</td>\n",
       "      <td>0.250823</td>\n",
       "    </tr>\n",
       "  </tbody>\n",
       "</table>\n",
       "</div>"
      ],
      "text/plain": [
       "   cat0 cat1 cat2 cat3 cat4 cat5 cat6 cat7 cat8 cat9     cont0     cont1  \\\n",
       "id                                                                         \n",
       "1     B    B    B    C    B    B    A    E    C    N  0.201470 -0.014822   \n",
       "2     B    B    A    A    B    D    A    F    A    O  0.743068  0.367411   \n",
       "3     A    A    A    C    B    D    A    D    A    F  0.742708  0.310383   \n",
       "4     B    B    A    C    B    D    A    E    C    K  0.429551  0.620998   \n",
       "6     A    A    A    C    B    D    A    E    A    N  1.058291  0.367492   \n",
       "\n",
       "       cont2     cont3     cont4     cont5     cont6     cont7     cont8  \\\n",
       "id                                                                         \n",
       "1   0.669699  0.136278  0.610706  0.400361  0.160266  0.310921  0.389470   \n",
       "2   1.021605  0.365798  0.276853  0.533087  0.558922  0.516294  0.594928   \n",
       "3  -0.012673  0.576957  0.285074  0.650609  0.375348  0.902567  0.555205   \n",
       "4   0.577942  0.280610  0.284667  0.668980  0.239061  0.732948  0.679618   \n",
       "6  -0.052389  0.232407  0.287595  0.686964  0.420667  0.648182  0.684501   \n",
       "\n",
       "       cont9    cont10    cont11    cont12    cont13  \n",
       "id                                                    \n",
       "1   0.267559  0.237281  0.377873  0.322401  0.869850  \n",
       "2   0.341439  0.906013  0.921701  0.261975  0.465083  \n",
       "3   0.843531  0.748809  0.620126  0.541474  0.763846  \n",
       "4   0.574844  0.346010  0.714610  0.540150  0.280682  \n",
       "6   0.956692  1.000773  0.776742  0.625849  0.250823  "
      ]
     },
     "execution_count": 22,
     "metadata": {},
     "output_type": "execute_result"
    }
   ],
   "source": [
    "X.head(5)"
   ]
  },
  {
   "cell_type": "markdown",
   "id": "e1fcd35d",
   "metadata": {},
   "source": [
    "## Data Visualization"
   ]
  },
  {
   "cell_type": "code",
   "execution_count": 36,
   "id": "3ef7f3dc",
   "metadata": {},
   "outputs": [
    {
     "data": {
      "image/png": "[encoded data removed]",
      "text/plain": [
       "<Figure size 360x360 with 1 Axes>"
      ]
     },
     "metadata": {
      "needs_background": "light"
     },
     "output_type": "display_data"
    },
    {
     "data": {
      "image/png": "[encoded data removed]",
      "text/plain": [
       "<Figure size 360x360 with 1 Axes>"
      ]
     },
     "metadata": {
      "needs_background": "light"
     },
     "output_type": "display_data"
    },
    {
     "data": {
      "image/png": "[encoded data removed]",
      "text/plain": [
       "<Figure size 360x360 with 1 Axes>"
      ]
     },
     "metadata": {
      "needs_background": "light"
     },
     "output_type": "display_data"
    },
    {
     "data": {
      "image/png": "[encoded data removed]",
      "text/plain": [
       "<Figure size 360x360 with 1 Axes>"
      ]
     },
     "metadata": {
      "needs_background": "light"
     },
     "output_type": "display_data"
    },
    {
     "data": {
      "image/png": "[encoded data removed]",
      "text/plain": [
       "<Figure size 360x360 with 1 Axes>"
      ]
     },
     "metadata": {
      "needs_background": "light"
     },
     "output_type": "display_data"
    },
    {
     "data": {
      "image/png": "[encoded data removed]",
      "text/plain": [
       "<Figure size 360x360 with 1 Axes>"
      ]
     },
     "metadata": {
      "needs_background": "light"
     },
     "output_type": "display_data"
    },
    {
     "data": {
      "image/png": "[encoded data removed]",
      "text/plain": [
       "<Figure size 360x360 with 1 Axes>"
      ]
     },
     "metadata": {
      "needs_background": "light"
     },
     "output_type": "display_data"
    },
    {
     "data": {
      "image/png": "[encoded data removed]",
      "text/plain": [
       "<Figure size 360x360 with 1 Axes>"
      ]
     },
     "metadata": {
      "needs_background": "light"
     },
     "output_type": "display_data"
    },
    {
     "data": {
      "image/png": "[encoded data removed]",
      "text/plain": [
       "<Figure size 360x360 with 1 Axes>"
      ]
     },
     "metadata": {
      "needs_background": "light"
     },
     "output_type": "display_data"
    },
    {
     "data": {
      "image/png": "[encoded data removed]",
      "text/plain": [
       "<Figure size 360x360 with 1 Axes>"
      ]
     },
     "metadata": {
      "needs_background": "light"
     },
     "output_type": "display_data"
    },
    {
     "data": {
      "image/png": "[encoded data removed]",
      "text/plain": [
       "<Figure size 360x360 with 1 Axes>"
      ]
     },
     "metadata": {
      "needs_background": "light"
     },
     "output_type": "display_data"
    },
    {
     "data": {
      "image/png": "[encoded data removed]",
      "text/plain": [
       "<Figure size 360x360 with 1 Axes>"
      ]
     },
     "metadata": {
      "needs_background": "light"
     },
     "output_type": "display_data"
    },
    {
     "data": {
      "image/png": "[encoded data removed]",
      "text/plain": [
       "<Figure size 360x360 with 1 Axes>"
      ]
     },
     "metadata": {
      "needs_background": "light"
     },
     "output_type": "display_data"
    },
    {
     "data": {
      "image/png": "[encoded data removed]",
      "text/plain": [
       "<Figure size 360x360 with 1 Axes>"
      ]
     },
     "metadata": {
      "needs_background": "light"
     },
     "output_type": "display_data"
    },
    {
     "data": {
      "image/png": "[encoded data removed]",
      "text/plain": [
       "<Figure size 360x360 with 1 Axes>"
      ]
     },
     "metadata": {
      "needs_background": "light"
     },
     "output_type": "display_data"
    }
   ],
   "source": [
    "for feat in num_feat:\n",
    "    sns.displot(data=df[feat],bins=10)\n",
    "    plt.show()"
   ]
  },
  {
   "cell_type": "code",
   "execution_count": 42,
   "id": "b6dcf6cd",
   "metadata": {
    "scrolled": false
   },
   "outputs": [
    {
     "data": {
      "image/png": "[encoded data removed]",
      "text/plain": [
       "<Figure size 432x288 with 1 Axes>"
      ]
     },
     "metadata": {
      "needs_background": "light"
     },
     "output_type": "display_data"
    },
    {
     "data": {
      "image/png": "[encoded data removed]",
      "text/plain": [
       "<Figure size 432x288 with 1 Axes>"
      ]
     },
     "metadata": {
      "needs_background": "light"
     },
     "output_type": "display_data"
    },
    {
     "data": {
      "image/png": "[encoded data removed]",
      "text/plain": [
       "<Figure size 432x288 with 1 Axes>"
      ]
     },
     "metadata": {
      "needs_background": "light"
     },
     "output_type": "display_data"
    },
    {
     "data": {
      "image/png": "[encoded data removed]",
      "text/plain": [
       "<Figure size 432x288 with 1 Axes>"
      ]
     },
     "metadata": {
      "needs_background": "light"
     },
     "output_type": "display_data"
    },
    {
     "data": {
      "image/png": "[encoded data removed]",
      "text/plain": [
       "<Figure size 432x288 with 1 Axes>"
      ]
     },
     "metadata": {
      "needs_background": "light"
     },
     "output_type": "display_data"
    },
    {
     "data": {
      "image/png": "[encoded data removed]",
      "text/plain": [
       "<Figure size 432x288 with 1 Axes>"
      ]
     },
     "metadata": {
      "needs_background": "light"
     },
     "output_type": "display_data"
    },
    {
     "data": {
      "image/png": "[encoded data removed]",
      "text/plain": [
       "<Figure size 432x288 with 1 Axes>"
      ]
     },
     "metadata": {
      "needs_background": "light"
     },
     "output_type": "display_data"
    },
    {
     "data": {
      "image/png": "[encoded data removed]",
      "text/plain": [
       "<Figure size 432x288 with 1 Axes>"
      ]
     },
     "metadata": {
      "needs_background": "light"
     },
     "output_type": "display_data"
    },
    {
     "data": {
      "image/png": "[encoded data removed]",
      "text/plain": [
       "<Figure size 432x288 with 1 Axes>"
      ]
     },
     "metadata": {
      "needs_background": "light"
     },
     "output_type": "display_data"
    },
    {
     "data": {
      "image/png": "[encoded data removed]",
      "text/plain": [
       "<Figure size 432x288 with 1 Axes>"
      ]
     },
     "metadata": {
      "needs_background": "light"
     },
     "output_type": "display_data"
    }
   ],
   "source": [
    "for feat in cat_feat:\n",
    "    sns.countplot(x=feat,data=train)\n",
    "    plt.show()"
   ]
  },
  {
   "cell_type": "code",
   "execution_count": 31,
   "id": "0bf32333",
   "metadata": {},
   "outputs": [],
   "source": [
    "test=pd.read_csv('test.csv',index_col='id')"
   ]
  },
  {
   "cell_type": "code",
   "execution_count": 32,
   "id": "dc72d519",
   "metadata": {},
   "outputs": [
    {
     "data": {
      "text/html": [
       "<div>\n",
       "<style scoped>\n",
       "    .dataframe tbody tr th:only-of-type {\n",
       "        vertical-align: middle;\n",
       "    }\n",
       "\n",
       "    .dataframe tbody tr th {\n",
       "        vertical-align: top;\n",
       "    }\n",
       "\n",
       "    .dataframe thead th {\n",
       "        text-align: right;\n",
       "    }\n",
       "</style>\n",
       "<table border=\"1\" class=\"dataframe\">\n",
       "  <thead>\n",
       "    <tr style=\"text-align: right;\">\n",
       "      <th></th>\n",
       "      <th>cat0</th>\n",
       "      <th>cat1</th>\n",
       "      <th>cat2</th>\n",
       "      <th>cat3</th>\n",
       "      <th>cat4</th>\n",
       "      <th>cat5</th>\n",
       "      <th>cat6</th>\n",
       "      <th>cat7</th>\n",
       "      <th>cat8</th>\n",
       "      <th>cat9</th>\n",
       "      <th>cont0</th>\n",
       "      <th>cont1</th>\n",
       "      <th>cont2</th>\n",
       "      <th>cont3</th>\n",
       "      <th>cont4</th>\n",
       "      <th>cont5</th>\n",
       "      <th>cont6</th>\n",
       "      <th>cont7</th>\n",
       "      <th>cont8</th>\n",
       "      <th>cont9</th>\n",
       "      <th>cont10</th>\n",
       "      <th>cont11</th>\n",
       "      <th>cont12</th>\n",
       "      <th>cont13</th>\n",
       "    </tr>\n",
       "    <tr>\n",
       "      <th>id</th>\n",
       "      <th></th>\n",
       "      <th></th>\n",
       "      <th></th>\n",
       "      <th></th>\n",
       "      <th></th>\n",
       "      <th></th>\n",
       "      <th></th>\n",
       "      <th></th>\n",
       "      <th></th>\n",
       "      <th></th>\n",
       "      <th></th>\n",
       "      <th></th>\n",
       "      <th></th>\n",
       "      <th></th>\n",
       "      <th></th>\n",
       "      <th></th>\n",
       "      <th></th>\n",
       "      <th></th>\n",
       "      <th></th>\n",
       "      <th></th>\n",
       "      <th></th>\n",
       "      <th></th>\n",
       "      <th></th>\n",
       "      <th></th>\n",
       "    </tr>\n",
       "  </thead>\n",
       "  <tbody>\n",
       "    <tr>\n",
       "      <th>0</th>\n",
       "      <td>B</td>\n",
       "      <td>B</td>\n",
       "      <td>B</td>\n",
       "      <td>C</td>\n",
       "      <td>B</td>\n",
       "      <td>B</td>\n",
       "      <td>A</td>\n",
       "      <td>E</td>\n",
       "      <td>E</td>\n",
       "      <td>I</td>\n",
       "      <td>0.296227</td>\n",
       "      <td>0.686757</td>\n",
       "      <td>0.587731</td>\n",
       "      <td>0.392753</td>\n",
       "      <td>0.476739</td>\n",
       "      <td>0.376350</td>\n",
       "      <td>0.337884</td>\n",
       "      <td>0.321832</td>\n",
       "      <td>0.445212</td>\n",
       "      <td>0.290258</td>\n",
       "      <td>0.244476</td>\n",
       "      <td>0.087914</td>\n",
       "      <td>0.301831</td>\n",
       "      <td>0.845702</td>\n",
       "    </tr>\n",
       "    <tr>\n",
       "      <th>5</th>\n",
       "      <td>A</td>\n",
       "      <td>B</td>\n",
       "      <td>A</td>\n",
       "      <td>C</td>\n",
       "      <td>B</td>\n",
       "      <td>C</td>\n",
       "      <td>A</td>\n",
       "      <td>E</td>\n",
       "      <td>C</td>\n",
       "      <td>H</td>\n",
       "      <td>0.543707</td>\n",
       "      <td>0.364761</td>\n",
       "      <td>0.452967</td>\n",
       "      <td>0.929645</td>\n",
       "      <td>0.285509</td>\n",
       "      <td>0.860046</td>\n",
       "      <td>0.798712</td>\n",
       "      <td>0.835961</td>\n",
       "      <td>0.391657</td>\n",
       "      <td>0.288276</td>\n",
       "      <td>0.549568</td>\n",
       "      <td>0.905097</td>\n",
       "      <td>0.850684</td>\n",
       "      <td>0.693940</td>\n",
       "    </tr>\n",
       "    <tr>\n",
       "      <th>15</th>\n",
       "      <td>B</td>\n",
       "      <td>A</td>\n",
       "      <td>A</td>\n",
       "      <td>A</td>\n",
       "      <td>B</td>\n",
       "      <td>B</td>\n",
       "      <td>A</td>\n",
       "      <td>E</td>\n",
       "      <td>D</td>\n",
       "      <td>K</td>\n",
       "      <td>0.408961</td>\n",
       "      <td>0.296129</td>\n",
       "      <td>0.690999</td>\n",
       "      <td>0.740027</td>\n",
       "      <td>0.697272</td>\n",
       "      <td>0.683600</td>\n",
       "      <td>0.404089</td>\n",
       "      <td>0.879379</td>\n",
       "      <td>0.275549</td>\n",
       "      <td>0.427871</td>\n",
       "      <td>0.491667</td>\n",
       "      <td>0.384315</td>\n",
       "      <td>0.376689</td>\n",
       "      <td>0.508099</td>\n",
       "    </tr>\n",
       "    <tr>\n",
       "      <th>16</th>\n",
       "      <td>B</td>\n",
       "      <td>B</td>\n",
       "      <td>A</td>\n",
       "      <td>C</td>\n",
       "      <td>B</td>\n",
       "      <td>D</td>\n",
       "      <td>A</td>\n",
       "      <td>E</td>\n",
       "      <td>A</td>\n",
       "      <td>N</td>\n",
       "      <td>1.031239</td>\n",
       "      <td>0.356062</td>\n",
       "      <td>0.303651</td>\n",
       "      <td>0.895591</td>\n",
       "      <td>0.719306</td>\n",
       "      <td>0.777890</td>\n",
       "      <td>0.730954</td>\n",
       "      <td>0.644315</td>\n",
       "      <td>1.024017</td>\n",
       "      <td>0.391090</td>\n",
       "      <td>0.988340</td>\n",
       "      <td>0.411828</td>\n",
       "      <td>0.393585</td>\n",
       "      <td>0.461372</td>\n",
       "    </tr>\n",
       "    <tr>\n",
       "      <th>17</th>\n",
       "      <td>B</td>\n",
       "      <td>B</td>\n",
       "      <td>A</td>\n",
       "      <td>C</td>\n",
       "      <td>B</td>\n",
       "      <td>C</td>\n",
       "      <td>A</td>\n",
       "      <td>E</td>\n",
       "      <td>C</td>\n",
       "      <td>F</td>\n",
       "      <td>0.530447</td>\n",
       "      <td>0.729004</td>\n",
       "      <td>0.281723</td>\n",
       "      <td>0.444698</td>\n",
       "      <td>0.313032</td>\n",
       "      <td>0.431007</td>\n",
       "      <td>0.390992</td>\n",
       "      <td>0.408874</td>\n",
       "      <td>0.447887</td>\n",
       "      <td>0.390253</td>\n",
       "      <td>0.648932</td>\n",
       "      <td>0.385935</td>\n",
       "      <td>0.370401</td>\n",
       "      <td>0.900412</td>\n",
       "    </tr>\n",
       "  </tbody>\n",
       "</table>\n",
       "</div>"
      ],
      "text/plain": [
       "   cat0 cat1 cat2 cat3 cat4 cat5 cat6 cat7 cat8 cat9     cont0     cont1  \\\n",
       "id                                                                         \n",
       "0     B    B    B    C    B    B    A    E    E    I  0.296227  0.686757   \n",
       "5     A    B    A    C    B    C    A    E    C    H  0.543707  0.364761   \n",
       "15    B    A    A    A    B    B    A    E    D    K  0.408961  0.296129   \n",
       "16    B    B    A    C    B    D    A    E    A    N  1.031239  0.356062   \n",
       "17    B    B    A    C    B    C    A    E    C    F  0.530447  0.729004   \n",
       "\n",
       "       cont2     cont3     cont4     cont5     cont6     cont7     cont8  \\\n",
       "id                                                                         \n",
       "0   0.587731  0.392753  0.476739  0.376350  0.337884  0.321832  0.445212   \n",
       "5   0.452967  0.929645  0.285509  0.860046  0.798712  0.835961  0.391657   \n",
       "15  0.690999  0.740027  0.697272  0.683600  0.404089  0.879379  0.275549   \n",
       "16  0.303651  0.895591  0.719306  0.777890  0.730954  0.644315  1.024017   \n",
       "17  0.281723  0.444698  0.313032  0.431007  0.390992  0.408874  0.447887   \n",
       "\n",
       "       cont9    cont10    cont11    cont12    cont13  \n",
       "id                                                    \n",
       "0   0.290258  0.244476  0.087914  0.301831  0.845702  \n",
       "5   0.288276  0.549568  0.905097  0.850684  0.693940  \n",
       "15  0.427871  0.491667  0.384315  0.376689  0.508099  \n",
       "16  0.391090  0.988340  0.411828  0.393585  0.461372  \n",
       "17  0.390253  0.648932  0.385935  0.370401  0.900412  "
      ]
     },
     "execution_count": 32,
     "metadata": {},
     "output_type": "execute_result"
    }
   ],
   "source": [
    "test.head(5)"
   ]
  },
  {
   "cell_type": "code",
   "execution_count": 28,
   "id": "691cbba9",
   "metadata": {},
   "outputs": [],
   "source": [
    "\n",
    "from sklearn.preprocessing import OneHotEncoder\n",
    "\n",
    "onehot=OneHotEncoder(sparse=False)\n",
    "OH_X_train=pd.DataFrame(onehot.fit_transform(X[cat_feat]))\n",
    "OH_X_test=pd.DataFrame(onehot.transform(test[cat_feat]))\n",
    "\n",
    "OH_X_train.index=train.index\n",
    "OH_X_test.index=test.index\n",
    "\n",
    "num_train=X.drop(cat_feat,axis=1)\n",
    "num_test=test.drop(cat_feat,axis=1)\n",
    "\n",
    "X_train=pd.concat([OH_X_train,num_train],axis=1)\n",
    "X_test=pd.concat([OH_X_test,num_test],axis=1)"
   ]
  },
  {
   "cell_type": "code",
   "execution_count": 30,
   "id": "7af4ba0a",
   "metadata": {},
   "outputs": [],
   "source": [
    "from sklearn.preprocessing import StandardScaler\n",
    "ss=StandardScaler()\n",
    "X_train=ss.fit_transform(X_train)\n",
    "X_test=ss.transform(X_test)"
   ]
  },
  {
   "cell_type": "code",
   "execution_count": 32,
   "id": "c2f8247c",
   "metadata": {},
   "outputs": [
    {
     "data": {
      "text/plain": [
       "array([[-1.34430237,  1.34430237, -1.03269418, ..., -0.42943466,\n",
       "        -0.69618176,  1.62179051],\n",
       "       [-1.34430237,  1.34430237, -1.03269418, ...,  2.0200075 ,\n",
       "        -0.94053204, -0.1937198 ],\n",
       "       [ 0.74388026, -0.74388026,  0.96834089, ...,  0.66169147,\n",
       "         0.18970707,  1.14632747],\n",
       "       ...,\n",
       "       [-1.34430237,  1.34430237, -1.03269418, ...,  0.70439147,\n",
       "         0.88793636, -1.17758012],\n",
       "       [ 0.74388026, -0.74388026, -1.03269418, ...,  0.62135083,\n",
       "        -0.46223664, -0.79050279],\n",
       "       [ 0.74388026, -0.74388026,  0.96834089, ...,  0.05033509,\n",
       "         0.58713669,  0.81204141]])"
      ]
     },
     "execution_count": 32,
     "metadata": {},
     "output_type": "execute_result"
    }
   ],
   "source": [
    "X_train"
   ]
  },
  {
   "cell_type": "code",
   "execution_count": null,
   "id": "24bc1260",
   "metadata": {},
   "outputs": [],
   "source": [
    "from sklearn.cluster import DBSCAN\n",
    "dbscan=DBSCAN(eps=0.05,min_samples=5)\n",
    "dbscan.fit(X_train)"
   ]
  },
  {
   "cell_type": "code",
   "execution_count": 13,
   "id": "3763ef5c",
   "metadata": {},
   "outputs": [
    {
     "data": {
      "text/plain": [
       "42"
      ]
     },
     "execution_count": 13,
     "metadata": {},
     "output_type": "execute_result"
    }
   ],
   "source": [
    "from sklearn.decomposition import PCA\n",
    "pca=PCA(0.99)\n",
    "X_train_pca=pca.fit_transform(X_train)\n",
    "X_test_pca=pca.transform(X_test)\n",
    "pca.n_components_"
   ]
  },
  {
   "cell_type": "code",
   "execution_count": 14,
   "id": "54a59bae",
   "metadata": {},
   "outputs": [
    {
     "data": {
      "text/plain": [
       "array([[-1.25199378,  1.07759689, -0.24664024, ...,  0.01235709,\n",
       "        -0.00842564, -0.00960921],\n",
       "       [ 0.71558417,  1.14057559,  0.78809549, ..., -0.04171575,\n",
       "        -0.01218514,  0.24990891],\n",
       "       [ 1.56503342, -0.66097829,  0.28261602, ...,  0.00308234,\n",
       "        -0.01116121, -0.08415062],\n",
       "       ...,\n",
       "       [ 0.17948934,  1.12664635,  0.48440587, ...,  0.04605028,\n",
       "        -0.08048436, -0.00623346],\n",
       "       [-1.09306417, -0.26573886,  0.41626223, ...,  0.00418508,\n",
       "        -0.00674766, -0.00583537],\n",
       "       [ 1.30301193, -0.68097041,  0.1565345 , ..., -0.01886609,\n",
       "        -0.01720768,  0.00685933]])"
      ]
     },
     "execution_count": 14,
     "metadata": {},
     "output_type": "execute_result"
    }
   ],
   "source": [
    "X_train_pca"
   ]
  },
  {
   "cell_type": "code",
   "execution_count": 15,
   "id": "2d67d176",
   "metadata": {},
   "outputs": [],
   "source": [
    "X_train_reconstructed=pca.inverse_transform(X_train_pca)\n",
    "X_test_reconstructed=pca.inverse_transform(X_test_pca)"
   ]
  },
  {
   "cell_type": "code",
   "execution_count": 26,
   "id": "c9849751",
   "metadata": {},
   "outputs": [
    {
     "data": {
      "text/html": [
       "<div>\n",
       "<style scoped>\n",
       "    .dataframe tbody tr th:only-of-type {\n",
       "        vertical-align: middle;\n",
       "    }\n",
       "\n",
       "    .dataframe tbody tr th {\n",
       "        vertical-align: top;\n",
       "    }\n",
       "\n",
       "    .dataframe thead th {\n",
       "        text-align: right;\n",
       "    }\n",
       "</style>\n",
       "<table border=\"1\" class=\"dataframe\">\n",
       "  <thead>\n",
       "    <tr style=\"text-align: right;\">\n",
       "      <th></th>\n",
       "      <th>0</th>\n",
       "      <th>1</th>\n",
       "      <th>2</th>\n",
       "      <th>3</th>\n",
       "      <th>4</th>\n",
       "      <th>5</th>\n",
       "      <th>6</th>\n",
       "      <th>7</th>\n",
       "      <th>8</th>\n",
       "      <th>9</th>\n",
       "      <th>10</th>\n",
       "      <th>11</th>\n",
       "      <th>12</th>\n",
       "      <th>13</th>\n",
       "      <th>14</th>\n",
       "      <th>15</th>\n",
       "      <th>16</th>\n",
       "      <th>17</th>\n",
       "      <th>18</th>\n",
       "      <th>19</th>\n",
       "      <th>20</th>\n",
       "      <th>21</th>\n",
       "      <th>22</th>\n",
       "      <th>23</th>\n",
       "      <th>24</th>\n",
       "      <th>25</th>\n",
       "      <th>26</th>\n",
       "      <th>27</th>\n",
       "      <th>28</th>\n",
       "      <th>29</th>\n",
       "      <th>30</th>\n",
       "      <th>31</th>\n",
       "      <th>32</th>\n",
       "      <th>33</th>\n",
       "      <th>34</th>\n",
       "      <th>35</th>\n",
       "      <th>36</th>\n",
       "      <th>37</th>\n",
       "      <th>38</th>\n",
       "      <th>39</th>\n",
       "      <th>40</th>\n",
       "      <th>41</th>\n",
       "      <th>42</th>\n",
       "      <th>43</th>\n",
       "      <th>44</th>\n",
       "      <th>45</th>\n",
       "      <th>46</th>\n",
       "      <th>47</th>\n",
       "      <th>48</th>\n",
       "      <th>49</th>\n",
       "      <th>50</th>\n",
       "      <th>51</th>\n",
       "      <th>52</th>\n",
       "      <th>53</th>\n",
       "      <th>54</th>\n",
       "      <th>55</th>\n",
       "      <th>cont0</th>\n",
       "      <th>cont1</th>\n",
       "      <th>cont2</th>\n",
       "      <th>cont3</th>\n",
       "      <th>cont4</th>\n",
       "      <th>cont5</th>\n",
       "      <th>cont6</th>\n",
       "      <th>cont7</th>\n",
       "      <th>cont8</th>\n",
       "      <th>cont9</th>\n",
       "      <th>cont10</th>\n",
       "      <th>cont11</th>\n",
       "      <th>cont12</th>\n",
       "      <th>cont13</th>\n",
       "    </tr>\n",
       "    <tr>\n",
       "      <th>id</th>\n",
       "      <th></th>\n",
       "      <th></th>\n",
       "      <th></th>\n",
       "      <th></th>\n",
       "      <th></th>\n",
       "      <th></th>\n",
       "      <th></th>\n",
       "      <th></th>\n",
       "      <th></th>\n",
       "      <th></th>\n",
       "      <th></th>\n",
       "      <th></th>\n",
       "      <th></th>\n",
       "      <th></th>\n",
       "      <th></th>\n",
       "      <th></th>\n",
       "      <th></th>\n",
       "      <th></th>\n",
       "      <th></th>\n",
       "      <th></th>\n",
       "      <th></th>\n",
       "      <th></th>\n",
       "      <th></th>\n",
       "      <th></th>\n",
       "      <th></th>\n",
       "      <th></th>\n",
       "      <th></th>\n",
       "      <th></th>\n",
       "      <th></th>\n",
       "      <th></th>\n",
       "      <th></th>\n",
       "      <th></th>\n",
       "      <th></th>\n",
       "      <th></th>\n",
       "      <th></th>\n",
       "      <th></th>\n",
       "      <th></th>\n",
       "      <th></th>\n",
       "      <th></th>\n",
       "      <th></th>\n",
       "      <th></th>\n",
       "      <th></th>\n",
       "      <th></th>\n",
       "      <th></th>\n",
       "      <th></th>\n",
       "      <th></th>\n",
       "      <th></th>\n",
       "      <th></th>\n",
       "      <th></th>\n",
       "      <th></th>\n",
       "      <th></th>\n",
       "      <th></th>\n",
       "      <th></th>\n",
       "      <th></th>\n",
       "      <th></th>\n",
       "      <th></th>\n",
       "      <th></th>\n",
       "      <th></th>\n",
       "      <th></th>\n",
       "      <th></th>\n",
       "      <th></th>\n",
       "      <th></th>\n",
       "      <th></th>\n",
       "      <th></th>\n",
       "      <th></th>\n",
       "      <th></th>\n",
       "      <th></th>\n",
       "      <th></th>\n",
       "      <th></th>\n",
       "      <th></th>\n",
       "    </tr>\n",
       "  </thead>\n",
       "  <tbody>\n",
       "    <tr>\n",
       "      <th>1</th>\n",
       "      <td>0.0</td>\n",
       "      <td>1.0</td>\n",
       "      <td>0.0</td>\n",
       "      <td>1.0</td>\n",
       "      <td>0.0</td>\n",
       "      <td>1.0</td>\n",
       "      <td>0.0</td>\n",
       "      <td>0.0</td>\n",
       "      <td>1.0</td>\n",
       "      <td>0.0</td>\n",
       "      <td>0.0</td>\n",
       "      <td>1.0</td>\n",
       "      <td>0.0</td>\n",
       "      <td>0.0</td>\n",
       "      <td>0.0</td>\n",
       "      <td>1.0</td>\n",
       "      <td>0.0</td>\n",
       "      <td>0.0</td>\n",
       "      <td>1.0</td>\n",
       "      <td>0.0</td>\n",
       "      <td>0.0</td>\n",
       "      <td>0.0</td>\n",
       "      <td>0.0</td>\n",
       "      <td>0.0</td>\n",
       "      <td>0.0</td>\n",
       "      <td>0.0</td>\n",
       "      <td>0.0</td>\n",
       "      <td>0.0</td>\n",
       "      <td>0.0</td>\n",
       "      <td>0.0</td>\n",
       "      <td>1.0</td>\n",
       "      <td>0.0</td>\n",
       "      <td>0.0</td>\n",
       "      <td>0.0</td>\n",
       "      <td>0.0</td>\n",
       "      <td>0.0</td>\n",
       "      <td>1.0</td>\n",
       "      <td>0.0</td>\n",
       "      <td>0.0</td>\n",
       "      <td>0.0</td>\n",
       "      <td>0.0</td>\n",
       "      <td>0.0</td>\n",
       "      <td>0.0</td>\n",
       "      <td>0.0</td>\n",
       "      <td>0.0</td>\n",
       "      <td>0.0</td>\n",
       "      <td>0.0</td>\n",
       "      <td>0.0</td>\n",
       "      <td>0.0</td>\n",
       "      <td>0.0</td>\n",
       "      <td>0.0</td>\n",
       "      <td>0.0</td>\n",
       "      <td>0.0</td>\n",
       "      <td>0.0</td>\n",
       "      <td>1.0</td>\n",
       "      <td>0.0</td>\n",
       "      <td>0.201470</td>\n",
       "      <td>-0.014822</td>\n",
       "      <td>0.669699</td>\n",
       "      <td>0.136278</td>\n",
       "      <td>0.610706</td>\n",
       "      <td>0.400361</td>\n",
       "      <td>0.160266</td>\n",
       "      <td>0.310921</td>\n",
       "      <td>0.389470</td>\n",
       "      <td>0.267559</td>\n",
       "      <td>0.237281</td>\n",
       "      <td>0.377873</td>\n",
       "      <td>0.322401</td>\n",
       "      <td>0.869850</td>\n",
       "    </tr>\n",
       "    <tr>\n",
       "      <th>2</th>\n",
       "      <td>0.0</td>\n",
       "      <td>1.0</td>\n",
       "      <td>0.0</td>\n",
       "      <td>1.0</td>\n",
       "      <td>1.0</td>\n",
       "      <td>0.0</td>\n",
       "      <td>1.0</td>\n",
       "      <td>0.0</td>\n",
       "      <td>0.0</td>\n",
       "      <td>0.0</td>\n",
       "      <td>0.0</td>\n",
       "      <td>1.0</td>\n",
       "      <td>0.0</td>\n",
       "      <td>0.0</td>\n",
       "      <td>0.0</td>\n",
       "      <td>0.0</td>\n",
       "      <td>0.0</td>\n",
       "      <td>1.0</td>\n",
       "      <td>1.0</td>\n",
       "      <td>0.0</td>\n",
       "      <td>0.0</td>\n",
       "      <td>0.0</td>\n",
       "      <td>0.0</td>\n",
       "      <td>0.0</td>\n",
       "      <td>0.0</td>\n",
       "      <td>0.0</td>\n",
       "      <td>0.0</td>\n",
       "      <td>0.0</td>\n",
       "      <td>0.0</td>\n",
       "      <td>0.0</td>\n",
       "      <td>0.0</td>\n",
       "      <td>1.0</td>\n",
       "      <td>0.0</td>\n",
       "      <td>0.0</td>\n",
       "      <td>1.0</td>\n",
       "      <td>0.0</td>\n",
       "      <td>0.0</td>\n",
       "      <td>0.0</td>\n",
       "      <td>0.0</td>\n",
       "      <td>0.0</td>\n",
       "      <td>0.0</td>\n",
       "      <td>0.0</td>\n",
       "      <td>0.0</td>\n",
       "      <td>0.0</td>\n",
       "      <td>0.0</td>\n",
       "      <td>0.0</td>\n",
       "      <td>0.0</td>\n",
       "      <td>0.0</td>\n",
       "      <td>0.0</td>\n",
       "      <td>0.0</td>\n",
       "      <td>0.0</td>\n",
       "      <td>0.0</td>\n",
       "      <td>0.0</td>\n",
       "      <td>0.0</td>\n",
       "      <td>0.0</td>\n",
       "      <td>1.0</td>\n",
       "      <td>0.743068</td>\n",
       "      <td>0.367411</td>\n",
       "      <td>1.021605</td>\n",
       "      <td>0.365798</td>\n",
       "      <td>0.276853</td>\n",
       "      <td>0.533087</td>\n",
       "      <td>0.558922</td>\n",
       "      <td>0.516294</td>\n",
       "      <td>0.594928</td>\n",
       "      <td>0.341439</td>\n",
       "      <td>0.906013</td>\n",
       "      <td>0.921701</td>\n",
       "      <td>0.261975</td>\n",
       "      <td>0.465083</td>\n",
       "    </tr>\n",
       "    <tr>\n",
       "      <th>3</th>\n",
       "      <td>1.0</td>\n",
       "      <td>0.0</td>\n",
       "      <td>1.0</td>\n",
       "      <td>0.0</td>\n",
       "      <td>1.0</td>\n",
       "      <td>0.0</td>\n",
       "      <td>0.0</td>\n",
       "      <td>0.0</td>\n",
       "      <td>1.0</td>\n",
       "      <td>0.0</td>\n",
       "      <td>0.0</td>\n",
       "      <td>1.0</td>\n",
       "      <td>0.0</td>\n",
       "      <td>0.0</td>\n",
       "      <td>0.0</td>\n",
       "      <td>0.0</td>\n",
       "      <td>0.0</td>\n",
       "      <td>1.0</td>\n",
       "      <td>1.0</td>\n",
       "      <td>0.0</td>\n",
       "      <td>0.0</td>\n",
       "      <td>0.0</td>\n",
       "      <td>0.0</td>\n",
       "      <td>0.0</td>\n",
       "      <td>0.0</td>\n",
       "      <td>0.0</td>\n",
       "      <td>0.0</td>\n",
       "      <td>0.0</td>\n",
       "      <td>0.0</td>\n",
       "      <td>1.0</td>\n",
       "      <td>0.0</td>\n",
       "      <td>0.0</td>\n",
       "      <td>0.0</td>\n",
       "      <td>0.0</td>\n",
       "      <td>1.0</td>\n",
       "      <td>0.0</td>\n",
       "      <td>0.0</td>\n",
       "      <td>0.0</td>\n",
       "      <td>0.0</td>\n",
       "      <td>0.0</td>\n",
       "      <td>0.0</td>\n",
       "      <td>0.0</td>\n",
       "      <td>0.0</td>\n",
       "      <td>0.0</td>\n",
       "      <td>0.0</td>\n",
       "      <td>0.0</td>\n",
       "      <td>1.0</td>\n",
       "      <td>0.0</td>\n",
       "      <td>0.0</td>\n",
       "      <td>0.0</td>\n",
       "      <td>0.0</td>\n",
       "      <td>0.0</td>\n",
       "      <td>0.0</td>\n",
       "      <td>0.0</td>\n",
       "      <td>0.0</td>\n",
       "      <td>0.0</td>\n",
       "      <td>0.742708</td>\n",
       "      <td>0.310383</td>\n",
       "      <td>-0.012673</td>\n",
       "      <td>0.576957</td>\n",
       "      <td>0.285074</td>\n",
       "      <td>0.650609</td>\n",
       "      <td>0.375348</td>\n",
       "      <td>0.902567</td>\n",
       "      <td>0.555205</td>\n",
       "      <td>0.843531</td>\n",
       "      <td>0.748809</td>\n",
       "      <td>0.620126</td>\n",
       "      <td>0.541474</td>\n",
       "      <td>0.763846</td>\n",
       "    </tr>\n",
       "    <tr>\n",
       "      <th>4</th>\n",
       "      <td>0.0</td>\n",
       "      <td>1.0</td>\n",
       "      <td>0.0</td>\n",
       "      <td>1.0</td>\n",
       "      <td>1.0</td>\n",
       "      <td>0.0</td>\n",
       "      <td>0.0</td>\n",
       "      <td>0.0</td>\n",
       "      <td>1.0</td>\n",
       "      <td>0.0</td>\n",
       "      <td>0.0</td>\n",
       "      <td>1.0</td>\n",
       "      <td>0.0</td>\n",
       "      <td>0.0</td>\n",
       "      <td>0.0</td>\n",
       "      <td>0.0</td>\n",
       "      <td>0.0</td>\n",
       "      <td>1.0</td>\n",
       "      <td>1.0</td>\n",
       "      <td>0.0</td>\n",
       "      <td>0.0</td>\n",
       "      <td>0.0</td>\n",
       "      <td>0.0</td>\n",
       "      <td>0.0</td>\n",
       "      <td>0.0</td>\n",
       "      <td>0.0</td>\n",
       "      <td>0.0</td>\n",
       "      <td>0.0</td>\n",
       "      <td>0.0</td>\n",
       "      <td>0.0</td>\n",
       "      <td>1.0</td>\n",
       "      <td>0.0</td>\n",
       "      <td>0.0</td>\n",
       "      <td>0.0</td>\n",
       "      <td>0.0</td>\n",
       "      <td>0.0</td>\n",
       "      <td>1.0</td>\n",
       "      <td>0.0</td>\n",
       "      <td>0.0</td>\n",
       "      <td>0.0</td>\n",
       "      <td>0.0</td>\n",
       "      <td>0.0</td>\n",
       "      <td>0.0</td>\n",
       "      <td>0.0</td>\n",
       "      <td>0.0</td>\n",
       "      <td>0.0</td>\n",
       "      <td>0.0</td>\n",
       "      <td>0.0</td>\n",
       "      <td>0.0</td>\n",
       "      <td>0.0</td>\n",
       "      <td>0.0</td>\n",
       "      <td>1.0</td>\n",
       "      <td>0.0</td>\n",
       "      <td>0.0</td>\n",
       "      <td>0.0</td>\n",
       "      <td>0.0</td>\n",
       "      <td>0.429551</td>\n",
       "      <td>0.620998</td>\n",
       "      <td>0.577942</td>\n",
       "      <td>0.280610</td>\n",
       "      <td>0.284667</td>\n",
       "      <td>0.668980</td>\n",
       "      <td>0.239061</td>\n",
       "      <td>0.732948</td>\n",
       "      <td>0.679618</td>\n",
       "      <td>0.574844</td>\n",
       "      <td>0.346010</td>\n",
       "      <td>0.714610</td>\n",
       "      <td>0.540150</td>\n",
       "      <td>0.280682</td>\n",
       "    </tr>\n",
       "    <tr>\n",
       "      <th>6</th>\n",
       "      <td>1.0</td>\n",
       "      <td>0.0</td>\n",
       "      <td>1.0</td>\n",
       "      <td>0.0</td>\n",
       "      <td>1.0</td>\n",
       "      <td>0.0</td>\n",
       "      <td>0.0</td>\n",
       "      <td>0.0</td>\n",
       "      <td>1.0</td>\n",
       "      <td>0.0</td>\n",
       "      <td>0.0</td>\n",
       "      <td>1.0</td>\n",
       "      <td>0.0</td>\n",
       "      <td>0.0</td>\n",
       "      <td>0.0</td>\n",
       "      <td>0.0</td>\n",
       "      <td>0.0</td>\n",
       "      <td>1.0</td>\n",
       "      <td>1.0</td>\n",
       "      <td>0.0</td>\n",
       "      <td>0.0</td>\n",
       "      <td>0.0</td>\n",
       "      <td>0.0</td>\n",
       "      <td>0.0</td>\n",
       "      <td>0.0</td>\n",
       "      <td>0.0</td>\n",
       "      <td>0.0</td>\n",
       "      <td>0.0</td>\n",
       "      <td>0.0</td>\n",
       "      <td>0.0</td>\n",
       "      <td>1.0</td>\n",
       "      <td>0.0</td>\n",
       "      <td>0.0</td>\n",
       "      <td>0.0</td>\n",
       "      <td>1.0</td>\n",
       "      <td>0.0</td>\n",
       "      <td>0.0</td>\n",
       "      <td>0.0</td>\n",
       "      <td>0.0</td>\n",
       "      <td>0.0</td>\n",
       "      <td>0.0</td>\n",
       "      <td>0.0</td>\n",
       "      <td>0.0</td>\n",
       "      <td>0.0</td>\n",
       "      <td>0.0</td>\n",
       "      <td>0.0</td>\n",
       "      <td>0.0</td>\n",
       "      <td>0.0</td>\n",
       "      <td>0.0</td>\n",
       "      <td>0.0</td>\n",
       "      <td>0.0</td>\n",
       "      <td>0.0</td>\n",
       "      <td>0.0</td>\n",
       "      <td>0.0</td>\n",
       "      <td>1.0</td>\n",
       "      <td>0.0</td>\n",
       "      <td>1.058291</td>\n",
       "      <td>0.367492</td>\n",
       "      <td>-0.052389</td>\n",
       "      <td>0.232407</td>\n",
       "      <td>0.287595</td>\n",
       "      <td>0.686964</td>\n",
       "      <td>0.420667</td>\n",
       "      <td>0.648182</td>\n",
       "      <td>0.684501</td>\n",
       "      <td>0.956692</td>\n",
       "      <td>1.000773</td>\n",
       "      <td>0.776742</td>\n",
       "      <td>0.625849</td>\n",
       "      <td>0.250823</td>\n",
       "    </tr>\n",
       "  </tbody>\n",
       "</table>\n",
       "</div>"
      ],
      "text/plain": [
       "      0    1    2    3    4    5    6    7    8    9   10   11   12   13   14  \\\n",
       "id                                                                              \n",
       "1   0.0  1.0  0.0  1.0  0.0  1.0  0.0  0.0  1.0  0.0  0.0  1.0  0.0  0.0  0.0   \n",
       "2   0.0  1.0  0.0  1.0  1.0  0.0  1.0  0.0  0.0  0.0  0.0  1.0  0.0  0.0  0.0   \n",
       "3   1.0  0.0  1.0  0.0  1.0  0.0  0.0  0.0  1.0  0.0  0.0  1.0  0.0  0.0  0.0   \n",
       "4   0.0  1.0  0.0  1.0  1.0  0.0  0.0  0.0  1.0  0.0  0.0  1.0  0.0  0.0  0.0   \n",
       "6   1.0  0.0  1.0  0.0  1.0  0.0  0.0  0.0  1.0  0.0  0.0  1.0  0.0  0.0  0.0   \n",
       "\n",
       "     15   16   17   18   19   20   21   22   23   24   25   26   27   28   29  \\\n",
       "id                                                                              \n",
       "1   1.0  0.0  0.0  1.0  0.0  0.0  0.0  0.0  0.0  0.0  0.0  0.0  0.0  0.0  0.0   \n",
       "2   0.0  0.0  1.0  1.0  0.0  0.0  0.0  0.0  0.0  0.0  0.0  0.0  0.0  0.0  0.0   \n",
       "3   0.0  0.0  1.0  1.0  0.0  0.0  0.0  0.0  0.0  0.0  0.0  0.0  0.0  0.0  1.0   \n",
       "4   0.0  0.0  1.0  1.0  0.0  0.0  0.0  0.0  0.0  0.0  0.0  0.0  0.0  0.0  0.0   \n",
       "6   0.0  0.0  1.0  1.0  0.0  0.0  0.0  0.0  0.0  0.0  0.0  0.0  0.0  0.0  0.0   \n",
       "\n",
       "     30   31   32   33   34   35   36   37   38   39   40   41   42   43   44  \\\n",
       "id                                                                              \n",
       "1   1.0  0.0  0.0  0.0  0.0  0.0  1.0  0.0  0.0  0.0  0.0  0.0  0.0  0.0  0.0   \n",
       "2   0.0  1.0  0.0  0.0  1.0  0.0  0.0  0.0  0.0  0.0  0.0  0.0  0.0  0.0  0.0   \n",
       "3   0.0  0.0  0.0  0.0  1.0  0.0  0.0  0.0  0.0  0.0  0.0  0.0  0.0  0.0  0.0   \n",
       "4   1.0  0.0  0.0  0.0  0.0  0.0  1.0  0.0  0.0  0.0  0.0  0.0  0.0  0.0  0.0   \n",
       "6   1.0  0.0  0.0  0.0  1.0  0.0  0.0  0.0  0.0  0.0  0.0  0.0  0.0  0.0  0.0   \n",
       "\n",
       "     45   46   47   48   49   50   51   52   53   54   55     cont0     cont1  \\\n",
       "id                                                                              \n",
       "1   0.0  0.0  0.0  0.0  0.0  0.0  0.0  0.0  0.0  1.0  0.0  0.201470 -0.014822   \n",
       "2   0.0  0.0  0.0  0.0  0.0  0.0  0.0  0.0  0.0  0.0  1.0  0.743068  0.367411   \n",
       "3   0.0  1.0  0.0  0.0  0.0  0.0  0.0  0.0  0.0  0.0  0.0  0.742708  0.310383   \n",
       "4   0.0  0.0  0.0  0.0  0.0  0.0  1.0  0.0  0.0  0.0  0.0  0.429551  0.620998   \n",
       "6   0.0  0.0  0.0  0.0  0.0  0.0  0.0  0.0  0.0  1.0  0.0  1.058291  0.367492   \n",
       "\n",
       "       cont2     cont3     cont4     cont5     cont6     cont7     cont8  \\\n",
       "id                                                                         \n",
       "1   0.669699  0.136278  0.610706  0.400361  0.160266  0.310921  0.389470   \n",
       "2   1.021605  0.365798  0.276853  0.533087  0.558922  0.516294  0.594928   \n",
       "3  -0.012673  0.576957  0.285074  0.650609  0.375348  0.902567  0.555205   \n",
       "4   0.577942  0.280610  0.284667  0.668980  0.239061  0.732948  0.679618   \n",
       "6  -0.052389  0.232407  0.287595  0.686964  0.420667  0.648182  0.684501   \n",
       "\n",
       "       cont9    cont10    cont11    cont12    cont13  \n",
       "id                                                    \n",
       "1   0.267559  0.237281  0.377873  0.322401  0.869850  \n",
       "2   0.341439  0.906013  0.921701  0.261975  0.465083  \n",
       "3   0.843531  0.748809  0.620126  0.541474  0.763846  \n",
       "4   0.574844  0.346010  0.714610  0.540150  0.280682  \n",
       "6   0.956692  1.000773  0.776742  0.625849  0.250823  "
      ]
     },
     "execution_count": 26,
     "metadata": {},
     "output_type": "execute_result"
    }
   ],
   "source": [
    "X_train.head(5)"
   ]
  },
  {
   "cell_type": "code",
   "execution_count": 65,
   "id": "82937892",
   "metadata": {},
   "outputs": [
    {
     "data": {
      "text/plain": [
       "((300000, 70), (300000,))"
      ]
     },
     "execution_count": 65,
     "metadata": {},
     "output_type": "execute_result"
    }
   ],
   "source": [
    "X_train.shape,y.shape"
   ]
  },
  {
   "cell_type": "code",
   "execution_count": 68,
   "id": "24906d0c",
   "metadata": {},
   "outputs": [
    {
     "data": {
      "text/plain": [
       "GridSearchCV(cv=3, estimator=RandomForestRegressor(),\n",
       "             param_grid=[{'max_depth': [5, 8, 10, 13],\n",
       "                          'n_estimators': [50, 100, 150]}],\n",
       "             scoring='neg_mean_squared_error')"
      ]
     },
     "execution_count": 68,
     "metadata": {},
     "output_type": "execute_result"
    }
   ],
   "source": [
    "from sklearn.ensemble import RandomForestRegressor\n",
    "from sklearn.model_selection import GridSearchCV\n",
    "ran=RandomForestRegressor()\n",
    "params=[\n",
    "    {'n_estimators':[50,100,150],'max_depth':[5,8,10,13]}\n",
    "]\n",
    "grid_search =GridSearchCV(ran,params,cv=3,scoring='neg_mean_squared_error')\n",
    "grid_search.fit(X_train,y)"
   ]
  },
  {
   "cell_type": "code",
   "execution_count": 69,
   "id": "f35d0829",
   "metadata": {},
   "outputs": [
    {
     "data": {
      "text/plain": [
       "RandomForestRegressor(max_depth=13, n_estimators=150)"
      ]
     },
     "execution_count": 69,
     "metadata": {},
     "output_type": "execute_result"
    }
   ],
   "source": [
    "grid_search.best_estimator_"
   ]
  },
  {
   "cell_type": "code",
   "execution_count": 70,
   "id": "aed3f2b7",
   "metadata": {},
   "outputs": [
    {
     "data": {
      "text/plain": [
       "array([1.81009197e-03, 1.80234433e-03, 6.79959124e-03, 7.37316368e-03,\n",
       "       1.61922002e-03, 1.51454681e-03, 2.01367007e-03, 6.17174859e-04,\n",
       "       2.14699814e-03, 1.43603870e-03, 6.84111012e-04, 9.44187117e-04,\n",
       "       7.49841565e-04, 9.40158705e-04, 1.78791476e-03, 2.13211793e-03,\n",
       "       2.31573250e-03, 2.30595978e-03, 1.29332081e-03, 1.55152449e-03,\n",
       "       6.77309083e-04, 1.76002055e-04, 8.67359340e-05, 1.19983978e-05,\n",
       "       4.30167398e-04, 3.62070883e-04, 1.09261903e-04, 9.55607125e-04,\n",
       "       2.05480043e-05, 1.70318463e-03, 1.38969179e-03, 3.30270346e-04,\n",
       "       1.09956144e-03, 1.78791473e-06, 2.12854696e-03, 1.49917340e-04,\n",
       "       1.15493332e-02, 9.17675816e-04, 2.94781799e-03, 2.93207025e-04,\n",
       "       1.50691423e-03, 1.87257620e-03, 1.84607682e-03, 5.19907157e-04,\n",
       "       6.19150658e-04, 8.07554653e-04, 2.90092670e-03, 2.17714648e-03,\n",
       "       2.07806122e-03, 2.93777192e-03, 1.78046285e-03, 2.34732308e-03,\n",
       "       2.11338441e-03, 1.65333056e-03, 1.91362350e-03, 1.88930619e-03,\n",
       "       5.37781209e-02, 4.52479343e-02, 7.48677698e-02, 5.94555481e-02,\n",
       "       5.88049841e-02, 6.71004595e-02, 4.83382899e-02, 6.18114638e-02,\n",
       "       4.70596616e-02, 6.82552959e-02, 1.00371038e-01, 5.38471717e-02,\n",
       "       1.08077818e-01, 5.68425246e-02])"
      ]
     },
     "execution_count": 70,
     "metadata": {},
     "output_type": "execute_result"
    }
   ],
   "source": [
    "grid_search.best_estimator_.feature_importances_"
   ]
  },
  {
   "cell_type": "code",
   "execution_count": 71,
   "id": "e2d359af",
   "metadata": {},
   "outputs": [],
   "source": [
    "model=RandomForestRegressor(n_estimators=150)\n",
    "y_pred=model.fit(X_train,y).predict(X_test)\n",
    "submission=pd.read_csv('sample_submission.csv',index_col='id')\n",
    "submission['target']=y_pred"
   ]
  },
  {
   "cell_type": "code",
   "execution_count": null,
   "id": "563315a1",
   "metadata": {},
   "outputs": [],
   "source": []
  },
  {
   "cell_type": "markdown",
   "id": "6f6fa513",
   "metadata": {},
   "source": [
    "## CATBoost"
   ]
  },
  {
   "cell_type": "code",
   "execution_count": 5,
   "id": "566568fc",
   "metadata": {},
   "outputs": [
    {
     "name": "stdout",
     "output_type": "stream",
     "text": [
      "Requirement already satisfied: catboost in c:\\users\\manan\\anaconda3\\lib\\site-packages (0.26)\n",
      "Requirement already satisfied: numpy>=1.16.0 in c:\\users\\manan\\anaconda3\\lib\\site-packages (from catboost) (1.19.5)\n",
      "Requirement already satisfied: pandas>=0.24.0 in c:\\users\\manan\\anaconda3\\lib\\site-packages (from catboost) (1.2.4)\n",
      "Requirement already satisfied: six in c:\\users\\manan\\anaconda3\\lib\\site-packages (from catboost) (1.15.0)\n",
      "Requirement already satisfied: graphviz in c:\\users\\manan\\anaconda3\\lib\\site-packages (from catboost) (0.17)\n",
      "Requirement already satisfied: scipy in c:\\users\\manan\\anaconda3\\lib\\site-packages (from catboost) (1.5.4)\n",
      "Requirement already satisfied: matplotlib in c:\\users\\manan\\anaconda3\\lib\\site-packages (from catboost) (3.3.4)\n",
      "Requirement already satisfied: plotly in c:\\users\\manan\\anaconda3\\lib\\site-packages (from catboost) (5.1.0)\n",
      "Requirement already satisfied: pytz>=2017.3 in c:\\users\\manan\\anaconda3\\lib\\site-packages (from pandas>=0.24.0->catboost) (2021.1)Note: you may need to restart the kernel to use updated packages.\n",
      "Requirement already satisfied: python-dateutil>=2.7.3 in c:\\users\\manan\\anaconda3\\lib\\site-packages (from pandas>=0.24.0->catboost) (2.8.1)\n",
      "Requirement already satisfied: pillow>=6.2.0 in c:\\users\\manan\\anaconda3\\lib\\site-packages (from matplotlib->catboost) (8.2.0)\n",
      "Requirement already satisfied: kiwisolver>=1.0.1 in c:\\users\\manan\\anaconda3\\lib\\site-packages (from matplotlib->catboost) (1.3.1)\n",
      "Requirement already satisfied: cycler>=0.10 in c:\\users\\manan\\anaconda3\\lib\\site-packages (from matplotlib->catboost) (0.10.0)\n",
      "Requirement already satisfied: pyparsing!=2.0.4,!=2.1.2,!=2.1.6,>=2.0.3 in c:\\users\\manan\\anaconda3\\lib\\site-packages (from matplotlib->catboost) (2.4.7)\n",
      "Requirement already satisfied: tenacity>=6.2.0 in c:\\users\\manan\\anaconda3\\lib\\site-packages (from plotly->catboost) (8.0.1)\n",
      "\n"
     ]
    },
    {
     "name": "stderr",
     "output_type": "stream",
     "text": [
      "WARNING: You are using pip version 21.1.3; however, version 21.2.3 is available.\n",
      "You should consider upgrading via the 'C:\\Users\\Manan\\anaconda3\\python.exe -m pip install --upgrade pip' command.\n"
     ]
    }
   ],
   "source": [
    "pip install catboost"
   ]
  },
  {
   "cell_type": "code",
   "execution_count": 9,
   "id": "5f0c8376",
   "metadata": {},
   "outputs": [
    {
     "data": {
      "text/html": [
       "<div>\n",
       "<style scoped>\n",
       "    .dataframe tbody tr th:only-of-type {\n",
       "        vertical-align: middle;\n",
       "    }\n",
       "\n",
       "    .dataframe tbody tr th {\n",
       "        vertical-align: top;\n",
       "    }\n",
       "\n",
       "    .dataframe thead th {\n",
       "        text-align: right;\n",
       "    }\n",
       "</style>\n",
       "<table border=\"1\" class=\"dataframe\">\n",
       "  <thead>\n",
       "    <tr style=\"text-align: right;\">\n",
       "      <th></th>\n",
       "      <th>cat0</th>\n",
       "      <th>cat1</th>\n",
       "      <th>cat2</th>\n",
       "      <th>cat3</th>\n",
       "      <th>cat4</th>\n",
       "      <th>cat5</th>\n",
       "      <th>cat6</th>\n",
       "      <th>cat7</th>\n",
       "      <th>cat8</th>\n",
       "      <th>cat9</th>\n",
       "      <th>cont0</th>\n",
       "      <th>cont1</th>\n",
       "      <th>cont2</th>\n",
       "      <th>cont3</th>\n",
       "      <th>cont4</th>\n",
       "      <th>cont5</th>\n",
       "      <th>cont6</th>\n",
       "      <th>cont7</th>\n",
       "      <th>cont8</th>\n",
       "      <th>cont9</th>\n",
       "      <th>cont10</th>\n",
       "      <th>cont11</th>\n",
       "      <th>cont12</th>\n",
       "      <th>cont13</th>\n",
       "      <th>target</th>\n",
       "    </tr>\n",
       "    <tr>\n",
       "      <th>id</th>\n",
       "      <th></th>\n",
       "      <th></th>\n",
       "      <th></th>\n",
       "      <th></th>\n",
       "      <th></th>\n",
       "      <th></th>\n",
       "      <th></th>\n",
       "      <th></th>\n",
       "      <th></th>\n",
       "      <th></th>\n",
       "      <th></th>\n",
       "      <th></th>\n",
       "      <th></th>\n",
       "      <th></th>\n",
       "      <th></th>\n",
       "      <th></th>\n",
       "      <th></th>\n",
       "      <th></th>\n",
       "      <th></th>\n",
       "      <th></th>\n",
       "      <th></th>\n",
       "      <th></th>\n",
       "      <th></th>\n",
       "      <th></th>\n",
       "      <th></th>\n",
       "    </tr>\n",
       "  </thead>\n",
       "  <tbody>\n",
       "    <tr>\n",
       "      <th>1</th>\n",
       "      <td>B</td>\n",
       "      <td>B</td>\n",
       "      <td>B</td>\n",
       "      <td>C</td>\n",
       "      <td>B</td>\n",
       "      <td>B</td>\n",
       "      <td>A</td>\n",
       "      <td>E</td>\n",
       "      <td>C</td>\n",
       "      <td>N</td>\n",
       "      <td>0.201470</td>\n",
       "      <td>-0.014822</td>\n",
       "      <td>0.669699</td>\n",
       "      <td>0.136278</td>\n",
       "      <td>0.610706</td>\n",
       "      <td>0.400361</td>\n",
       "      <td>0.160266</td>\n",
       "      <td>0.310921</td>\n",
       "      <td>0.389470</td>\n",
       "      <td>0.267559</td>\n",
       "      <td>0.237281</td>\n",
       "      <td>0.377873</td>\n",
       "      <td>0.322401</td>\n",
       "      <td>0.869850</td>\n",
       "      <td>8.113634</td>\n",
       "    </tr>\n",
       "    <tr>\n",
       "      <th>2</th>\n",
       "      <td>B</td>\n",
       "      <td>B</td>\n",
       "      <td>A</td>\n",
       "      <td>A</td>\n",
       "      <td>B</td>\n",
       "      <td>D</td>\n",
       "      <td>A</td>\n",
       "      <td>F</td>\n",
       "      <td>A</td>\n",
       "      <td>O</td>\n",
       "      <td>0.743068</td>\n",
       "      <td>0.367411</td>\n",
       "      <td>1.021605</td>\n",
       "      <td>0.365798</td>\n",
       "      <td>0.276853</td>\n",
       "      <td>0.533087</td>\n",
       "      <td>0.558922</td>\n",
       "      <td>0.516294</td>\n",
       "      <td>0.594928</td>\n",
       "      <td>0.341439</td>\n",
       "      <td>0.906013</td>\n",
       "      <td>0.921701</td>\n",
       "      <td>0.261975</td>\n",
       "      <td>0.465083</td>\n",
       "      <td>8.481233</td>\n",
       "    </tr>\n",
       "    <tr>\n",
       "      <th>3</th>\n",
       "      <td>A</td>\n",
       "      <td>A</td>\n",
       "      <td>A</td>\n",
       "      <td>C</td>\n",
       "      <td>B</td>\n",
       "      <td>D</td>\n",
       "      <td>A</td>\n",
       "      <td>D</td>\n",
       "      <td>A</td>\n",
       "      <td>F</td>\n",
       "      <td>0.742708</td>\n",
       "      <td>0.310383</td>\n",
       "      <td>-0.012673</td>\n",
       "      <td>0.576957</td>\n",
       "      <td>0.285074</td>\n",
       "      <td>0.650609</td>\n",
       "      <td>0.375348</td>\n",
       "      <td>0.902567</td>\n",
       "      <td>0.555205</td>\n",
       "      <td>0.843531</td>\n",
       "      <td>0.748809</td>\n",
       "      <td>0.620126</td>\n",
       "      <td>0.541474</td>\n",
       "      <td>0.763846</td>\n",
       "      <td>8.364351</td>\n",
       "    </tr>\n",
       "    <tr>\n",
       "      <th>4</th>\n",
       "      <td>B</td>\n",
       "      <td>B</td>\n",
       "      <td>A</td>\n",
       "      <td>C</td>\n",
       "      <td>B</td>\n",
       "      <td>D</td>\n",
       "      <td>A</td>\n",
       "      <td>E</td>\n",
       "      <td>C</td>\n",
       "      <td>K</td>\n",
       "      <td>0.429551</td>\n",
       "      <td>0.620998</td>\n",
       "      <td>0.577942</td>\n",
       "      <td>0.280610</td>\n",
       "      <td>0.284667</td>\n",
       "      <td>0.668980</td>\n",
       "      <td>0.239061</td>\n",
       "      <td>0.732948</td>\n",
       "      <td>0.679618</td>\n",
       "      <td>0.574844</td>\n",
       "      <td>0.346010</td>\n",
       "      <td>0.714610</td>\n",
       "      <td>0.540150</td>\n",
       "      <td>0.280682</td>\n",
       "      <td>8.049253</td>\n",
       "    </tr>\n",
       "    <tr>\n",
       "      <th>6</th>\n",
       "      <td>A</td>\n",
       "      <td>A</td>\n",
       "      <td>A</td>\n",
       "      <td>C</td>\n",
       "      <td>B</td>\n",
       "      <td>D</td>\n",
       "      <td>A</td>\n",
       "      <td>E</td>\n",
       "      <td>A</td>\n",
       "      <td>N</td>\n",
       "      <td>1.058291</td>\n",
       "      <td>0.367492</td>\n",
       "      <td>-0.052389</td>\n",
       "      <td>0.232407</td>\n",
       "      <td>0.287595</td>\n",
       "      <td>0.686964</td>\n",
       "      <td>0.420667</td>\n",
       "      <td>0.648182</td>\n",
       "      <td>0.684501</td>\n",
       "      <td>0.956692</td>\n",
       "      <td>1.000773</td>\n",
       "      <td>0.776742</td>\n",
       "      <td>0.625849</td>\n",
       "      <td>0.250823</td>\n",
       "      <td>7.972260</td>\n",
       "    </tr>\n",
       "  </tbody>\n",
       "</table>\n",
       "</div>"
      ],
      "text/plain": [
       "   cat0 cat1 cat2 cat3 cat4 cat5 cat6 cat7 cat8 cat9     cont0     cont1  \\\n",
       "id                                                                         \n",
       "1     B    B    B    C    B    B    A    E    C    N  0.201470 -0.014822   \n",
       "2     B    B    A    A    B    D    A    F    A    O  0.743068  0.367411   \n",
       "3     A    A    A    C    B    D    A    D    A    F  0.742708  0.310383   \n",
       "4     B    B    A    C    B    D    A    E    C    K  0.429551  0.620998   \n",
       "6     A    A    A    C    B    D    A    E    A    N  1.058291  0.367492   \n",
       "\n",
       "       cont2     cont3     cont4     cont5     cont6     cont7     cont8  \\\n",
       "id                                                                         \n",
       "1   0.669699  0.136278  0.610706  0.400361  0.160266  0.310921  0.389470   \n",
       "2   1.021605  0.365798  0.276853  0.533087  0.558922  0.516294  0.594928   \n",
       "3  -0.012673  0.576957  0.285074  0.650609  0.375348  0.902567  0.555205   \n",
       "4   0.577942  0.280610  0.284667  0.668980  0.239061  0.732948  0.679618   \n",
       "6  -0.052389  0.232407  0.287595  0.686964  0.420667  0.648182  0.684501   \n",
       "\n",
       "       cont9    cont10    cont11    cont12    cont13    target  \n",
       "id                                                              \n",
       "1   0.267559  0.237281  0.377873  0.322401  0.869850  8.113634  \n",
       "2   0.341439  0.906013  0.921701  0.261975  0.465083  8.481233  \n",
       "3   0.843531  0.748809  0.620126  0.541474  0.763846  8.364351  \n",
       "4   0.574844  0.346010  0.714610  0.540150  0.280682  8.049253  \n",
       "6   0.956692  1.000773  0.776742  0.625849  0.250823  7.972260  "
      ]
     },
     "execution_count": 9,
     "metadata": {},
     "output_type": "execute_result"
    }
   ],
   "source": [
    "train.head(5)"
   ]
  },
  {
   "cell_type": "code",
   "execution_count": 10,
   "id": "ea6d5d15",
   "metadata": {},
   "outputs": [],
   "source": [
    "X=train.drop('target',axis=1)\n",
    "y=train['target']"
   ]
  },
  {
   "cell_type": "code",
   "execution_count": 9,
   "id": "a7487ce8",
   "metadata": {},
   "outputs": [],
   "source": [
    "from catboost import CatBoostRegressor"
   ]
  },
  {
   "cell_type": "code",
   "execution_count": 17,
   "id": "693a1cde",
   "metadata": {},
   "outputs": [
    {
     "name": "stdout",
     "output_type": "stream",
     "text": [
      "0:\tlearn: 0.7453999\ttotal: 282ms\tremaining: 28s\n",
      "1:\tlearn: 0.7444073\ttotal: 567ms\tremaining: 27.8s\n",
      "2:\tlearn: 0.7435479\ttotal: 779ms\tremaining: 25.2s\n",
      "3:\tlearn: 0.7427319\ttotal: 983ms\tremaining: 23.6s\n",
      "4:\tlearn: 0.7420456\ttotal: 1.18s\tremaining: 22.5s\n",
      "5:\tlearn: 0.7414460\ttotal: 1.41s\tremaining: 22s\n",
      "6:\tlearn: 0.7409165\ttotal: 1.63s\tremaining: 21.7s\n",
      "7:\tlearn: 0.7403631\ttotal: 1.91s\tremaining: 22s\n",
      "8:\tlearn: 0.7398245\ttotal: 2.14s\tremaining: 21.6s\n",
      "9:\tlearn: 0.7394087\ttotal: 2.36s\tremaining: 21.3s\n",
      "10:\tlearn: 0.7390321\ttotal: 2.58s\tremaining: 20.9s\n",
      "11:\tlearn: 0.7386395\ttotal: 2.8s\tremaining: 20.6s\n",
      "12:\tlearn: 0.7383043\ttotal: 3.01s\tremaining: 20.2s\n",
      "13:\tlearn: 0.7379654\ttotal: 3.24s\tremaining: 19.9s\n",
      "14:\tlearn: 0.7376893\ttotal: 3.46s\tremaining: 19.6s\n",
      "15:\tlearn: 0.7374085\ttotal: 3.68s\tremaining: 19.3s\n",
      "16:\tlearn: 0.7371198\ttotal: 3.9s\tremaining: 19s\n",
      "17:\tlearn: 0.7367699\ttotal: 4.11s\tremaining: 18.7s\n",
      "18:\tlearn: 0.7365149\ttotal: 4.33s\tremaining: 18.4s\n",
      "19:\tlearn: 0.7362834\ttotal: 4.53s\tremaining: 18.1s\n",
      "20:\tlearn: 0.7360662\ttotal: 4.75s\tremaining: 17.9s\n",
      "21:\tlearn: 0.7358376\ttotal: 4.97s\tremaining: 17.6s\n",
      "22:\tlearn: 0.7356234\ttotal: 5.2s\tremaining: 17.4s\n",
      "23:\tlearn: 0.7353595\ttotal: 5.42s\tremaining: 17.2s\n",
      "24:\tlearn: 0.7351556\ttotal: 5.65s\tremaining: 16.9s\n",
      "25:\tlearn: 0.7349660\ttotal: 5.87s\tremaining: 16.7s\n",
      "26:\tlearn: 0.7347536\ttotal: 6.09s\tremaining: 16.5s\n",
      "27:\tlearn: 0.7345874\ttotal: 6.31s\tremaining: 16.2s\n",
      "28:\tlearn: 0.7344249\ttotal: 6.56s\tremaining: 16.1s\n",
      "29:\tlearn: 0.7341842\ttotal: 6.8s\tremaining: 15.9s\n",
      "30:\tlearn: 0.7340346\ttotal: 7.02s\tremaining: 15.6s\n",
      "31:\tlearn: 0.7338512\ttotal: 7.25s\tremaining: 15.4s\n",
      "32:\tlearn: 0.7337173\ttotal: 7.47s\tremaining: 15.2s\n",
      "33:\tlearn: 0.7335796\ttotal: 7.69s\tremaining: 14.9s\n",
      "34:\tlearn: 0.7334533\ttotal: 7.85s\tremaining: 14.6s\n",
      "35:\tlearn: 0.7333409\ttotal: 8.01s\tremaining: 14.2s\n",
      "36:\tlearn: 0.7331583\ttotal: 8.17s\tremaining: 13.9s\n",
      "37:\tlearn: 0.7330438\ttotal: 8.31s\tremaining: 13.6s\n",
      "38:\tlearn: 0.7328594\ttotal: 8.46s\tremaining: 13.2s\n",
      "39:\tlearn: 0.7327414\ttotal: 8.61s\tremaining: 12.9s\n",
      "40:\tlearn: 0.7326273\ttotal: 8.76s\tremaining: 12.6s\n",
      "41:\tlearn: 0.7325332\ttotal: 8.89s\tremaining: 12.3s\n",
      "42:\tlearn: 0.7324218\ttotal: 9.03s\tremaining: 12s\n",
      "43:\tlearn: 0.7323100\ttotal: 9.17s\tremaining: 11.7s\n",
      "44:\tlearn: 0.7321832\ttotal: 9.3s\tremaining: 11.4s\n",
      "45:\tlearn: 0.7320449\ttotal: 9.45s\tremaining: 11.1s\n",
      "46:\tlearn: 0.7319447\ttotal: 9.58s\tremaining: 10.8s\n",
      "47:\tlearn: 0.7317699\ttotal: 9.72s\tremaining: 10.5s\n",
      "48:\tlearn: 0.7316874\ttotal: 9.85s\tremaining: 10.3s\n",
      "49:\tlearn: 0.7316048\ttotal: 9.99s\tremaining: 9.99s\n",
      "50:\tlearn: 0.7314550\ttotal: 10.1s\tremaining: 9.73s\n",
      "51:\tlearn: 0.7313791\ttotal: 10.3s\tremaining: 9.47s\n",
      "52:\tlearn: 0.7313073\ttotal: 10.4s\tremaining: 9.23s\n",
      "53:\tlearn: 0.7312464\ttotal: 10.6s\tremaining: 8.99s\n",
      "54:\tlearn: 0.7311574\ttotal: 10.7s\tremaining: 8.75s\n",
      "55:\tlearn: 0.7310937\ttotal: 10.8s\tremaining: 8.51s\n",
      "56:\tlearn: 0.7309421\ttotal: 11s\tremaining: 8.27s\n",
      "57:\tlearn: 0.7308587\ttotal: 11.1s\tremaining: 8.04s\n",
      "58:\tlearn: 0.7307326\ttotal: 11.2s\tremaining: 7.81s\n",
      "59:\tlearn: 0.7306145\ttotal: 11.4s\tremaining: 7.59s\n",
      "60:\tlearn: 0.7305538\ttotal: 11.5s\tremaining: 7.36s\n",
      "61:\tlearn: 0.7303923\ttotal: 11.6s\tremaining: 7.14s\n",
      "62:\tlearn: 0.7303361\ttotal: 11.8s\tremaining: 6.92s\n",
      "63:\tlearn: 0.7301872\ttotal: 11.9s\tremaining: 6.71s\n",
      "64:\tlearn: 0.7300872\ttotal: 12.1s\tremaining: 6.5s\n",
      "65:\tlearn: 0.7300094\ttotal: 12.2s\tremaining: 6.29s\n",
      "66:\tlearn: 0.7299360\ttotal: 12.3s\tremaining: 6.08s\n",
      "67:\tlearn: 0.7298698\ttotal: 12.5s\tremaining: 5.88s\n",
      "68:\tlearn: 0.7298043\ttotal: 12.6s\tremaining: 5.67s\n",
      "69:\tlearn: 0.7297536\ttotal: 12.8s\tremaining: 5.47s\n",
      "70:\tlearn: 0.7296879\ttotal: 12.9s\tremaining: 5.27s\n",
      "71:\tlearn: 0.7296144\ttotal: 13s\tremaining: 5.07s\n",
      "72:\tlearn: 0.7294969\ttotal: 13.2s\tremaining: 4.87s\n",
      "73:\tlearn: 0.7294377\ttotal: 13.3s\tremaining: 4.68s\n",
      "74:\tlearn: 0.7293787\ttotal: 13.4s\tremaining: 4.48s\n",
      "75:\tlearn: 0.7293228\ttotal: 13.6s\tremaining: 4.29s\n",
      "76:\tlearn: 0.7292668\ttotal: 13.7s\tremaining: 4.1s\n",
      "77:\tlearn: 0.7292106\ttotal: 13.9s\tremaining: 3.91s\n",
      "78:\tlearn: 0.7291564\ttotal: 14s\tremaining: 3.73s\n",
      "79:\tlearn: 0.7291160\ttotal: 14.2s\tremaining: 3.54s\n",
      "80:\tlearn: 0.7289991\ttotal: 14.3s\tremaining: 3.35s\n",
      "81:\tlearn: 0.7289204\ttotal: 14.4s\tremaining: 3.17s\n",
      "82:\tlearn: 0.7288765\ttotal: 14.5s\tremaining: 2.98s\n",
      "83:\tlearn: 0.7287648\ttotal: 14.7s\tremaining: 2.8s\n",
      "84:\tlearn: 0.7286518\ttotal: 14.8s\tremaining: 2.62s\n",
      "85:\tlearn: 0.7285613\ttotal: 15s\tremaining: 2.44s\n",
      "86:\tlearn: 0.7285222\ttotal: 15.1s\tremaining: 2.26s\n",
      "87:\tlearn: 0.7284860\ttotal: 15.3s\tremaining: 2.08s\n",
      "88:\tlearn: 0.7284475\ttotal: 15.4s\tremaining: 1.9s\n",
      "89:\tlearn: 0.7283648\ttotal: 15.5s\tremaining: 1.73s\n",
      "90:\tlearn: 0.7282748\ttotal: 15.7s\tremaining: 1.55s\n",
      "91:\tlearn: 0.7282328\ttotal: 15.8s\tremaining: 1.37s\n",
      "92:\tlearn: 0.7281649\ttotal: 15.9s\tremaining: 1.2s\n",
      "93:\tlearn: 0.7281270\ttotal: 16.1s\tremaining: 1.03s\n",
      "94:\tlearn: 0.7280164\ttotal: 16.2s\tremaining: 855ms\n",
      "95:\tlearn: 0.7279855\ttotal: 16.4s\tremaining: 683ms\n",
      "96:\tlearn: 0.7279456\ttotal: 16.5s\tremaining: 511ms\n",
      "97:\tlearn: 0.7278651\ttotal: 16.7s\tremaining: 340ms\n",
      "98:\tlearn: 0.7278340\ttotal: 16.8s\tremaining: 169ms\n",
      "99:\tlearn: 0.7277801\ttotal: 16.9s\tremaining: 0us\n"
     ]
    },
    {
     "data": {
      "text/plain": [
       "<catboost.core.CatBoostRegressor at 0x1ebd6cf1b50>"
      ]
     },
     "execution_count": 17,
     "metadata": {},
     "output_type": "execute_result"
    }
   ],
   "source": [
    "\n",
    "model=CatBoostRegressor(iterations=100,learning_rate=0.1)\n",
    "model.fit(X,y,cat_features=cat_feat,plot=False)"
   ]
  },
  {
   "cell_type": "code",
   "execution_count": 18,
   "id": "f6d0f204",
   "metadata": {},
   "outputs": [],
   "source": [
    "y_pred=model.predict(test)"
   ]
  },
  {
   "cell_type": "code",
   "execution_count": 24,
   "id": "454d9b3a",
   "metadata": {},
   "outputs": [
    {
     "name": "stdout",
     "output_type": "stream",
     "text": [
      "Collecting optuna\n",
      "  Downloading optuna-2.9.1-py3-none-any.whl (302 kB)\n",
      "Requirement already satisfied: scipy!=1.4.0 in c:\\users\\manan\\anaconda3\\lib\\site-packages (from optuna) (1.5.4)\n",
      "Collecting cliff\n",
      "  Downloading cliff-3.8.0-py3-none-any.whl (80 kB)\n",
      "Requirement already satisfied: sqlalchemy>=1.1.0 in c:\\users\\manan\\anaconda3\\lib\\site-packages (from optuna) (1.4.7)\n",
      "Requirement already satisfied: tqdm in c:\\users\\manan\\anaconda3\\lib\\site-packages (from optuna) (4.59.0)\n",
      "Requirement already satisfied: PyYAML in c:\\users\\manan\\anaconda3\\lib\\site-packages (from optuna) (5.4.1)\n",
      "Collecting cmaes>=0.8.2\n",
      "  Downloading cmaes-0.8.2-py3-none-any.whl (15 kB)\n",
      "Requirement already satisfied: numpy in c:\\users\\manan\\anaconda3\\lib\\site-packages (from optuna) (1.19.5)\n",
      "Collecting colorlog\n",
      "  Downloading colorlog-5.0.1-py2.py3-none-any.whl (10 kB)\n",
      "Requirement already satisfied: packaging>=20.0 in c:\\users\\manan\\anaconda3\\lib\\site-packages (from optuna) (20.9)\n",
      "Requirement already satisfied: alembic in c:\\users\\manan\\anaconda3\\lib\\site-packages (from optuna) (1.4.1)\n",
      "Requirement already satisfied: pyparsing>=2.0.2 in c:\\users\\manan\\anaconda3\\lib\\site-packages (from packaging>=20.0->optuna) (2.4.7)\n",
      "Requirement already satisfied: greenlet!=0.4.17 in c:\\users\\manan\\anaconda3\\lib\\site-packages (from sqlalchemy>=1.1.0->optuna) (1.0.0)\n",
      "Requirement already satisfied: python-dateutil in c:\\users\\manan\\anaconda3\\lib\\site-packages (from alembic->optuna) (2.8.1)\n",
      "Requirement already satisfied: Mako in c:\\users\\manan\\anaconda3\\lib\\site-packages (from alembic->optuna) (1.1.4)\n",
      "Requirement already satisfied: python-editor>=0.3 in c:\\users\\manan\\anaconda3\\lib\\site-packages (from alembic->optuna) (1.0.4)\n",
      "Collecting stevedore>=2.0.1\n",
      "  Downloading stevedore-3.3.0-py3-none-any.whl (49 kB)\n",
      "Collecting cmd2>=1.0.0\n",
      "  Downloading cmd2-2.1.2-py3-none-any.whl (141 kB)\n",
      "Collecting PrettyTable>=0.7.2\n",
      "  Downloading prettytable-2.1.0-py3-none-any.whl (22 kB)\n",
      "Collecting pbr!=2.1.0,>=2.0.0\n",
      "  Downloading pbr-5.6.0-py2.py3-none-any.whl (111 kB)\n",
      "Requirement already satisfied: colorama>=0.3.7 in c:\\users\\manan\\anaconda3\\lib\\site-packages (from cmd2>=1.0.0->cliff->optuna) (0.4.4)\n",
      "Requirement already satisfied: wcwidth>=0.1.7 in c:\\users\\manan\\anaconda3\\lib\\site-packages (from cmd2>=1.0.0->cliff->optuna) (0.2.5)\n",
      "Collecting pyreadline3\n",
      "  Downloading pyreadline3-3.3-py3-none-any.whl (95 kB)\n",
      "Collecting pyperclip>=1.6\n",
      "  Downloading pyperclip-1.8.2.tar.gz (20 kB)\n",
      "Requirement already satisfied: attrs>=16.3.0 in c:\\users\\manan\\anaconda3\\lib\\site-packages (from cmd2>=1.0.0->cliff->optuna) (20.3.0)\n",
      "Requirement already satisfied: MarkupSafe>=0.9.2 in c:\\users\\manan\\anaconda3\\lib\\site-packages (from Mako->alembic->optuna) (1.1.1)\n",
      "Requirement already satisfied: six>=1.5 in c:\\users\\manan\\anaconda3\\lib\\site-packages (from python-dateutil->alembic->optuna) (1.15.0)\n",
      "Building wheels for collected packages: pyperclip\n",
      "  Building wheel for pyperclip (setup.py): started\n",
      "  Building wheel for pyperclip (setup.py): finished with status 'done'\n",
      "  Created wheel for pyperclip: filename=pyperclip-1.8.2-py3-none-any.whl size=11137 sha256=9880f6349c74d728a4954faca616f0016d94907ceef98268fdadb0c0ab402412\n",
      "  Stored in directory: c:\\users\\manan\\appdata\\local\\pip\\cache\\wheels\\7f\\1a\\65\\84ff8c386bec21fca6d220ea1f5498a0367883a78dd5ba6122\n",
      "Successfully built pyperclip\n",
      "Installing collected packages: pyreadline3, pyperclip, pbr, stevedore, PrettyTable, cmd2, colorlog, cmaes, cliff, optuna\n",
      "Successfully installed PrettyTable-2.1.0 cliff-3.8.0 cmaes-0.8.2 cmd2-2.1.2 colorlog-5.0.1 optuna-2.9.1 pbr-5.6.0 pyperclip-1.8.2 pyreadline3-3.3 stevedore-3.3.0\n"
     ]
    },
    {
     "name": "stderr",
     "output_type": "stream",
     "text": [
      "WARNING: You are using pip version 21.1.3; however, version 21.2.4 is available.\n",
      "You should consider upgrading via the 'c:\\users\\manan\\anaconda3\\python.exe -m pip install --upgrade pip' command.\n"
     ]
    }
   ],
   "source": [
    "!pip install optuna"
   ]
  },
  {
   "cell_type": "markdown",
   "id": "f83bd07b",
   "metadata": {},
   "source": [
    "### LGBMRegressor"
   ]
  },
  {
   "cell_type": "code",
   "execution_count": 21,
   "id": "2c344b47",
   "metadata": {},
   "outputs": [],
   "source": [
    "from lightgbm import LGBMRegressor"
   ]
  },
  {
   "cell_type": "code",
   "execution_count": 15,
   "id": "ed3376f4",
   "metadata": {},
   "outputs": [],
   "source": [
    "X_train=X.copy()\n",
    "X_test=test.copy()\n",
    "y_train=y.copy()"
   ]
  },
  {
   "cell_type": "code",
   "execution_count": 16,
   "id": "7f40a119",
   "metadata": {},
   "outputs": [
    {
     "data": {
      "text/plain": [
       "{'A': 0,\n",
       " 'B': 1,\n",
       " 'C': 2,\n",
       " 'D': 3,\n",
       " 'E': 4,\n",
       " 'F': 5,\n",
       " 'G': 6,\n",
       " 'H': 7,\n",
       " 'I': 8,\n",
       " 'J': 9,\n",
       " 'K': 10,\n",
       " 'L': 11,\n",
       " 'M': 12,\n",
       " 'N': 13,\n",
       " 'O': 14}"
      ]
     },
     "execution_count": 16,
     "metadata": {},
     "output_type": "execute_result"
    }
   ],
   "source": [
    "from sklearn.preprocessing import LabelEncoder\n",
    "le=LabelEncoder()\n",
    "for col in cat_feat:\n",
    "    le.fit(X_train[col])\n",
    "le_dict= dict(zip(le.classes_,le.transform(le.classes_)))\n",
    "le_dict"
   ]
  },
  {
   "cell_type": "code",
   "execution_count": 19,
   "id": "3ee8fc4f",
   "metadata": {},
   "outputs": [
    {
     "data": {
      "text/html": [
       "<div>\n",
       "<style scoped>\n",
       "    .dataframe tbody tr th:only-of-type {\n",
       "        vertical-align: middle;\n",
       "    }\n",
       "\n",
       "    .dataframe tbody tr th {\n",
       "        vertical-align: top;\n",
       "    }\n",
       "\n",
       "    .dataframe thead th {\n",
       "        text-align: right;\n",
       "    }\n",
       "</style>\n",
       "<table border=\"1\" class=\"dataframe\">\n",
       "  <thead>\n",
       "    <tr style=\"text-align: right;\">\n",
       "      <th></th>\n",
       "      <th>cat0</th>\n",
       "      <th>cat1</th>\n",
       "      <th>cat2</th>\n",
       "      <th>cat3</th>\n",
       "      <th>cat4</th>\n",
       "      <th>cat5</th>\n",
       "      <th>cat6</th>\n",
       "      <th>cat7</th>\n",
       "      <th>cat8</th>\n",
       "      <th>cat9</th>\n",
       "      <th>cont0</th>\n",
       "      <th>cont1</th>\n",
       "      <th>cont2</th>\n",
       "      <th>cont3</th>\n",
       "      <th>cont4</th>\n",
       "      <th>cont5</th>\n",
       "      <th>cont6</th>\n",
       "      <th>cont7</th>\n",
       "      <th>cont8</th>\n",
       "      <th>cont9</th>\n",
       "      <th>cont10</th>\n",
       "      <th>cont11</th>\n",
       "      <th>cont12</th>\n",
       "      <th>cont13</th>\n",
       "    </tr>\n",
       "    <tr>\n",
       "      <th>id</th>\n",
       "      <th></th>\n",
       "      <th></th>\n",
       "      <th></th>\n",
       "      <th></th>\n",
       "      <th></th>\n",
       "      <th></th>\n",
       "      <th></th>\n",
       "      <th></th>\n",
       "      <th></th>\n",
       "      <th></th>\n",
       "      <th></th>\n",
       "      <th></th>\n",
       "      <th></th>\n",
       "      <th></th>\n",
       "      <th></th>\n",
       "      <th></th>\n",
       "      <th></th>\n",
       "      <th></th>\n",
       "      <th></th>\n",
       "      <th></th>\n",
       "      <th></th>\n",
       "      <th></th>\n",
       "      <th></th>\n",
       "      <th></th>\n",
       "    </tr>\n",
       "  </thead>\n",
       "  <tbody>\n",
       "    <tr>\n",
       "      <th>1</th>\n",
       "      <td>1</td>\n",
       "      <td>1</td>\n",
       "      <td>1</td>\n",
       "      <td>2</td>\n",
       "      <td>1</td>\n",
       "      <td>1</td>\n",
       "      <td>0</td>\n",
       "      <td>4</td>\n",
       "      <td>2</td>\n",
       "      <td>13</td>\n",
       "      <td>0.201470</td>\n",
       "      <td>-0.014822</td>\n",
       "      <td>0.669699</td>\n",
       "      <td>0.136278</td>\n",
       "      <td>0.610706</td>\n",
       "      <td>0.400361</td>\n",
       "      <td>0.160266</td>\n",
       "      <td>0.310921</td>\n",
       "      <td>0.389470</td>\n",
       "      <td>0.267559</td>\n",
       "      <td>0.237281</td>\n",
       "      <td>0.377873</td>\n",
       "      <td>0.322401</td>\n",
       "      <td>0.869850</td>\n",
       "    </tr>\n",
       "    <tr>\n",
       "      <th>2</th>\n",
       "      <td>1</td>\n",
       "      <td>1</td>\n",
       "      <td>0</td>\n",
       "      <td>0</td>\n",
       "      <td>1</td>\n",
       "      <td>3</td>\n",
       "      <td>0</td>\n",
       "      <td>5</td>\n",
       "      <td>0</td>\n",
       "      <td>14</td>\n",
       "      <td>0.743068</td>\n",
       "      <td>0.367411</td>\n",
       "      <td>1.021605</td>\n",
       "      <td>0.365798</td>\n",
       "      <td>0.276853</td>\n",
       "      <td>0.533087</td>\n",
       "      <td>0.558922</td>\n",
       "      <td>0.516294</td>\n",
       "      <td>0.594928</td>\n",
       "      <td>0.341439</td>\n",
       "      <td>0.906013</td>\n",
       "      <td>0.921701</td>\n",
       "      <td>0.261975</td>\n",
       "      <td>0.465083</td>\n",
       "    </tr>\n",
       "    <tr>\n",
       "      <th>3</th>\n",
       "      <td>0</td>\n",
       "      <td>0</td>\n",
       "      <td>0</td>\n",
       "      <td>2</td>\n",
       "      <td>1</td>\n",
       "      <td>3</td>\n",
       "      <td>0</td>\n",
       "      <td>3</td>\n",
       "      <td>0</td>\n",
       "      <td>5</td>\n",
       "      <td>0.742708</td>\n",
       "      <td>0.310383</td>\n",
       "      <td>-0.012673</td>\n",
       "      <td>0.576957</td>\n",
       "      <td>0.285074</td>\n",
       "      <td>0.650609</td>\n",
       "      <td>0.375348</td>\n",
       "      <td>0.902567</td>\n",
       "      <td>0.555205</td>\n",
       "      <td>0.843531</td>\n",
       "      <td>0.748809</td>\n",
       "      <td>0.620126</td>\n",
       "      <td>0.541474</td>\n",
       "      <td>0.763846</td>\n",
       "    </tr>\n",
       "    <tr>\n",
       "      <th>4</th>\n",
       "      <td>1</td>\n",
       "      <td>1</td>\n",
       "      <td>0</td>\n",
       "      <td>2</td>\n",
       "      <td>1</td>\n",
       "      <td>3</td>\n",
       "      <td>0</td>\n",
       "      <td>4</td>\n",
       "      <td>2</td>\n",
       "      <td>10</td>\n",
       "      <td>0.429551</td>\n",
       "      <td>0.620998</td>\n",
       "      <td>0.577942</td>\n",
       "      <td>0.280610</td>\n",
       "      <td>0.284667</td>\n",
       "      <td>0.668980</td>\n",
       "      <td>0.239061</td>\n",
       "      <td>0.732948</td>\n",
       "      <td>0.679618</td>\n",
       "      <td>0.574844</td>\n",
       "      <td>0.346010</td>\n",
       "      <td>0.714610</td>\n",
       "      <td>0.540150</td>\n",
       "      <td>0.280682</td>\n",
       "    </tr>\n",
       "    <tr>\n",
       "      <th>6</th>\n",
       "      <td>0</td>\n",
       "      <td>0</td>\n",
       "      <td>0</td>\n",
       "      <td>2</td>\n",
       "      <td>1</td>\n",
       "      <td>3</td>\n",
       "      <td>0</td>\n",
       "      <td>4</td>\n",
       "      <td>0</td>\n",
       "      <td>13</td>\n",
       "      <td>1.058291</td>\n",
       "      <td>0.367492</td>\n",
       "      <td>-0.052389</td>\n",
       "      <td>0.232407</td>\n",
       "      <td>0.287595</td>\n",
       "      <td>0.686964</td>\n",
       "      <td>0.420667</td>\n",
       "      <td>0.648182</td>\n",
       "      <td>0.684501</td>\n",
       "      <td>0.956692</td>\n",
       "      <td>1.000773</td>\n",
       "      <td>0.776742</td>\n",
       "      <td>0.625849</td>\n",
       "      <td>0.250823</td>\n",
       "    </tr>\n",
       "  </tbody>\n",
       "</table>\n",
       "</div>"
      ],
      "text/plain": [
       "    cat0  cat1  cat2  cat3  cat4  cat5  cat6  cat7  cat8  cat9     cont0  \\\n",
       "id                                                                         \n",
       "1      1     1     1     2     1     1     0     4     2    13  0.201470   \n",
       "2      1     1     0     0     1     3     0     5     0    14  0.743068   \n",
       "3      0     0     0     2     1     3     0     3     0     5  0.742708   \n",
       "4      1     1     0     2     1     3     0     4     2    10  0.429551   \n",
       "6      0     0     0     2     1     3     0     4     0    13  1.058291   \n",
       "\n",
       "       cont1     cont2     cont3     cont4     cont5     cont6     cont7  \\\n",
       "id                                                                         \n",
       "1  -0.014822  0.669699  0.136278  0.610706  0.400361  0.160266  0.310921   \n",
       "2   0.367411  1.021605  0.365798  0.276853  0.533087  0.558922  0.516294   \n",
       "3   0.310383 -0.012673  0.576957  0.285074  0.650609  0.375348  0.902567   \n",
       "4   0.620998  0.577942  0.280610  0.284667  0.668980  0.239061  0.732948   \n",
       "6   0.367492 -0.052389  0.232407  0.287595  0.686964  0.420667  0.648182   \n",
       "\n",
       "       cont8     cont9    cont10    cont11    cont12    cont13  \n",
       "id                                                              \n",
       "1   0.389470  0.267559  0.237281  0.377873  0.322401  0.869850  \n",
       "2   0.594928  0.341439  0.906013  0.921701  0.261975  0.465083  \n",
       "3   0.555205  0.843531  0.748809  0.620126  0.541474  0.763846  \n",
       "4   0.679618  0.574844  0.346010  0.714610  0.540150  0.280682  \n",
       "6   0.684501  0.956692  1.000773  0.776742  0.625849  0.250823  "
      ]
     },
     "execution_count": 19,
     "metadata": {},
     "output_type": "execute_result"
    }
   ],
   "source": [
    "X_train.head(5)"
   ]
  },
  {
   "cell_type": "code",
   "execution_count": 18,
   "id": "81966e94",
   "metadata": {},
   "outputs": [],
   "source": [
    "for col in cat_feat:\n",
    "    X_train[col]=X_train[col].apply(lambda x: le_dict.get(x,'<unknown_value>'))"
   ]
  },
  {
   "cell_type": "code",
   "execution_count": 22,
   "id": "4741b980",
   "metadata": {},
   "outputs": [
    {
     "data": {
      "text/html": [
       "<div>\n",
       "<style scoped>\n",
       "    .dataframe tbody tr th:only-of-type {\n",
       "        vertical-align: middle;\n",
       "    }\n",
       "\n",
       "    .dataframe tbody tr th {\n",
       "        vertical-align: top;\n",
       "    }\n",
       "\n",
       "    .dataframe thead th {\n",
       "        text-align: right;\n",
       "    }\n",
       "</style>\n",
       "<table border=\"1\" class=\"dataframe\">\n",
       "  <thead>\n",
       "    <tr style=\"text-align: right;\">\n",
       "      <th></th>\n",
       "      <th>cat0</th>\n",
       "      <th>cat1</th>\n",
       "      <th>cat2</th>\n",
       "      <th>cat3</th>\n",
       "      <th>cat4</th>\n",
       "      <th>cat5</th>\n",
       "      <th>cat6</th>\n",
       "      <th>cat7</th>\n",
       "      <th>cat8</th>\n",
       "      <th>cat9</th>\n",
       "      <th>cont0</th>\n",
       "      <th>cont1</th>\n",
       "      <th>cont2</th>\n",
       "      <th>cont3</th>\n",
       "      <th>cont4</th>\n",
       "      <th>cont5</th>\n",
       "      <th>cont6</th>\n",
       "      <th>cont7</th>\n",
       "      <th>cont8</th>\n",
       "      <th>cont9</th>\n",
       "      <th>cont10</th>\n",
       "      <th>cont11</th>\n",
       "      <th>cont12</th>\n",
       "      <th>cont13</th>\n",
       "    </tr>\n",
       "    <tr>\n",
       "      <th>id</th>\n",
       "      <th></th>\n",
       "      <th></th>\n",
       "      <th></th>\n",
       "      <th></th>\n",
       "      <th></th>\n",
       "      <th></th>\n",
       "      <th></th>\n",
       "      <th></th>\n",
       "      <th></th>\n",
       "      <th></th>\n",
       "      <th></th>\n",
       "      <th></th>\n",
       "      <th></th>\n",
       "      <th></th>\n",
       "      <th></th>\n",
       "      <th></th>\n",
       "      <th></th>\n",
       "      <th></th>\n",
       "      <th></th>\n",
       "      <th></th>\n",
       "      <th></th>\n",
       "      <th></th>\n",
       "      <th></th>\n",
       "      <th></th>\n",
       "    </tr>\n",
       "  </thead>\n",
       "  <tbody>\n",
       "    <tr>\n",
       "      <th>0</th>\n",
       "      <td>1</td>\n",
       "      <td>1</td>\n",
       "      <td>1</td>\n",
       "      <td>2</td>\n",
       "      <td>1</td>\n",
       "      <td>1</td>\n",
       "      <td>0</td>\n",
       "      <td>4</td>\n",
       "      <td>4</td>\n",
       "      <td>8</td>\n",
       "      <td>0.296227</td>\n",
       "      <td>0.686757</td>\n",
       "      <td>0.587731</td>\n",
       "      <td>0.392753</td>\n",
       "      <td>0.476739</td>\n",
       "      <td>0.376350</td>\n",
       "      <td>0.337884</td>\n",
       "      <td>0.321832</td>\n",
       "      <td>0.445212</td>\n",
       "      <td>0.290258</td>\n",
       "      <td>0.244476</td>\n",
       "      <td>0.087914</td>\n",
       "      <td>0.301831</td>\n",
       "      <td>0.845702</td>\n",
       "    </tr>\n",
       "    <tr>\n",
       "      <th>5</th>\n",
       "      <td>0</td>\n",
       "      <td>1</td>\n",
       "      <td>0</td>\n",
       "      <td>2</td>\n",
       "      <td>1</td>\n",
       "      <td>2</td>\n",
       "      <td>0</td>\n",
       "      <td>4</td>\n",
       "      <td>2</td>\n",
       "      <td>7</td>\n",
       "      <td>0.543707</td>\n",
       "      <td>0.364761</td>\n",
       "      <td>0.452967</td>\n",
       "      <td>0.929645</td>\n",
       "      <td>0.285509</td>\n",
       "      <td>0.860046</td>\n",
       "      <td>0.798712</td>\n",
       "      <td>0.835961</td>\n",
       "      <td>0.391657</td>\n",
       "      <td>0.288276</td>\n",
       "      <td>0.549568</td>\n",
       "      <td>0.905097</td>\n",
       "      <td>0.850684</td>\n",
       "      <td>0.693940</td>\n",
       "    </tr>\n",
       "    <tr>\n",
       "      <th>15</th>\n",
       "      <td>1</td>\n",
       "      <td>0</td>\n",
       "      <td>0</td>\n",
       "      <td>0</td>\n",
       "      <td>1</td>\n",
       "      <td>1</td>\n",
       "      <td>0</td>\n",
       "      <td>4</td>\n",
       "      <td>3</td>\n",
       "      <td>10</td>\n",
       "      <td>0.408961</td>\n",
       "      <td>0.296129</td>\n",
       "      <td>0.690999</td>\n",
       "      <td>0.740027</td>\n",
       "      <td>0.697272</td>\n",
       "      <td>0.683600</td>\n",
       "      <td>0.404089</td>\n",
       "      <td>0.879379</td>\n",
       "      <td>0.275549</td>\n",
       "      <td>0.427871</td>\n",
       "      <td>0.491667</td>\n",
       "      <td>0.384315</td>\n",
       "      <td>0.376689</td>\n",
       "      <td>0.508099</td>\n",
       "    </tr>\n",
       "    <tr>\n",
       "      <th>16</th>\n",
       "      <td>1</td>\n",
       "      <td>1</td>\n",
       "      <td>0</td>\n",
       "      <td>2</td>\n",
       "      <td>1</td>\n",
       "      <td>3</td>\n",
       "      <td>0</td>\n",
       "      <td>4</td>\n",
       "      <td>0</td>\n",
       "      <td>13</td>\n",
       "      <td>1.031239</td>\n",
       "      <td>0.356062</td>\n",
       "      <td>0.303651</td>\n",
       "      <td>0.895591</td>\n",
       "      <td>0.719306</td>\n",
       "      <td>0.777890</td>\n",
       "      <td>0.730954</td>\n",
       "      <td>0.644315</td>\n",
       "      <td>1.024017</td>\n",
       "      <td>0.391090</td>\n",
       "      <td>0.988340</td>\n",
       "      <td>0.411828</td>\n",
       "      <td>0.393585</td>\n",
       "      <td>0.461372</td>\n",
       "    </tr>\n",
       "    <tr>\n",
       "      <th>17</th>\n",
       "      <td>1</td>\n",
       "      <td>1</td>\n",
       "      <td>0</td>\n",
       "      <td>2</td>\n",
       "      <td>1</td>\n",
       "      <td>2</td>\n",
       "      <td>0</td>\n",
       "      <td>4</td>\n",
       "      <td>2</td>\n",
       "      <td>5</td>\n",
       "      <td>0.530447</td>\n",
       "      <td>0.729004</td>\n",
       "      <td>0.281723</td>\n",
       "      <td>0.444698</td>\n",
       "      <td>0.313032</td>\n",
       "      <td>0.431007</td>\n",
       "      <td>0.390992</td>\n",
       "      <td>0.408874</td>\n",
       "      <td>0.447887</td>\n",
       "      <td>0.390253</td>\n",
       "      <td>0.648932</td>\n",
       "      <td>0.385935</td>\n",
       "      <td>0.370401</td>\n",
       "      <td>0.900412</td>\n",
       "    </tr>\n",
       "  </tbody>\n",
       "</table>\n",
       "</div>"
      ],
      "text/plain": [
       "    cat0  cat1  cat2  cat3  cat4  cat5  cat6  cat7  cat8  cat9     cont0  \\\n",
       "id                                                                         \n",
       "0      1     1     1     2     1     1     0     4     4     8  0.296227   \n",
       "5      0     1     0     2     1     2     0     4     2     7  0.543707   \n",
       "15     1     0     0     0     1     1     0     4     3    10  0.408961   \n",
       "16     1     1     0     2     1     3     0     4     0    13  1.031239   \n",
       "17     1     1     0     2     1     2     0     4     2     5  0.530447   \n",
       "\n",
       "       cont1     cont2     cont3     cont4     cont5     cont6     cont7  \\\n",
       "id                                                                         \n",
       "0   0.686757  0.587731  0.392753  0.476739  0.376350  0.337884  0.321832   \n",
       "5   0.364761  0.452967  0.929645  0.285509  0.860046  0.798712  0.835961   \n",
       "15  0.296129  0.690999  0.740027  0.697272  0.683600  0.404089  0.879379   \n",
       "16  0.356062  0.303651  0.895591  0.719306  0.777890  0.730954  0.644315   \n",
       "17  0.729004  0.281723  0.444698  0.313032  0.431007  0.390992  0.408874   \n",
       "\n",
       "       cont8     cont9    cont10    cont11    cont12    cont13  \n",
       "id                                                              \n",
       "0   0.445212  0.290258  0.244476  0.087914  0.301831  0.845702  \n",
       "5   0.391657  0.288276  0.549568  0.905097  0.850684  0.693940  \n",
       "15  0.275549  0.427871  0.491667  0.384315  0.376689  0.508099  \n",
       "16  1.024017  0.391090  0.988340  0.411828  0.393585  0.461372  \n",
       "17  0.447887  0.390253  0.648932  0.385935  0.370401  0.900412  "
      ]
     },
     "execution_count": 22,
     "metadata": {},
     "output_type": "execute_result"
    }
   ],
   "source": [
    "X_test.head(5)"
   ]
  },
  {
   "cell_type": "code",
   "execution_count": 21,
   "id": "5d3f7981",
   "metadata": {},
   "outputs": [],
   "source": [
    "for col in cat_feat:\n",
    "    X_test[col]=X_test[col].apply(lambda x: le_dict.get(x,'<unknown_value>'))"
   ]
  },
  {
   "cell_type": "code",
   "execution_count": 187,
   "id": "069517fd",
   "metadata": {},
   "outputs": [
    {
     "name": "stdout",
     "output_type": "stream",
     "text": [
      "<class 'pandas.core.frame.DataFrame'>\n",
      "Int64Index: 300000 entries, 1 to 499999\n",
      "Data columns (total 24 columns):\n",
      " #   Column  Non-Null Count   Dtype  \n",
      "---  ------  --------------   -----  \n",
      " 0   cat0    300000 non-null  object \n",
      " 1   cat1    300000 non-null  object \n",
      " 2   cat2    300000 non-null  object \n",
      " 3   cat3    300000 non-null  object \n",
      " 4   cat4    300000 non-null  object \n",
      " 5   cat5    300000 non-null  object \n",
      " 6   cat6    300000 non-null  object \n",
      " 7   cat7    300000 non-null  object \n",
      " 8   cat8    300000 non-null  object \n",
      " 9   cat9    300000 non-null  object \n",
      " 10  cont0   300000 non-null  float64\n",
      " 11  cont1   300000 non-null  float64\n",
      " 12  cont2   300000 non-null  float64\n",
      " 13  cont3   300000 non-null  float64\n",
      " 14  cont4   300000 non-null  float64\n",
      " 15  cont5   300000 non-null  float64\n",
      " 16  cont6   300000 non-null  float64\n",
      " 17  cont7   300000 non-null  float64\n",
      " 18  cont8   300000 non-null  float64\n",
      " 19  cont9   300000 non-null  float64\n",
      " 20  cont10  300000 non-null  float64\n",
      " 21  cont11  300000 non-null  float64\n",
      " 22  cont12  300000 non-null  float64\n",
      " 23  cont13  300000 non-null  float64\n",
      "dtypes: float64(14), object(10)\n",
      "memory usage: 57.2+ MB\n"
     ]
    }
   ],
   "source": [
    "X_train.info()"
   ]
  },
  {
   "cell_type": "code",
   "execution_count": 18,
   "id": "419f587d",
   "metadata": {},
   "outputs": [
    {
     "data": {
      "text/plain": [
       "((300000, 70), (300000,))"
      ]
     },
     "execution_count": 18,
     "metadata": {},
     "output_type": "execute_result"
    }
   ],
   "source": [
    "X_train_reconstructed.shape,y_train.shape"
   ]
  },
  {
   "cell_type": "code",
   "execution_count": 22,
   "id": "9b01146c",
   "metadata": {},
   "outputs": [],
   "source": [
    "\n",
    "import optuna\n",
    "from sklearn.model_selection import cross_val_score\n",
    "from sklearn.metrics import mean_squared_error\n",
    "def objective(trial,data=X_train_reconstructed,target=y_train):\n",
    "    train_x,test_x,train_y,test_y= train_test_split(X_train_reconstructed,y_train,test_size=0.2,random_state=42)\n",
    "    params={\n",
    "        'metric':'rmse',\n",
    "        'random_state':42,\n",
    "        'reg_alpha':trial.suggest_loguniform('reg_alpha',1e-3,10.0),\n",
    "        'reg_lambda':trial.suggest_loguniform('reg_lambda',1e-3,10.0),\n",
    "        'colsample_bytree':trial.suggest_categorical('colsample_bytree',[0.3,0.4,0.5,0.6,0.7,0.8,0.9,1.0]),\n",
    "        'subsample':trial.suggest_categorical('subsample',[0.4,0.5,0.6,0.7,0.8,0.9,1.0]),\n",
    "        'learning_rate':trial.suggest_categorical('learning_rate',[0.006,0.008,0.01,0.014,0.017,0.02]),\n",
    "        'max_depth':trial.suggest_categorical('max_depth',[10,20,100]),\n",
    "        'num_leaves':trial.suggest_int('num_leaves',1,1000),\n",
    "        'min_child_samples':trial.suggest_int('min_child_samples',1,300),\n",
    "        'cat_smooth':trial.suggest_int('min_data_per_groups',1,100)\n",
    "    }\n",
    "    model= LGBMRegressor(**params)\n",
    "    model.fit(train_x,train_y,eval_set=[(test_x,test_y)],early_stopping_rounds=100,verbose=False)\n",
    "    \n",
    "    y_preds=model.predict(test_x)\n",
    "    \n",
    "    rmse=mean_squared_error(test_y,y_preds,squared=False)\n",
    "    \n",
    "    return rmse\n",
    "    \n",
    "    "
   ]
  },
  {
   "cell_type": "code",
   "execution_count": 163,
   "id": "1178521d",
   "metadata": {},
   "outputs": [],
   "source": [
    "\n",
    "\n",
    "\"\"\"\"\n",
    "\n",
    "def objective(trial,data=X_train,target=y_train):\n",
    "    \n",
    "    train_x, test_x, train_y, test_y = train_test_split(data, target, test_size=0.15,random_state=42)\n",
    "    param = {\n",
    "        'tree_method':'hist',  # this parameter means using the GPU when training our model to speedup the training process\n",
    "        'lambda': trial.suggest_loguniform('lambda', 1e-3, 10.0),\n",
    "        'alpha': trial.suggest_loguniform('alpha', 1e-3, 10.0),\n",
    "        'colsample_bytree': trial.suggest_categorical('colsample_bytree', [0.3,0.4,0.5,0.6,0.7,0.8,0.9, 1.0]),\n",
    "        'subsample': trial.suggest_categorical('subsample', [0.4,0.5,0.6,0.7,0.8,1.0]),\n",
    "        'learning_rate': trial.suggest_categorical('learning_rate', [0.008,0.009,0.01,0.012,0.014,0.016,0.018, 0.02]),\n",
    "        'n_estimators': 4000,\n",
    "        'max_depth': trial.suggest_categorical('max_depth', [5,7,9,11,13,15,17,20]),\n",
    "        'random_state': trial.suggest_categorical('random_state', [24, 48,2020]),\n",
    "        'min_child_weight': trial.suggest_int('min_child_weight', 1, 300),\n",
    "    }\n",
    "    model = xgb.XGBRegressor(**param)  \n",
    "    \n",
    "    model.fit(train_x,train_y,eval_set=[(test_x,test_y)],early_stopping_rounds=100,verbose=False)\n",
    "    \n",
    "    preds = model.predict(test_x)\n",
    "    \n",
    "    rmse = mean_squared_error(test_y, preds,squared=False)\n",
    "    \n",
    "    return rmse\n",
    "    \n",
    "    \"\"\""
   ]
  },
  {
   "cell_type": "code",
   "execution_count": 23,
   "id": "a52f1aea",
   "metadata": {},
   "outputs": [
    {
     "name": "stderr",
     "output_type": "stream",
     "text": [
      "\u001b[32m[I 2021-08-20 11:38:55,273]\u001b[0m A new study created in memory with name: no-name-43a30fee-e5f9-47a3-8a1d-f4bb57f1a04a\u001b[0m\n"
     ]
    },
    {
     "data": {
      "application/javascript": [
       "\n",
       "        if (window._pyforest_update_imports_cell) { window._pyforest_update_imports_cell('from sklearn.model_selection import train_test_split'); }\n",
       "    "
      ],
      "text/plain": [
       "<IPython.core.display.Javascript object>"
      ]
     },
     "metadata": {},
     "output_type": "display_data"
    },
    {
     "name": "stderr",
     "output_type": "stream",
     "text": [
      "\u001b[32m[I 2021-08-20 11:39:07,930]\u001b[0m Trial 0 finished with value: 0.733052551337713 and parameters: {'reg_alpha': 0.039734911752833266, 'reg_lambda': 9.975679365891237, 'colsample_bytree': 0.5, 'subsample': 0.7, 'learning_rate': 0.02, 'max_depth': 20, 'num_leaves': 56, 'min_child_samples': 103, 'min_data_per_groups': 19}. Best is trial 0 with value: 0.733052551337713.\u001b[0m\n"
     ]
    },
    {
     "data": {
      "application/javascript": [
       "\n",
       "        if (window._pyforest_update_imports_cell) { window._pyforest_update_imports_cell('from sklearn.model_selection import train_test_split'); }\n",
       "    "
      ],
      "text/plain": [
       "<IPython.core.display.Javascript object>"
      ]
     },
     "metadata": {},
     "output_type": "display_data"
    },
    {
     "name": "stderr",
     "output_type": "stream",
     "text": [
      "\u001b[32m[I 2021-08-20 11:39:26,700]\u001b[0m Trial 1 finished with value: 0.7326424409956961 and parameters: {'reg_alpha': 0.8187804197006047, 'reg_lambda': 0.36561314618496005, 'colsample_bytree': 0.5, 'subsample': 0.6, 'learning_rate': 0.017, 'max_depth': 20, 'num_leaves': 175, 'min_child_samples': 119, 'min_data_per_groups': 82}. Best is trial 1 with value: 0.7326424409956961.\u001b[0m\n"
     ]
    },
    {
     "data": {
      "application/javascript": [
       "\n",
       "        if (window._pyforest_update_imports_cell) { window._pyforest_update_imports_cell('from sklearn.model_selection import train_test_split'); }\n",
       "    "
      ],
      "text/plain": [
       "<IPython.core.display.Javascript object>"
      ]
     },
     "metadata": {},
     "output_type": "display_data"
    },
    {
     "name": "stderr",
     "output_type": "stream",
     "text": [
      "\u001b[32m[I 2021-08-20 11:39:44,720]\u001b[0m Trial 2 finished with value: 0.7361883513946582 and parameters: {'reg_alpha': 0.0014859827636196068, 'reg_lambda': 0.002124149331059285, 'colsample_bytree': 0.4, 'subsample': 0.4, 'learning_rate': 0.01, 'max_depth': 10, 'num_leaves': 734, 'min_child_samples': 289, 'min_data_per_groups': 77}. Best is trial 1 with value: 0.7326424409956961.\u001b[0m\n"
     ]
    },
    {
     "data": {
      "application/javascript": [
       "\n",
       "        if (window._pyforest_update_imports_cell) { window._pyforest_update_imports_cell('from sklearn.model_selection import train_test_split'); }\n",
       "    "
      ],
      "text/plain": [
       "<IPython.core.display.Javascript object>"
      ]
     },
     "metadata": {},
     "output_type": "display_data"
    },
    {
     "name": "stderr",
     "output_type": "stream",
     "text": [
      "\u001b[32m[I 2021-08-20 11:39:59,813]\u001b[0m Trial 3 finished with value: 0.7381914729872248 and parameters: {'reg_alpha': 0.01571824673177522, 'reg_lambda': 0.06869551042307957, 'colsample_bytree': 0.7, 'subsample': 0.5, 'learning_rate': 0.008, 'max_depth': 100, 'num_leaves': 56, 'min_child_samples': 272, 'min_data_per_groups': 89}. Best is trial 1 with value: 0.7326424409956961.\u001b[0m\n"
     ]
    },
    {
     "data": {
      "application/javascript": [
       "\n",
       "        if (window._pyforest_update_imports_cell) { window._pyforest_update_imports_cell('from sklearn.model_selection import train_test_split'); }\n",
       "    "
      ],
      "text/plain": [
       "<IPython.core.display.Javascript object>"
      ]
     },
     "metadata": {},
     "output_type": "display_data"
    },
    {
     "name": "stderr",
     "output_type": "stream",
     "text": [
      "\u001b[32m[I 2021-08-20 11:40:22,019]\u001b[0m Trial 4 finished with value: 0.738932485238548 and parameters: {'reg_alpha': 0.0016600272805144204, 'reg_lambda': 0.39903875514708415, 'colsample_bytree': 0.5, 'subsample': 0.4, 'learning_rate': 0.006, 'max_depth': 10, 'num_leaves': 358, 'min_child_samples': 99, 'min_data_per_groups': 18}. Best is trial 1 with value: 0.7326424409956961.\u001b[0m\n"
     ]
    },
    {
     "data": {
      "application/javascript": [
       "\n",
       "        if (window._pyforest_update_imports_cell) { window._pyforest_update_imports_cell('from sklearn.model_selection import train_test_split'); }\n",
       "    "
      ],
      "text/plain": [
       "<IPython.core.display.Javascript object>"
      ]
     },
     "metadata": {},
     "output_type": "display_data"
    },
    {
     "name": "stderr",
     "output_type": "stream",
     "text": [
      "\u001b[32m[I 2021-08-20 11:41:04,297]\u001b[0m Trial 5 finished with value: 0.7376111485345159 and parameters: {'reg_alpha': 2.2724621687316704, 'reg_lambda': 0.037451238558832825, 'colsample_bytree': 0.8, 'subsample': 0.8, 'learning_rate': 0.006, 'max_depth': 100, 'num_leaves': 543, 'min_child_samples': 165, 'min_data_per_groups': 19}. Best is trial 1 with value: 0.7326424409956961.\u001b[0m\n"
     ]
    },
    {
     "data": {
      "application/javascript": [
       "\n",
       "        if (window._pyforest_update_imports_cell) { window._pyforest_update_imports_cell('from sklearn.model_selection import train_test_split'); }\n",
       "    "
      ],
      "text/plain": [
       "<IPython.core.display.Javascript object>"
      ]
     },
     "metadata": {},
     "output_type": "display_data"
    },
    {
     "name": "stderr",
     "output_type": "stream",
     "text": [
      "\u001b[32m[I 2021-08-20 11:41:33,322]\u001b[0m Trial 6 finished with value: 0.7330981290132031 and parameters: {'reg_alpha': 0.037207429693649256, 'reg_lambda': 0.07290250499194625, 'colsample_bytree': 0.4, 'subsample': 1.0, 'learning_rate': 0.014, 'max_depth': 20, 'num_leaves': 620, 'min_child_samples': 168, 'min_data_per_groups': 23}. Best is trial 1 with value: 0.7326424409956961.\u001b[0m\n"
     ]
    },
    {
     "data": {
      "application/javascript": [
       "\n",
       "        if (window._pyforest_update_imports_cell) { window._pyforest_update_imports_cell('from sklearn.model_selection import train_test_split'); }\n",
       "    "
      ],
      "text/plain": [
       "<IPython.core.display.Javascript object>"
      ]
     },
     "metadata": {},
     "output_type": "display_data"
    },
    {
     "name": "stderr",
     "output_type": "stream",
     "text": [
      "\u001b[32m[I 2021-08-20 11:42:35,757]\u001b[0m Trial 7 finished with value: 0.7363962487748058 and parameters: {'reg_alpha': 3.4415753719887068, 'reg_lambda': 0.291929583936, 'colsample_bytree': 0.6, 'subsample': 1.0, 'learning_rate': 0.008, 'max_depth': 20, 'num_leaves': 915, 'min_child_samples': 37, 'min_data_per_groups': 18}. Best is trial 1 with value: 0.7326424409956961.\u001b[0m\n"
     ]
    },
    {
     "data": {
      "application/javascript": [
       "\n",
       "        if (window._pyforest_update_imports_cell) { window._pyforest_update_imports_cell('from sklearn.model_selection import train_test_split'); }\n",
       "    "
      ],
      "text/plain": [
       "<IPython.core.display.Javascript object>"
      ]
     },
     "metadata": {},
     "output_type": "display_data"
    },
    {
     "name": "stderr",
     "output_type": "stream",
     "text": [
      "\u001b[32m[I 2021-08-20 11:42:50,936]\u001b[0m Trial 8 finished with value: 0.7397561459427626 and parameters: {'reg_alpha': 0.02922728157267559, 'reg_lambda': 0.18141317102583132, 'colsample_bytree': 0.7, 'subsample': 0.4, 'learning_rate': 0.006, 'max_depth': 20, 'num_leaves': 48, 'min_child_samples': 237, 'min_data_per_groups': 39}. Best is trial 1 with value: 0.7326424409956961.\u001b[0m\n"
     ]
    },
    {
     "data": {
      "application/javascript": [
       "\n",
       "        if (window._pyforest_update_imports_cell) { window._pyforest_update_imports_cell('from sklearn.model_selection import train_test_split'); }\n",
       "    "
      ],
      "text/plain": [
       "<IPython.core.display.Javascript object>"
      ]
     },
     "metadata": {},
     "output_type": "display_data"
    },
    {
     "name": "stderr",
     "output_type": "stream",
     "text": [
      "\u001b[32m[I 2021-08-20 11:43:50,693]\u001b[0m Trial 9 finished with value: 0.7321818497907453 and parameters: {'reg_alpha': 0.0012387324069337141, 'reg_lambda': 8.375891693533465, 'colsample_bytree': 0.8, 'subsample': 0.9, 'learning_rate': 0.014, 'max_depth': 20, 'num_leaves': 849, 'min_child_samples': 89, 'min_data_per_groups': 90}. Best is trial 9 with value: 0.7321818497907453.\u001b[0m\n"
     ]
    },
    {
     "data": {
      "application/javascript": [
       "\n",
       "        if (window._pyforest_update_imports_cell) { window._pyforest_update_imports_cell('from sklearn.model_selection import train_test_split'); }\n",
       "    "
      ],
      "text/plain": [
       "<IPython.core.display.Javascript object>"
      ]
     },
     "metadata": {},
     "output_type": "display_data"
    },
    {
     "name": "stderr",
     "output_type": "stream",
     "text": [
      "\u001b[32m[I 2021-08-20 11:44:12,828]\u001b[0m Trial 10 finished with value: 0.7349605163424996 and parameters: {'reg_alpha': 0.22003968236417648, 'reg_lambda': 5.574827186475794, 'colsample_bytree': 0.3, 'subsample': 0.9, 'learning_rate': 0.014, 'max_depth': 10, 'num_leaves': 999, 'min_child_samples': 23, 'min_data_per_groups': 64}. Best is trial 9 with value: 0.7321818497907453.\u001b[0m\n"
     ]
    },
    {
     "data": {
      "application/javascript": [
       "\n",
       "        if (window._pyforest_update_imports_cell) { window._pyforest_update_imports_cell('from sklearn.model_selection import train_test_split'); }\n",
       "    "
      ],
      "text/plain": [
       "<IPython.core.display.Javascript object>"
      ]
     },
     "metadata": {},
     "output_type": "display_data"
    },
    {
     "name": "stderr",
     "output_type": "stream",
     "text": [
      "\u001b[32m[I 2021-08-20 11:44:48,051]\u001b[0m Trial 11 finished with value: 0.7314090568306014 and parameters: {'reg_alpha': 0.5706046931525902, 'reg_lambda': 1.438271255428286, 'colsample_bytree': 0.8, 'subsample': 0.6, 'learning_rate': 0.017, 'max_depth': 20, 'num_leaves': 322, 'min_child_samples': 95, 'min_data_per_groups': 99}. Best is trial 11 with value: 0.7314090568306014.\u001b[0m\n"
     ]
    },
    {
     "data": {
      "application/javascript": [
       "\n",
       "        if (window._pyforest_update_imports_cell) { window._pyforest_update_imports_cell('from sklearn.model_selection import train_test_split'); }\n",
       "    "
      ],
      "text/plain": [
       "<IPython.core.display.Javascript object>"
      ]
     },
     "metadata": {},
     "output_type": "display_data"
    },
    {
     "name": "stderr",
     "output_type": "stream",
     "text": [
      "\u001b[32m[I 2021-08-20 11:45:22,751]\u001b[0m Trial 12 finished with value: 0.7314905816619047 and parameters: {'reg_alpha': 0.35032818847335634, 'reg_lambda': 1.2423267557707225, 'colsample_bytree': 0.8, 'subsample': 0.6, 'learning_rate': 0.017, 'max_depth': 20, 'num_leaves': 330, 'min_child_samples': 62, 'min_data_per_groups': 100}. Best is trial 11 with value: 0.7314090568306014.\u001b[0m\n"
     ]
    },
    {
     "data": {
      "application/javascript": [
       "\n",
       "        if (window._pyforest_update_imports_cell) { window._pyforest_update_imports_cell('from sklearn.model_selection import train_test_split'); }\n",
       "    "
      ],
      "text/plain": [
       "<IPython.core.display.Javascript object>"
      ]
     },
     "metadata": {},
     "output_type": "display_data"
    },
    {
     "name": "stderr",
     "output_type": "stream",
     "text": [
      "\u001b[32m[I 2021-08-20 11:46:06,564]\u001b[0m Trial 13 finished with value: 0.7314495366279902 and parameters: {'reg_alpha': 0.40309025594213793, 'reg_lambda': 1.5751940289276871, 'colsample_bytree': 1.0, 'subsample': 0.6, 'learning_rate': 0.017, 'max_depth': 20, 'num_leaves': 349, 'min_child_samples': 59, 'min_data_per_groups': 100}. Best is trial 11 with value: 0.7314090568306014.\u001b[0m\n"
     ]
    },
    {
     "data": {
      "application/javascript": [
       "\n",
       "        if (window._pyforest_update_imports_cell) { window._pyforest_update_imports_cell('from sklearn.model_selection import train_test_split'); }\n",
       "    "
      ],
      "text/plain": [
       "<IPython.core.display.Javascript object>"
      ]
     },
     "metadata": {},
     "output_type": "display_data"
    },
    {
     "name": "stderr",
     "output_type": "stream",
     "text": [
      "\u001b[32m[I 2021-08-20 11:46:43,271]\u001b[0m Trial 14 finished with value: 0.7317043074632943 and parameters: {'reg_alpha': 8.375511776807068, 'reg_lambda': 2.344800309146188, 'colsample_bytree': 1.0, 'subsample': 0.6, 'learning_rate': 0.017, 'max_depth': 20, 'num_leaves': 365, 'min_child_samples': 194, 'min_data_per_groups': 63}. Best is trial 11 with value: 0.7314090568306014.\u001b[0m\n"
     ]
    },
    {
     "data": {
      "application/javascript": [
       "\n",
       "        if (window._pyforest_update_imports_cell) { window._pyforest_update_imports_cell('from sklearn.model_selection import train_test_split'); }\n",
       "    "
      ],
      "text/plain": [
       "<IPython.core.display.Javascript object>"
      ]
     },
     "metadata": {},
     "output_type": "display_data"
    },
    {
     "name": "stderr",
     "output_type": "stream",
     "text": [
      "\u001b[32m[I 2021-08-20 11:47:16,849]\u001b[0m Trial 15 finished with value: 0.731881785401084 and parameters: {'reg_alpha': 0.8675692024529394, 'reg_lambda': 0.013361080341560755, 'colsample_bytree': 0.9, 'subsample': 0.6, 'learning_rate': 0.017, 'max_depth': 100, 'num_leaves': 235, 'min_child_samples': 7, 'min_data_per_groups': 100}. Best is trial 11 with value: 0.7314090568306014.\u001b[0m\n"
     ]
    },
    {
     "data": {
      "application/javascript": [
       "\n",
       "        if (window._pyforest_update_imports_cell) { window._pyforest_update_imports_cell('from sklearn.model_selection import train_test_split'); }\n",
       "    "
      ],
      "text/plain": [
       "<IPython.core.display.Javascript object>"
      ]
     },
     "metadata": {},
     "output_type": "display_data"
    },
    {
     "name": "stderr",
     "output_type": "stream",
     "text": [
      "\u001b[32m[I 2021-08-20 11:48:07,113]\u001b[0m Trial 16 finished with value: 0.7311010512657234 and parameters: {'reg_alpha': 0.10656963668804785, 'reg_lambda': 1.4673011402074705, 'colsample_bytree': 1.0, 'subsample': 0.6, 'learning_rate': 0.017, 'max_depth': 20, 'num_leaves': 458, 'min_child_samples': 63, 'min_data_per_groups': 69}. Best is trial 16 with value: 0.7311010512657234.\u001b[0m\n"
     ]
    },
    {
     "data": {
      "application/javascript": [
       "\n",
       "        if (window._pyforest_update_imports_cell) { window._pyforest_update_imports_cell('from sklearn.model_selection import train_test_split'); }\n",
       "    "
      ],
      "text/plain": [
       "<IPython.core.display.Javascript object>"
      ]
     },
     "metadata": {},
     "output_type": "display_data"
    },
    {
     "name": "stderr",
     "output_type": "stream",
     "text": [
      "\u001b[32m[I 2021-08-20 11:48:56,437]\u001b[0m Trial 17 finished with value: 0.7345330971019213 and parameters: {'reg_alpha': 0.11949416912957915, 'reg_lambda': 0.666575931806854, 'colsample_bytree': 1.0, 'subsample': 0.7, 'learning_rate': 0.01, 'max_depth': 20, 'num_leaves': 458, 'min_child_samples': 123, 'min_data_per_groups': 47}. Best is trial 16 with value: 0.7311010512657234.\u001b[0m\n"
     ]
    },
    {
     "data": {
      "application/javascript": [
       "\n",
       "        if (window._pyforest_update_imports_cell) { window._pyforest_update_imports_cell('from sklearn.model_selection import train_test_split'); }\n",
       "    "
      ],
      "text/plain": [
       "<IPython.core.display.Javascript object>"
      ]
     },
     "metadata": {},
     "output_type": "display_data"
    },
    {
     "name": "stderr",
     "output_type": "stream",
     "text": [
      "\u001b[32m[I 2021-08-20 11:49:53,481]\u001b[0m Trial 18 finished with value: 0.7299578252342258 and parameters: {'reg_alpha': 0.080156898324699, 'reg_lambda': 3.087669901191169, 'colsample_bytree': 0.9, 'subsample': 0.5, 'learning_rate': 0.02, 'max_depth': 100, 'num_leaves': 605, 'min_child_samples': 63, 'min_data_per_groups': 3}. Best is trial 18 with value: 0.7299578252342258.\u001b[0m\n"
     ]
    },
    {
     "data": {
      "application/javascript": [
       "\n",
       "        if (window._pyforest_update_imports_cell) { window._pyforest_update_imports_cell('from sklearn.model_selection import train_test_split'); }\n",
       "    "
      ],
      "text/plain": [
       "<IPython.core.display.Javascript object>"
      ]
     },
     "metadata": {},
     "output_type": "display_data"
    },
    {
     "name": "stderr",
     "output_type": "stream",
     "text": [
      "\u001b[32m[I 2021-08-20 11:50:51,256]\u001b[0m Trial 19 finished with value: 0.7299500229679784 and parameters: {'reg_alpha': 0.005889095933883256, 'reg_lambda': 3.3775636737242487, 'colsample_bytree': 0.9, 'subsample': 0.5, 'learning_rate': 0.02, 'max_depth': 100, 'num_leaves': 669, 'min_child_samples': 70, 'min_data_per_groups': 3}. Best is trial 19 with value: 0.7299500229679784.\u001b[0m\n"
     ]
    },
    {
     "data": {
      "application/javascript": [
       "\n",
       "        if (window._pyforest_update_imports_cell) { window._pyforest_update_imports_cell('from sklearn.model_selection import train_test_split'); }\n",
       "    "
      ],
      "text/plain": [
       "<IPython.core.display.Javascript object>"
      ]
     },
     "metadata": {},
     "output_type": "display_data"
    },
    {
     "name": "stderr",
     "output_type": "stream",
     "text": [
      "\u001b[32m[I 2021-08-20 11:51:44,687]\u001b[0m Trial 20 finished with value: 0.7298256765172035 and parameters: {'reg_alpha': 0.004399942213545514, 'reg_lambda': 4.3898341860623615, 'colsample_bytree': 0.9, 'subsample': 0.5, 'learning_rate': 0.02, 'max_depth': 100, 'num_leaves': 668, 'min_child_samples': 140, 'min_data_per_groups': 2}. Best is trial 20 with value: 0.7298256765172035.\u001b[0m\n"
     ]
    },
    {
     "data": {
      "application/javascript": [
       "\n",
       "        if (window._pyforest_update_imports_cell) { window._pyforest_update_imports_cell('from sklearn.model_selection import train_test_split'); }\n",
       "    "
      ],
      "text/plain": [
       "<IPython.core.display.Javascript object>"
      ]
     },
     "metadata": {},
     "output_type": "display_data"
    },
    {
     "name": "stderr",
     "output_type": "stream",
     "text": [
      "\u001b[32m[I 2021-08-20 11:52:40,271]\u001b[0m Trial 21 finished with value: 0.729581421654981 and parameters: {'reg_alpha': 0.007512013240144467, 'reg_lambda': 3.764005663174591, 'colsample_bytree': 0.9, 'subsample': 0.5, 'learning_rate': 0.02, 'max_depth': 100, 'num_leaves': 704, 'min_child_samples': 139, 'min_data_per_groups': 1}. Best is trial 21 with value: 0.729581421654981.\u001b[0m\n"
     ]
    },
    {
     "data": {
      "application/javascript": [
       "\n",
       "        if (window._pyforest_update_imports_cell) { window._pyforest_update_imports_cell('from sklearn.model_selection import train_test_split'); }\n",
       "    "
      ],
      "text/plain": [
       "<IPython.core.display.Javascript object>"
      ]
     },
     "metadata": {},
     "output_type": "display_data"
    },
    {
     "name": "stderr",
     "output_type": "stream",
     "text": [
      "\u001b[32m[I 2021-08-20 11:53:32,390]\u001b[0m Trial 22 finished with value: 0.7297511051524108 and parameters: {'reg_alpha': 0.00786520571034214, 'reg_lambda': 3.797597404033318, 'colsample_bytree': 0.9, 'subsample': 0.5, 'learning_rate': 0.02, 'max_depth': 100, 'num_leaves': 728, 'min_child_samples': 208, 'min_data_per_groups': 4}. Best is trial 21 with value: 0.729581421654981.\u001b[0m\n"
     ]
    },
    {
     "data": {
      "application/javascript": [
       "\n",
       "        if (window._pyforest_update_imports_cell) { window._pyforest_update_imports_cell('from sklearn.model_selection import train_test_split'); }\n",
       "    "
      ],
      "text/plain": [
       "<IPython.core.display.Javascript object>"
      ]
     },
     "metadata": {},
     "output_type": "display_data"
    },
    {
     "name": "stderr",
     "output_type": "stream",
     "text": [
      "\u001b[32m[I 2021-08-20 11:54:26,063]\u001b[0m Trial 23 finished with value: 0.7295523280917255 and parameters: {'reg_alpha': 0.006215051192780176, 'reg_lambda': 4.230314059597249, 'colsample_bytree': 0.9, 'subsample': 0.5, 'learning_rate': 0.02, 'max_depth': 100, 'num_leaves': 777, 'min_child_samples': 209, 'min_data_per_groups': 9}. Best is trial 23 with value: 0.7295523280917255.\u001b[0m\n"
     ]
    },
    {
     "data": {
      "application/javascript": [
       "\n",
       "        if (window._pyforest_update_imports_cell) { window._pyforest_update_imports_cell('from sklearn.model_selection import train_test_split'); }\n",
       "    "
      ],
      "text/plain": [
       "<IPython.core.display.Javascript object>"
      ]
     },
     "metadata": {},
     "output_type": "display_data"
    },
    {
     "name": "stderr",
     "output_type": "stream",
     "text": [
      "\u001b[32m[I 2021-08-20 11:55:18,028]\u001b[0m Trial 24 finished with value: 0.7295452628029856 and parameters: {'reg_alpha': 0.007958423049589564, 'reg_lambda': 0.0010381243656063838, 'colsample_bytree': 0.9, 'subsample': 0.5, 'learning_rate': 0.02, 'max_depth': 100, 'num_leaves': 788, 'min_child_samples': 219, 'min_data_per_groups': 31}. Best is trial 24 with value: 0.7295452628029856.\u001b[0m\n"
     ]
    },
    {
     "data": {
      "application/javascript": [
       "\n",
       "        if (window._pyforest_update_imports_cell) { window._pyforest_update_imports_cell('from sklearn.model_selection import train_test_split'); }\n",
       "    "
      ],
      "text/plain": [
       "<IPython.core.display.Javascript object>"
      ]
     },
     "metadata": {},
     "output_type": "display_data"
    },
    {
     "name": "stderr",
     "output_type": "stream",
     "text": [
      "\u001b[32m[I 2021-08-20 11:56:07,807]\u001b[0m Trial 25 finished with value: 0.7294654014387576 and parameters: {'reg_alpha': 0.0028270967722625016, 'reg_lambda': 0.0016991431572898176, 'colsample_bytree': 0.9, 'subsample': 0.5, 'learning_rate': 0.02, 'max_depth': 100, 'num_leaves': 814, 'min_child_samples': 234, 'min_data_per_groups': 30}. Best is trial 25 with value: 0.7294654014387576.\u001b[0m\n"
     ]
    },
    {
     "data": {
      "application/javascript": [
       "\n",
       "        if (window._pyforest_update_imports_cell) { window._pyforest_update_imports_cell('from sklearn.model_selection import train_test_split'); }\n",
       "    "
      ],
      "text/plain": [
       "<IPython.core.display.Javascript object>"
      ]
     },
     "metadata": {},
     "output_type": "display_data"
    },
    {
     "name": "stderr",
     "output_type": "stream",
     "text": [
      "\u001b[32m[I 2021-08-20 11:56:58,053]\u001b[0m Trial 26 finished with value: 0.729427331491376 and parameters: {'reg_alpha': 0.0024934665702665126, 'reg_lambda': 0.001247271667106344, 'colsample_bytree': 0.9, 'subsample': 0.5, 'learning_rate': 0.02, 'max_depth': 100, 'num_leaves': 798, 'min_child_samples': 244, 'min_data_per_groups': 33}. Best is trial 26 with value: 0.729427331491376.\u001b[0m\n"
     ]
    },
    {
     "data": {
      "application/javascript": [
       "\n",
       "        if (window._pyforest_update_imports_cell) { window._pyforest_update_imports_cell('from sklearn.model_selection import train_test_split'); }\n",
       "    "
      ],
      "text/plain": [
       "<IPython.core.display.Javascript object>"
      ]
     },
     "metadata": {},
     "output_type": "display_data"
    },
    {
     "name": "stderr",
     "output_type": "stream",
     "text": [
      "\u001b[32m[I 2021-08-20 11:57:37,160]\u001b[0m Trial 27 finished with value: 0.7299803236157536 and parameters: {'reg_alpha': 0.00284739680478404, 'reg_lambda': 0.0010042375240307422, 'colsample_bytree': 0.6, 'subsample': 0.8, 'learning_rate': 0.02, 'max_depth': 100, 'num_leaves': 849, 'min_child_samples': 244, 'min_data_per_groups': 33}. Best is trial 26 with value: 0.729427331491376.\u001b[0m\n"
     ]
    },
    {
     "data": {
      "application/javascript": [
       "\n",
       "        if (window._pyforest_update_imports_cell) { window._pyforest_update_imports_cell('from sklearn.model_selection import train_test_split'); }\n",
       "    "
      ],
      "text/plain": [
       "<IPython.core.display.Javascript object>"
      ]
     },
     "metadata": {},
     "output_type": "display_data"
    },
    {
     "name": "stderr",
     "output_type": "stream",
     "text": [
      "\u001b[32m[I 2021-08-20 11:58:01,221]\u001b[0m Trial 28 finished with value: 0.7314766741935784 and parameters: {'reg_alpha': 0.01596798228741097, 'reg_lambda': 0.005180819624982077, 'colsample_bytree': 0.3, 'subsample': 0.5, 'learning_rate': 0.02, 'max_depth': 100, 'num_leaves': 969, 'min_child_samples': 254, 'min_data_per_groups': 32}. Best is trial 26 with value: 0.729427331491376.\u001b[0m\n"
     ]
    },
    {
     "data": {
      "application/javascript": [
       "\n",
       "        if (window._pyforest_update_imports_cell) { window._pyforest_update_imports_cell('from sklearn.model_selection import train_test_split'); }\n",
       "    "
      ],
      "text/plain": [
       "<IPython.core.display.Javascript object>"
      ]
     },
     "metadata": {},
     "output_type": "display_data"
    },
    {
     "name": "stderr",
     "output_type": "stream",
     "text": [
      "\u001b[32m[I 2021-08-20 11:58:51,909]\u001b[0m Trial 29 finished with value: 0.7294857141226346 and parameters: {'reg_alpha': 0.00271185480784864, 'reg_lambda': 0.003787890556165362, 'colsample_bytree': 0.9, 'subsample': 0.7, 'learning_rate': 0.02, 'max_depth': 100, 'num_leaves': 842, 'min_child_samples': 229, 'min_data_per_groups': 51}. Best is trial 26 with value: 0.729427331491376.\u001b[0m\n"
     ]
    },
    {
     "data": {
      "application/javascript": [
       "\n",
       "        if (window._pyforest_update_imports_cell) { window._pyforest_update_imports_cell('from sklearn.model_selection import train_test_split'); }\n",
       "    "
      ],
      "text/plain": [
       "<IPython.core.display.Javascript object>"
      ]
     },
     "metadata": {},
     "output_type": "display_data"
    },
    {
     "name": "stderr",
     "output_type": "stream",
     "text": [
      "\u001b[32m[I 2021-08-20 11:59:35,977]\u001b[0m Trial 30 finished with value: 0.729714923066929 and parameters: {'reg_alpha': 0.0026506149338838083, 'reg_lambda': 0.005722033950638836, 'colsample_bytree': 0.9, 'subsample': 0.7, 'learning_rate': 0.02, 'max_depth': 100, 'num_leaves': 893, 'min_child_samples': 297, 'min_data_per_groups': 48}. Best is trial 26 with value: 0.729427331491376.\u001b[0m\n"
     ]
    },
    {
     "data": {
      "application/javascript": [
       "\n",
       "        if (window._pyforest_update_imports_cell) { window._pyforest_update_imports_cell('from sklearn.model_selection import train_test_split'); }\n",
       "    "
      ],
      "text/plain": [
       "<IPython.core.display.Javascript object>"
      ]
     },
     "metadata": {},
     "output_type": "display_data"
    },
    {
     "name": "stderr",
     "output_type": "stream",
     "text": [
      "\u001b[32m[I 2021-08-20 12:00:26,869]\u001b[0m Trial 31 finished with value: 0.7294629612940698 and parameters: {'reg_alpha': 0.0028083168825001033, 'reg_lambda': 0.0010579685934506535, 'colsample_bytree': 0.9, 'subsample': 0.7, 'learning_rate': 0.02, 'max_depth': 100, 'num_leaves': 805, 'min_child_samples': 225, 'min_data_per_groups': 40}. Best is trial 26 with value: 0.729427331491376.\u001b[0m\n"
     ]
    },
    {
     "data": {
      "application/javascript": [
       "\n",
       "        if (window._pyforest_update_imports_cell) { window._pyforest_update_imports_cell('from sklearn.model_selection import train_test_split'); }\n",
       "    "
      ],
      "text/plain": [
       "<IPython.core.display.Javascript object>"
      ]
     },
     "metadata": {},
     "output_type": "display_data"
    },
    {
     "name": "stderr",
     "output_type": "stream",
     "text": [
      "\u001b[32m[I 2021-08-20 12:01:15,291]\u001b[0m Trial 32 finished with value: 0.729518972765166 and parameters: {'reg_alpha': 0.0026715058837029067, 'reg_lambda': 0.0033588363765003596, 'colsample_bytree': 0.9, 'subsample': 0.7, 'learning_rate': 0.02, 'max_depth': 100, 'num_leaves': 819, 'min_child_samples': 258, 'min_data_per_groups': 42}. Best is trial 26 with value: 0.729427331491376.\u001b[0m\n"
     ]
    },
    {
     "data": {
      "application/javascript": [
       "\n",
       "        if (window._pyforest_update_imports_cell) { window._pyforest_update_imports_cell('from sklearn.model_selection import train_test_split'); }\n",
       "    "
      ],
      "text/plain": [
       "<IPython.core.display.Javascript object>"
      ]
     },
     "metadata": {},
     "output_type": "display_data"
    },
    {
     "name": "stderr",
     "output_type": "stream",
     "text": [
      "\u001b[32m[I 2021-08-20 12:02:14,896]\u001b[0m Trial 33 finished with value: 0.7295762640549586 and parameters: {'reg_alpha': 0.0010484204364680618, 'reg_lambda': 0.0024986667038511493, 'colsample_bytree': 0.9, 'subsample': 0.7, 'learning_rate': 0.02, 'max_depth': 100, 'num_leaves': 895, 'min_child_samples': 186, 'min_data_per_groups': 57}. Best is trial 26 with value: 0.729427331491376.\u001b[0m\n"
     ]
    },
    {
     "data": {
      "application/javascript": [
       "\n",
       "        if (window._pyforest_update_imports_cell) { window._pyforest_update_imports_cell('from sklearn.model_selection import train_test_split'); }\n",
       "    "
      ],
      "text/plain": [
       "<IPython.core.display.Javascript object>"
      ]
     },
     "metadata": {},
     "output_type": "display_data"
    },
    {
     "name": "stderr",
     "output_type": "stream",
     "text": [
      "\u001b[32m[I 2021-08-20 12:02:35,745]\u001b[0m Trial 34 finished with value: 0.7358228593377977 and parameters: {'reg_alpha': 0.014625473588082218, 'reg_lambda': 0.016428010045052087, 'colsample_bytree': 0.5, 'subsample': 0.7, 'learning_rate': 0.01, 'max_depth': 10, 'num_leaves': 773, 'min_child_samples': 273, 'min_data_per_groups': 54}. Best is trial 26 with value: 0.729427331491376.\u001b[0m\n"
     ]
    },
    {
     "data": {
      "application/javascript": [
       "\n",
       "        if (window._pyforest_update_imports_cell) { window._pyforest_update_imports_cell('from sklearn.model_selection import train_test_split'); }\n",
       "    "
      ],
      "text/plain": [
       "<IPython.core.display.Javascript object>"
      ]
     },
     "metadata": {},
     "output_type": "display_data"
    },
    {
     "name": "stderr",
     "output_type": "stream",
     "text": [
      "\u001b[32m[I 2021-08-20 12:03:05,308]\u001b[0m Trial 35 finished with value: 0.7368914446393068 and parameters: {'reg_alpha': 0.0021343030408620223, 'reg_lambda': 0.001733583747642306, 'colsample_bytree': 0.4, 'subsample': 0.7, 'learning_rate': 0.008, 'max_depth': 100, 'num_leaves': 945, 'min_child_samples': 233, 'min_data_per_groups': 39}. Best is trial 26 with value: 0.729427331491376.\u001b[0m\n"
     ]
    },
    {
     "data": {
      "application/javascript": [
       "\n",
       "        if (window._pyforest_update_imports_cell) { window._pyforest_update_imports_cell('from sklearn.model_selection import train_test_split'); }\n",
       "    "
      ],
      "text/plain": [
       "<IPython.core.display.Javascript object>"
      ]
     },
     "metadata": {},
     "output_type": "display_data"
    },
    {
     "name": "stderr",
     "output_type": "stream",
     "text": [
      "\u001b[32m[I 2021-08-20 12:03:49,164]\u001b[0m Trial 36 finished with value: 0.7296779801709585 and parameters: {'reg_alpha': 0.004130531495865981, 'reg_lambda': 0.006713567678333308, 'colsample_bytree': 0.9, 'subsample': 0.7, 'learning_rate': 0.02, 'max_depth': 100, 'num_leaves': 543, 'min_child_samples': 276, 'min_data_per_groups': 26}. Best is trial 26 with value: 0.729427331491376.\u001b[0m\n"
     ]
    },
    {
     "data": {
      "application/javascript": [
       "\n",
       "        if (window._pyforest_update_imports_cell) { window._pyforest_update_imports_cell('from sklearn.model_selection import train_test_split'); }\n",
       "    "
      ],
      "text/plain": [
       "<IPython.core.display.Javascript object>"
      ]
     },
     "metadata": {},
     "output_type": "display_data"
    },
    {
     "name": "stderr",
     "output_type": "stream",
     "text": [
      "\u001b[32m[I 2021-08-20 12:04:20,810]\u001b[0m Trial 37 finished with value: 0.7305127329935874 and parameters: {'reg_alpha': 0.017968772191332288, 'reg_lambda': 0.0016527747007384608, 'colsample_bytree': 0.7, 'subsample': 0.8, 'learning_rate': 0.02, 'max_depth': 10, 'num_leaves': 866, 'min_child_samples': 226, 'min_data_per_groups': 43}. Best is trial 26 with value: 0.729427331491376.\u001b[0m\n"
     ]
    },
    {
     "data": {
      "application/javascript": [
       "\n",
       "        if (window._pyforest_update_imports_cell) { window._pyforest_update_imports_cell('from sklearn.model_selection import train_test_split'); }\n",
       "    "
      ],
      "text/plain": [
       "<IPython.core.display.Javascript object>"
      ]
     },
     "metadata": {},
     "output_type": "display_data"
    },
    {
     "name": "stderr",
     "output_type": "stream",
     "text": [
      "\u001b[32m[I 2021-08-20 12:04:52,344]\u001b[0m Trial 38 finished with value: 0.7383185863933407 and parameters: {'reg_alpha': 0.0010145156804749053, 'reg_lambda': 0.012369532009217069, 'colsample_bytree': 0.5, 'subsample': 1.0, 'learning_rate': 0.006, 'max_depth': 100, 'num_leaves': 611, 'min_child_samples': 196, 'min_data_per_groups': 26}. Best is trial 26 with value: 0.729427331491376.\u001b[0m\n"
     ]
    },
    {
     "data": {
      "application/javascript": [
       "\n",
       "        if (window._pyforest_update_imports_cell) { window._pyforest_update_imports_cell('from sklearn.model_selection import train_test_split'); }\n",
       "    "
      ],
      "text/plain": [
       "<IPython.core.display.Javascript object>"
      ]
     },
     "metadata": {},
     "output_type": "display_data"
    },
    {
     "name": "stderr",
     "output_type": "stream",
     "text": [
      "\u001b[32m[I 2021-08-20 12:05:31,771]\u001b[0m Trial 39 finished with value: 0.7361216426175966 and parameters: {'reg_alpha': 0.0016228634404037623, 'reg_lambda': 0.027414078525499905, 'colsample_bytree': 0.6, 'subsample': 0.4, 'learning_rate': 0.008, 'max_depth': 100, 'num_leaves': 738, 'min_child_samples': 173, 'min_data_per_groups': 13}. Best is trial 26 with value: 0.729427331491376.\u001b[0m\n"
     ]
    },
    {
     "data": {
      "application/javascript": [
       "\n",
       "        if (window._pyforest_update_imports_cell) { window._pyforest_update_imports_cell('from sklearn.model_selection import train_test_split'); }\n",
       "    "
      ],
      "text/plain": [
       "<IPython.core.display.Javascript object>"
      ]
     },
     "metadata": {},
     "output_type": "display_data"
    },
    {
     "name": "stderr",
     "output_type": "stream",
     "text": [
      "\u001b[32m[I 2021-08-20 12:05:58,988]\u001b[0m Trial 40 finished with value: 0.7354765300479205 and parameters: {'reg_alpha': 0.01112768039586025, 'reg_lambda': 0.0034044775552296075, 'colsample_bytree': 0.4, 'subsample': 0.9, 'learning_rate': 0.01, 'max_depth': 100, 'num_leaves': 811, 'min_child_samples': 256, 'min_data_per_groups': 36}. Best is trial 26 with value: 0.729427331491376.\u001b[0m\n"
     ]
    },
    {
     "data": {
      "application/javascript": [
       "\n",
       "        if (window._pyforest_update_imports_cell) { window._pyforest_update_imports_cell('from sklearn.model_selection import train_test_split'); }\n",
       "    "
      ],
      "text/plain": [
       "<IPython.core.display.Javascript object>"
      ]
     },
     "metadata": {},
     "output_type": "display_data"
    },
    {
     "name": "stderr",
     "output_type": "stream",
     "text": [
      "\u001b[32m[I 2021-08-20 12:06:46,676]\u001b[0m Trial 41 finished with value: 0.7294627063649731 and parameters: {'reg_alpha': 0.0033424462010246945, 'reg_lambda': 0.002966051571714936, 'colsample_bytree': 0.9, 'subsample': 0.7, 'learning_rate': 0.02, 'max_depth': 100, 'num_leaves': 825, 'min_child_samples': 260, 'min_data_per_groups': 41}. Best is trial 26 with value: 0.729427331491376.\u001b[0m\n"
     ]
    },
    {
     "data": {
      "application/javascript": [
       "\n",
       "        if (window._pyforest_update_imports_cell) { window._pyforest_update_imports_cell('from sklearn.model_selection import train_test_split'); }\n",
       "    "
      ],
      "text/plain": [
       "<IPython.core.display.Javascript object>"
      ]
     },
     "metadata": {},
     "output_type": "display_data"
    },
    {
     "name": "stderr",
     "output_type": "stream",
     "text": [
      "\u001b[32m[I 2021-08-20 12:07:31,984]\u001b[0m Trial 42 finished with value: 0.7294968933118049 and parameters: {'reg_alpha': 0.00424530274925028, 'reg_lambda': 0.0015431793796321623, 'colsample_bytree': 0.9, 'subsample': 0.7, 'learning_rate': 0.02, 'max_depth': 100, 'num_leaves': 923, 'min_child_samples': 283, 'min_data_per_groups': 52}. Best is trial 26 with value: 0.729427331491376.\u001b[0m\n"
     ]
    },
    {
     "data": {
      "application/javascript": [
       "\n",
       "        if (window._pyforest_update_imports_cell) { window._pyforest_update_imports_cell('from sklearn.model_selection import train_test_split'); }\n",
       "    "
      ],
      "text/plain": [
       "<IPython.core.display.Javascript object>"
      ]
     },
     "metadata": {},
     "output_type": "display_data"
    },
    {
     "name": "stderr",
     "output_type": "stream",
     "text": [
      "\u001b[32m[I 2021-08-20 12:08:18,078]\u001b[0m Trial 43 finished with value: 0.7295376340469062 and parameters: {'reg_alpha': 0.001829064043843551, 'reg_lambda': 0.0032314228435430695, 'colsample_bytree': 0.9, 'subsample': 0.7, 'learning_rate': 0.02, 'max_depth': 100, 'num_leaves': 676, 'min_child_samples': 245, 'min_data_per_groups': 45}. Best is trial 26 with value: 0.729427331491376.\u001b[0m\n"
     ]
    },
    {
     "data": {
      "application/javascript": [
       "\n",
       "        if (window._pyforest_update_imports_cell) { window._pyforest_update_imports_cell('from sklearn.model_selection import train_test_split'); }\n",
       "    "
      ],
      "text/plain": [
       "<IPython.core.display.Javascript object>"
      ]
     },
     "metadata": {},
     "output_type": "display_data"
    },
    {
     "name": "stderr",
     "output_type": "stream",
     "text": [
      "\u001b[32m[I 2021-08-20 12:08:33,674]\u001b[0m Trial 44 finished with value: 0.7347983472962822 and parameters: {'reg_alpha': 0.003336713486641286, 'reg_lambda': 0.0098664110650239, 'colsample_bytree': 0.3, 'subsample': 0.7, 'learning_rate': 0.014, 'max_depth': 10, 'num_leaves': 843, 'min_child_samples': 216, 'min_data_per_groups': 59}. Best is trial 26 with value: 0.729427331491376.\u001b[0m\n"
     ]
    },
    {
     "data": {
      "application/javascript": [
       "\n",
       "        if (window._pyforest_update_imports_cell) { window._pyforest_update_imports_cell('from sklearn.model_selection import train_test_split'); }\n",
       "    "
      ],
      "text/plain": [
       "<IPython.core.display.Javascript object>"
      ]
     },
     "metadata": {},
     "output_type": "display_data"
    },
    {
     "name": "stderr",
     "output_type": "stream",
     "text": [
      "\u001b[32m[I 2021-08-20 12:09:19,815]\u001b[0m Trial 45 finished with value: 0.7295465090842521 and parameters: {'reg_alpha': 0.022973387579503023, 'reg_lambda': 0.0024630478381832323, 'colsample_bytree': 0.9, 'subsample': 1.0, 'learning_rate': 0.02, 'max_depth': 100, 'num_leaves': 750, 'min_child_samples': 260, 'min_data_per_groups': 28}. Best is trial 26 with value: 0.729427331491376.\u001b[0m\n"
     ]
    },
    {
     "data": {
      "application/javascript": [
       "\n",
       "        if (window._pyforest_update_imports_cell) { window._pyforest_update_imports_cell('from sklearn.model_selection import train_test_split'); }\n",
       "    "
      ],
      "text/plain": [
       "<IPython.core.display.Javascript object>"
      ]
     },
     "metadata": {},
     "output_type": "display_data"
    },
    {
     "name": "stderr",
     "output_type": "stream",
     "text": [
      "\u001b[32m[I 2021-08-20 12:09:56,322]\u001b[0m Trial 46 finished with value: 0.7376782346993466 and parameters: {'reg_alpha': 0.0017812472951319002, 'reg_lambda': 0.0013036319627290139, 'colsample_bytree': 0.7, 'subsample': 0.4, 'learning_rate': 0.006, 'max_depth': 100, 'num_leaves': 1000, 'min_child_samples': 298, 'min_data_per_groups': 36}. Best is trial 26 with value: 0.729427331491376.\u001b[0m\n"
     ]
    },
    {
     "data": {
      "application/javascript": [
       "\n",
       "        if (window._pyforest_update_imports_cell) { window._pyforest_update_imports_cell('from sklearn.model_selection import train_test_split'); }\n",
       "    "
      ],
      "text/plain": [
       "<IPython.core.display.Javascript object>"
      ]
     },
     "metadata": {},
     "output_type": "display_data"
    },
    {
     "name": "stderr",
     "output_type": "stream",
     "text": [
      "\u001b[32m[I 2021-08-20 12:10:46,372]\u001b[0m Trial 47 finished with value: 0.7294730054341563 and parameters: {'reg_alpha': 0.011233953013334888, 'reg_lambda': 0.004520744762851809, 'colsample_bytree': 0.9, 'subsample': 0.7, 'learning_rate': 0.02, 'max_depth': 100, 'num_leaves': 881, 'min_child_samples': 233, 'min_data_per_groups': 20}. Best is trial 26 with value: 0.729427331491376.\u001b[0m\n"
     ]
    },
    {
     "data": {
      "application/javascript": [
       "\n",
       "        if (window._pyforest_update_imports_cell) { window._pyforest_update_imports_cell('from sklearn.model_selection import train_test_split'); }\n",
       "    "
      ],
      "text/plain": [
       "<IPython.core.display.Javascript object>"
      ]
     },
     "metadata": {},
     "output_type": "display_data"
    },
    {
     "name": "stderr",
     "output_type": "stream",
     "text": [
      "\u001b[32m[I 2021-08-20 12:11:18,832]\u001b[0m Trial 48 finished with value: 0.7326190984834818 and parameters: {'reg_alpha': 0.010657741471737946, 'reg_lambda': 0.008106761357559205, 'colsample_bytree': 0.9, 'subsample': 0.9, 'learning_rate': 0.014, 'max_depth': 10, 'num_leaves': 952, 'min_child_samples': 264, 'min_data_per_groups': 20}. Best is trial 26 with value: 0.729427331491376.\u001b[0m\n"
     ]
    },
    {
     "data": {
      "application/javascript": [
       "\n",
       "        if (window._pyforest_update_imports_cell) { window._pyforest_update_imports_cell('from sklearn.model_selection import train_test_split'); }\n",
       "    "
      ],
      "text/plain": [
       "<IPython.core.display.Javascript object>"
      ]
     },
     "metadata": {},
     "output_type": "display_data"
    },
    {
     "name": "stderr",
     "output_type": "stream",
     "text": [
      "\u001b[32m[I 2021-08-20 12:12:12,846]\u001b[0m Trial 49 finished with value: 0.7353595748702516 and parameters: {'reg_alpha': 0.03379615644473826, 'reg_lambda': 0.022551802771230898, 'colsample_bytree': 0.8, 'subsample': 0.8, 'learning_rate': 0.008, 'max_depth': 100, 'num_leaves': 885, 'min_child_samples': 179, 'min_data_per_groups': 15}. Best is trial 26 with value: 0.729427331491376.\u001b[0m\n"
     ]
    },
    {
     "name": "stdout",
     "output_type": "stream",
     "text": [
      "number of finished trials: 50\n",
      "Best trial: {'reg_alpha': 0.0024934665702665126, 'reg_lambda': 0.001247271667106344, 'colsample_bytree': 0.9, 'subsample': 0.5, 'learning_rate': 0.02, 'max_depth': 100, 'num_leaves': 798, 'min_child_samples': 244, 'min_data_per_groups': 33}\n"
     ]
    }
   ],
   "source": [
    "\n",
    "study=optuna.create_study(direction='minimize')\n",
    "study.optimize(objective,n_trials=50)\n",
    "print('number of finished trials:',len(study.trials))\n",
    "print('Best trial:',study.best_trial.params)\n",
    "\n"
   ]
  },
  {
   "cell_type": "code",
   "execution_count": 165,
   "id": "99a4ced4",
   "metadata": {},
   "outputs": [
    {
     "data": {
      "text/html": [
       "<div>\n",
       "<style scoped>\n",
       "    .dataframe tbody tr th:only-of-type {\n",
       "        vertical-align: middle;\n",
       "    }\n",
       "\n",
       "    .dataframe tbody tr th {\n",
       "        vertical-align: top;\n",
       "    }\n",
       "\n",
       "    .dataframe thead th {\n",
       "        text-align: right;\n",
       "    }\n",
       "</style>\n",
       "<table border=\"1\" class=\"dataframe\">\n",
       "  <thead>\n",
       "    <tr style=\"text-align: right;\">\n",
       "      <th></th>\n",
       "      <th>number</th>\n",
       "      <th>value</th>\n",
       "      <th>datetime_start</th>\n",
       "      <th>datetime_complete</th>\n",
       "      <th>duration</th>\n",
       "      <th>params_alpha</th>\n",
       "      <th>params_colsample_bytree</th>\n",
       "      <th>params_lambda</th>\n",
       "      <th>params_learning_rate</th>\n",
       "      <th>params_max_depth</th>\n",
       "      <th>params_min_child_weight</th>\n",
       "      <th>params_random_state</th>\n",
       "      <th>params_subsample</th>\n",
       "      <th>state</th>\n",
       "    </tr>\n",
       "  </thead>\n",
       "  <tbody>\n",
       "    <tr>\n",
       "      <th>0</th>\n",
       "      <td>0</td>\n",
       "      <td>0.723351</td>\n",
       "      <td>2021-08-18 14:36:35.819690</td>\n",
       "      <td>2021-08-18 14:38:17.487478</td>\n",
       "      <td>0 days 00:01:41.667788</td>\n",
       "      <td>0.210313</td>\n",
       "      <td>0.9</td>\n",
       "      <td>0.247248</td>\n",
       "      <td>0.020</td>\n",
       "      <td>15</td>\n",
       "      <td>81</td>\n",
       "      <td>24</td>\n",
       "      <td>0.6</td>\n",
       "      <td>COMPLETE</td>\n",
       "    </tr>\n",
       "    <tr>\n",
       "      <th>1</th>\n",
       "      <td>1</td>\n",
       "      <td>0.721256</td>\n",
       "      <td>2021-08-18 14:38:17.487478</td>\n",
       "      <td>2021-08-18 14:40:11.180872</td>\n",
       "      <td>0 days 00:01:53.693394</td>\n",
       "      <td>0.034017</td>\n",
       "      <td>0.7</td>\n",
       "      <td>0.308782</td>\n",
       "      <td>0.018</td>\n",
       "      <td>13</td>\n",
       "      <td>276</td>\n",
       "      <td>24</td>\n",
       "      <td>0.8</td>\n",
       "      <td>COMPLETE</td>\n",
       "    </tr>\n",
       "    <tr>\n",
       "      <th>2</th>\n",
       "      <td>2</td>\n",
       "      <td>0.722103</td>\n",
       "      <td>2021-08-18 14:40:11.188878</td>\n",
       "      <td>2021-08-18 14:43:41.668000</td>\n",
       "      <td>0 days 00:03:30.479122</td>\n",
       "      <td>0.002766</td>\n",
       "      <td>0.9</td>\n",
       "      <td>0.783375</td>\n",
       "      <td>0.008</td>\n",
       "      <td>15</td>\n",
       "      <td>106</td>\n",
       "      <td>48</td>\n",
       "      <td>0.4</td>\n",
       "      <td>COMPLETE</td>\n",
       "    </tr>\n",
       "    <tr>\n",
       "      <th>3</th>\n",
       "      <td>3</td>\n",
       "      <td>0.720108</td>\n",
       "      <td>2021-08-18 14:43:41.683631</td>\n",
       "      <td>2021-08-18 14:47:52.231384</td>\n",
       "      <td>0 days 00:04:10.547753</td>\n",
       "      <td>0.835604</td>\n",
       "      <td>1.0</td>\n",
       "      <td>0.005694</td>\n",
       "      <td>0.009</td>\n",
       "      <td>7</td>\n",
       "      <td>299</td>\n",
       "      <td>48</td>\n",
       "      <td>0.4</td>\n",
       "      <td>COMPLETE</td>\n",
       "    </tr>\n",
       "    <tr>\n",
       "      <th>4</th>\n",
       "      <td>4</td>\n",
       "      <td>0.722329</td>\n",
       "      <td>2021-08-18 14:47:52.232366</td>\n",
       "      <td>2021-08-18 14:50:02.654198</td>\n",
       "      <td>0 days 00:02:10.421832</td>\n",
       "      <td>0.627865</td>\n",
       "      <td>0.7</td>\n",
       "      <td>0.001597</td>\n",
       "      <td>0.018</td>\n",
       "      <td>9</td>\n",
       "      <td>5</td>\n",
       "      <td>24</td>\n",
       "      <td>0.4</td>\n",
       "      <td>COMPLETE</td>\n",
       "    </tr>\n",
       "    <tr>\n",
       "      <th>5</th>\n",
       "      <td>5</td>\n",
       "      <td>0.720798</td>\n",
       "      <td>2021-08-18 14:50:02.654198</td>\n",
       "      <td>2021-08-18 14:53:38.424307</td>\n",
       "      <td>0 days 00:03:35.770109</td>\n",
       "      <td>0.024296</td>\n",
       "      <td>0.4</td>\n",
       "      <td>0.009045</td>\n",
       "      <td>0.009</td>\n",
       "      <td>20</td>\n",
       "      <td>279</td>\n",
       "      <td>24</td>\n",
       "      <td>1.0</td>\n",
       "      <td>COMPLETE</td>\n",
       "    </tr>\n",
       "    <tr>\n",
       "      <th>6</th>\n",
       "      <td>6</td>\n",
       "      <td>0.725053</td>\n",
       "      <td>2021-08-18 14:53:38.424307</td>\n",
       "      <td>2021-08-18 14:57:01.333694</td>\n",
       "      <td>0 days 00:03:22.909387</td>\n",
       "      <td>0.478301</td>\n",
       "      <td>0.7</td>\n",
       "      <td>0.022959</td>\n",
       "      <td>0.014</td>\n",
       "      <td>20</td>\n",
       "      <td>49</td>\n",
       "      <td>24</td>\n",
       "      <td>1.0</td>\n",
       "      <td>COMPLETE</td>\n",
       "    </tr>\n",
       "    <tr>\n",
       "      <th>7</th>\n",
       "      <td>7</td>\n",
       "      <td>0.720710</td>\n",
       "      <td>2021-08-18 14:57:01.341735</td>\n",
       "      <td>2021-08-18 15:00:57.356765</td>\n",
       "      <td>0 days 00:03:56.015030</td>\n",
       "      <td>2.261671</td>\n",
       "      <td>0.9</td>\n",
       "      <td>0.219821</td>\n",
       "      <td>0.008</td>\n",
       "      <td>5</td>\n",
       "      <td>236</td>\n",
       "      <td>48</td>\n",
       "      <td>0.6</td>\n",
       "      <td>COMPLETE</td>\n",
       "    </tr>\n",
       "    <tr>\n",
       "      <th>8</th>\n",
       "      <td>8</td>\n",
       "      <td>0.722506</td>\n",
       "      <td>2021-08-18 15:00:57.364773</td>\n",
       "      <td>2021-08-18 15:03:37.786284</td>\n",
       "      <td>0 days 00:02:40.421511</td>\n",
       "      <td>1.952240</td>\n",
       "      <td>0.7</td>\n",
       "      <td>0.001307</td>\n",
       "      <td>0.012</td>\n",
       "      <td>17</td>\n",
       "      <td>114</td>\n",
       "      <td>24</td>\n",
       "      <td>0.6</td>\n",
       "      <td>COMPLETE</td>\n",
       "    </tr>\n",
       "    <tr>\n",
       "      <th>9</th>\n",
       "      <td>9</td>\n",
       "      <td>0.721923</td>\n",
       "      <td>2021-08-18 15:03:37.794279</td>\n",
       "      <td>2021-08-18 15:06:13.961432</td>\n",
       "      <td>0 days 00:02:36.167153</td>\n",
       "      <td>0.240505</td>\n",
       "      <td>0.6</td>\n",
       "      <td>0.015272</td>\n",
       "      <td>0.012</td>\n",
       "      <td>11</td>\n",
       "      <td>31</td>\n",
       "      <td>48</td>\n",
       "      <td>0.5</td>\n",
       "      <td>COMPLETE</td>\n",
       "    </tr>\n",
       "    <tr>\n",
       "      <th>10</th>\n",
       "      <td>10</td>\n",
       "      <td>0.720071</td>\n",
       "      <td>2021-08-18 15:06:13.964946</td>\n",
       "      <td>2021-08-18 15:10:33.693121</td>\n",
       "      <td>0 days 00:04:19.728175</td>\n",
       "      <td>6.469671</td>\n",
       "      <td>1.0</td>\n",
       "      <td>6.794042</td>\n",
       "      <td>0.009</td>\n",
       "      <td>7</td>\n",
       "      <td>188</td>\n",
       "      <td>2020</td>\n",
       "      <td>0.7</td>\n",
       "      <td>COMPLETE</td>\n",
       "    </tr>\n",
       "    <tr>\n",
       "      <th>11</th>\n",
       "      <td>11</td>\n",
       "      <td>0.720061</td>\n",
       "      <td>2021-08-18 15:10:33.695000</td>\n",
       "      <td>2021-08-18 15:14:59.189846</td>\n",
       "      <td>0 days 00:04:25.494846</td>\n",
       "      <td>8.705729</td>\n",
       "      <td>1.0</td>\n",
       "      <td>9.763087</td>\n",
       "      <td>0.009</td>\n",
       "      <td>7</td>\n",
       "      <td>193</td>\n",
       "      <td>2020</td>\n",
       "      <td>0.7</td>\n",
       "      <td>COMPLETE</td>\n",
       "    </tr>\n",
       "    <tr>\n",
       "      <th>12</th>\n",
       "      <td>12</td>\n",
       "      <td>0.720093</td>\n",
       "      <td>2021-08-18 15:14:59.197147</td>\n",
       "      <td>2021-08-18 15:19:23.737261</td>\n",
       "      <td>0 days 00:04:24.540114</td>\n",
       "      <td>6.707730</td>\n",
       "      <td>1.0</td>\n",
       "      <td>7.977181</td>\n",
       "      <td>0.009</td>\n",
       "      <td>7</td>\n",
       "      <td>186</td>\n",
       "      <td>2020</td>\n",
       "      <td>0.7</td>\n",
       "      <td>COMPLETE</td>\n",
       "    </tr>\n",
       "    <tr>\n",
       "      <th>13</th>\n",
       "      <td>13</td>\n",
       "      <td>0.719985</td>\n",
       "      <td>2021-08-18 15:19:23.740173</td>\n",
       "      <td>2021-08-18 15:22:20.510327</td>\n",
       "      <td>0 days 00:02:56.770154</td>\n",
       "      <td>9.879546</td>\n",
       "      <td>0.8</td>\n",
       "      <td>6.774530</td>\n",
       "      <td>0.016</td>\n",
       "      <td>7</td>\n",
       "      <td>176</td>\n",
       "      <td>2020</td>\n",
       "      <td>0.7</td>\n",
       "      <td>COMPLETE</td>\n",
       "    </tr>\n",
       "    <tr>\n",
       "      <th>14</th>\n",
       "      <td>14</td>\n",
       "      <td>0.720044</td>\n",
       "      <td>2021-08-18 15:22:20.518332</td>\n",
       "      <td>2021-08-18 15:25:18.639658</td>\n",
       "      <td>0 days 00:02:58.121326</td>\n",
       "      <td>9.960511</td>\n",
       "      <td>0.8</td>\n",
       "      <td>1.893362</td>\n",
       "      <td>0.016</td>\n",
       "      <td>7</td>\n",
       "      <td>175</td>\n",
       "      <td>2020</td>\n",
       "      <td>0.7</td>\n",
       "      <td>COMPLETE</td>\n",
       "    </tr>\n",
       "    <tr>\n",
       "      <th>15</th>\n",
       "      <td>15</td>\n",
       "      <td>0.720285</td>\n",
       "      <td>2021-08-18 15:25:18.655279</td>\n",
       "      <td>2021-08-18 15:27:47.111799</td>\n",
       "      <td>0 days 00:02:28.456520</td>\n",
       "      <td>0.001520</td>\n",
       "      <td>0.8</td>\n",
       "      <td>2.261722</td>\n",
       "      <td>0.016</td>\n",
       "      <td>7</td>\n",
       "      <td>145</td>\n",
       "      <td>2020</td>\n",
       "      <td>0.7</td>\n",
       "      <td>COMPLETE</td>\n",
       "    </tr>\n",
       "    <tr>\n",
       "      <th>16</th>\n",
       "      <td>16</td>\n",
       "      <td>0.720406</td>\n",
       "      <td>2021-08-18 15:27:47.114791</td>\n",
       "      <td>2021-08-18 15:29:35.507912</td>\n",
       "      <td>0 days 00:01:48.393121</td>\n",
       "      <td>2.295809</td>\n",
       "      <td>0.8</td>\n",
       "      <td>1.796895</td>\n",
       "      <td>0.016</td>\n",
       "      <td>9</td>\n",
       "      <td>228</td>\n",
       "      <td>2020</td>\n",
       "      <td>0.7</td>\n",
       "      <td>COMPLETE</td>\n",
       "    </tr>\n",
       "    <tr>\n",
       "      <th>17</th>\n",
       "      <td>17</td>\n",
       "      <td>0.720707</td>\n",
       "      <td>2021-08-18 15:29:35.507912</td>\n",
       "      <td>2021-08-18 15:31:26.368296</td>\n",
       "      <td>0 days 00:01:50.860384</td>\n",
       "      <td>0.038914</td>\n",
       "      <td>0.5</td>\n",
       "      <td>0.070426</td>\n",
       "      <td>0.010</td>\n",
       "      <td>11</td>\n",
       "      <td>151</td>\n",
       "      <td>2020</td>\n",
       "      <td>0.8</td>\n",
       "      <td>COMPLETE</td>\n",
       "    </tr>\n",
       "    <tr>\n",
       "      <th>18</th>\n",
       "      <td>18</td>\n",
       "      <td>0.721690</td>\n",
       "      <td>2021-08-18 15:31:26.368296</td>\n",
       "      <td>2021-08-18 15:32:33.747092</td>\n",
       "      <td>0 days 00:01:07.378796</td>\n",
       "      <td>0.007291</td>\n",
       "      <td>0.8</td>\n",
       "      <td>1.432941</td>\n",
       "      <td>0.016</td>\n",
       "      <td>13</td>\n",
       "      <td>154</td>\n",
       "      <td>2020</td>\n",
       "      <td>0.5</td>\n",
       "      <td>COMPLETE</td>\n",
       "    </tr>\n",
       "    <tr>\n",
       "      <th>19</th>\n",
       "      <td>19</td>\n",
       "      <td>0.719995</td>\n",
       "      <td>2021-08-18 15:32:33.747092</td>\n",
       "      <td>2021-08-18 15:33:56.521564</td>\n",
       "      <td>0 days 00:01:22.774472</td>\n",
       "      <td>2.867349</td>\n",
       "      <td>0.3</td>\n",
       "      <td>3.425793</td>\n",
       "      <td>0.016</td>\n",
       "      <td>17</td>\n",
       "      <td>239</td>\n",
       "      <td>2020</td>\n",
       "      <td>0.7</td>\n",
       "      <td>COMPLETE</td>\n",
       "    </tr>\n",
       "    <tr>\n",
       "      <th>20</th>\n",
       "      <td>20</td>\n",
       "      <td>0.720075</td>\n",
       "      <td>2021-08-18 15:33:56.524557</td>\n",
       "      <td>2021-08-18 15:35:25.866688</td>\n",
       "      <td>0 days 00:01:29.342131</td>\n",
       "      <td>3.011882</td>\n",
       "      <td>0.3</td>\n",
       "      <td>0.624167</td>\n",
       "      <td>0.016</td>\n",
       "      <td>17</td>\n",
       "      <td>234</td>\n",
       "      <td>2020</td>\n",
       "      <td>0.7</td>\n",
       "      <td>COMPLETE</td>\n",
       "    </tr>\n",
       "    <tr>\n",
       "      <th>21</th>\n",
       "      <td>21</td>\n",
       "      <td>0.719851</td>\n",
       "      <td>2021-08-18 15:35:25.869678</td>\n",
       "      <td>2021-08-18 15:36:47.783489</td>\n",
       "      <td>0 days 00:01:21.913811</td>\n",
       "      <td>8.230843</td>\n",
       "      <td>0.3</td>\n",
       "      <td>3.487803</td>\n",
       "      <td>0.016</td>\n",
       "      <td>17</td>\n",
       "      <td>204</td>\n",
       "      <td>2020</td>\n",
       "      <td>0.7</td>\n",
       "      <td>COMPLETE</td>\n",
       "    </tr>\n",
       "    <tr>\n",
       "      <th>22</th>\n",
       "      <td>22</td>\n",
       "      <td>0.719889</td>\n",
       "      <td>2021-08-18 15:36:47.785484</td>\n",
       "      <td>2021-08-18 15:38:08.593892</td>\n",
       "      <td>0 days 00:01:20.808408</td>\n",
       "      <td>3.736279</td>\n",
       "      <td>0.3</td>\n",
       "      <td>4.324506</td>\n",
       "      <td>0.016</td>\n",
       "      <td>17</td>\n",
       "      <td>210</td>\n",
       "      <td>2020</td>\n",
       "      <td>0.7</td>\n",
       "      <td>COMPLETE</td>\n",
       "    </tr>\n",
       "    <tr>\n",
       "      <th>23</th>\n",
       "      <td>23</td>\n",
       "      <td>0.720200</td>\n",
       "      <td>2021-08-18 15:38:08.593892</td>\n",
       "      <td>2021-08-18 15:39:31.341234</td>\n",
       "      <td>0 days 00:01:22.747342</td>\n",
       "      <td>1.230818</td>\n",
       "      <td>0.3</td>\n",
       "      <td>3.057120</td>\n",
       "      <td>0.016</td>\n",
       "      <td>17</td>\n",
       "      <td>215</td>\n",
       "      <td>2020</td>\n",
       "      <td>0.7</td>\n",
       "      <td>COMPLETE</td>\n",
       "    </tr>\n",
       "    <tr>\n",
       "      <th>24</th>\n",
       "      <td>24</td>\n",
       "      <td>0.719810</td>\n",
       "      <td>2021-08-18 15:39:31.341234</td>\n",
       "      <td>2021-08-18 15:41:44.278706</td>\n",
       "      <td>0 days 00:02:12.937472</td>\n",
       "      <td>4.641249</td>\n",
       "      <td>0.3</td>\n",
       "      <td>5.263978</td>\n",
       "      <td>0.010</td>\n",
       "      <td>17</td>\n",
       "      <td>205</td>\n",
       "      <td>2020</td>\n",
       "      <td>0.7</td>\n",
       "      <td>COMPLETE</td>\n",
       "    </tr>\n",
       "    <tr>\n",
       "      <th>25</th>\n",
       "      <td>25</td>\n",
       "      <td>0.719724</td>\n",
       "      <td>2021-08-18 15:41:44.278706</td>\n",
       "      <td>2021-08-18 15:43:42.237951</td>\n",
       "      <td>0 days 00:01:57.959245</td>\n",
       "      <td>4.176269</td>\n",
       "      <td>0.3</td>\n",
       "      <td>0.819177</td>\n",
       "      <td>0.010</td>\n",
       "      <td>17</td>\n",
       "      <td>211</td>\n",
       "      <td>2020</td>\n",
       "      <td>0.7</td>\n",
       "      <td>COMPLETE</td>\n",
       "    </tr>\n",
       "    <tr>\n",
       "      <th>26</th>\n",
       "      <td>26</td>\n",
       "      <td>0.720256</td>\n",
       "      <td>2021-08-18 15:43:42.239978</td>\n",
       "      <td>2021-08-18 15:45:32.278543</td>\n",
       "      <td>0 days 00:01:50.038565</td>\n",
       "      <td>0.180564</td>\n",
       "      <td>0.3</td>\n",
       "      <td>0.863277</td>\n",
       "      <td>0.010</td>\n",
       "      <td>17</td>\n",
       "      <td>259</td>\n",
       "      <td>2020</td>\n",
       "      <td>1.0</td>\n",
       "      <td>COMPLETE</td>\n",
       "    </tr>\n",
       "    <tr>\n",
       "      <th>27</th>\n",
       "      <td>27</td>\n",
       "      <td>0.719563</td>\n",
       "      <td>2021-08-18 15:45:32.278543</td>\n",
       "      <td>2021-08-18 15:47:24.065904</td>\n",
       "      <td>0 days 00:01:51.787361</td>\n",
       "      <td>1.317150</td>\n",
       "      <td>0.3</td>\n",
       "      <td>0.062831</td>\n",
       "      <td>0.010</td>\n",
       "      <td>17</td>\n",
       "      <td>207</td>\n",
       "      <td>2020</td>\n",
       "      <td>0.5</td>\n",
       "      <td>COMPLETE</td>\n",
       "    </tr>\n",
       "    <tr>\n",
       "      <th>28</th>\n",
       "      <td>28</td>\n",
       "      <td>0.719292</td>\n",
       "      <td>2021-08-18 15:47:24.068896</td>\n",
       "      <td>2021-08-18 15:49:33.962055</td>\n",
       "      <td>0 days 00:02:09.893159</td>\n",
       "      <td>1.206087</td>\n",
       "      <td>0.3</td>\n",
       "      <td>0.112321</td>\n",
       "      <td>0.010</td>\n",
       "      <td>5</td>\n",
       "      <td>259</td>\n",
       "      <td>2020</td>\n",
       "      <td>0.5</td>\n",
       "      <td>COMPLETE</td>\n",
       "    </tr>\n",
       "    <tr>\n",
       "      <th>29</th>\n",
       "      <td>29</td>\n",
       "      <td>0.719775</td>\n",
       "      <td>2021-08-18 15:49:33.962055</td>\n",
       "      <td>2021-08-18 15:51:51.105203</td>\n",
       "      <td>0 days 00:02:17.143148</td>\n",
       "      <td>0.304240</td>\n",
       "      <td>0.6</td>\n",
       "      <td>0.068304</td>\n",
       "      <td>0.010</td>\n",
       "      <td>5</td>\n",
       "      <td>258</td>\n",
       "      <td>48</td>\n",
       "      <td>0.5</td>\n",
       "      <td>COMPLETE</td>\n",
       "    </tr>\n",
       "    <tr>\n",
       "      <th>30</th>\n",
       "      <td>30</td>\n",
       "      <td>0.719107</td>\n",
       "      <td>2021-08-18 15:51:51.105203</td>\n",
       "      <td>2021-08-18 15:53:21.071149</td>\n",
       "      <td>0 days 00:01:29.965946</td>\n",
       "      <td>1.363230</td>\n",
       "      <td>0.4</td>\n",
       "      <td>0.132331</td>\n",
       "      <td>0.020</td>\n",
       "      <td>5</td>\n",
       "      <td>256</td>\n",
       "      <td>2020</td>\n",
       "      <td>0.5</td>\n",
       "      <td>COMPLETE</td>\n",
       "    </tr>\n",
       "    <tr>\n",
       "      <th>31</th>\n",
       "      <td>31</td>\n",
       "      <td>0.719097</td>\n",
       "      <td>2021-08-18 15:53:21.071149</td>\n",
       "      <td>2021-08-18 15:54:53.949405</td>\n",
       "      <td>0 days 00:01:32.878256</td>\n",
       "      <td>1.151636</td>\n",
       "      <td>0.4</td>\n",
       "      <td>0.041961</td>\n",
       "      <td>0.020</td>\n",
       "      <td>5</td>\n",
       "      <td>258</td>\n",
       "      <td>2020</td>\n",
       "      <td>0.5</td>\n",
       "      <td>COMPLETE</td>\n",
       "    </tr>\n",
       "    <tr>\n",
       "      <th>32</th>\n",
       "      <td>32</td>\n",
       "      <td>0.718980</td>\n",
       "      <td>2021-08-18 15:54:53.949405</td>\n",
       "      <td>2021-08-18 15:56:45.260016</td>\n",
       "      <td>0 days 00:01:51.310611</td>\n",
       "      <td>1.119929</td>\n",
       "      <td>0.4</td>\n",
       "      <td>0.132308</td>\n",
       "      <td>0.020</td>\n",
       "      <td>5</td>\n",
       "      <td>259</td>\n",
       "      <td>2020</td>\n",
       "      <td>0.5</td>\n",
       "      <td>COMPLETE</td>\n",
       "    </tr>\n",
       "    <tr>\n",
       "      <th>33</th>\n",
       "      <td>33</td>\n",
       "      <td>0.719142</td>\n",
       "      <td>2021-08-18 15:56:45.263010</td>\n",
       "      <td>2021-08-18 15:58:22.126408</td>\n",
       "      <td>0 days 00:01:36.863398</td>\n",
       "      <td>0.130974</td>\n",
       "      <td>0.4</td>\n",
       "      <td>0.193209</td>\n",
       "      <td>0.020</td>\n",
       "      <td>5</td>\n",
       "      <td>300</td>\n",
       "      <td>2020</td>\n",
       "      <td>0.5</td>\n",
       "      <td>COMPLETE</td>\n",
       "    </tr>\n",
       "    <tr>\n",
       "      <th>34</th>\n",
       "      <td>34</td>\n",
       "      <td>0.719136</td>\n",
       "      <td>2021-08-18 15:58:22.142030</td>\n",
       "      <td>2021-08-18 15:59:58.082221</td>\n",
       "      <td>0 days 00:01:35.940191</td>\n",
       "      <td>0.095084</td>\n",
       "      <td>0.4</td>\n",
       "      <td>0.178042</td>\n",
       "      <td>0.020</td>\n",
       "      <td>5</td>\n",
       "      <td>296</td>\n",
       "      <td>2020</td>\n",
       "      <td>0.5</td>\n",
       "      <td>COMPLETE</td>\n",
       "    </tr>\n",
       "    <tr>\n",
       "      <th>35</th>\n",
       "      <td>35</td>\n",
       "      <td>0.718589</td>\n",
       "      <td>2021-08-18 15:59:58.082221</td>\n",
       "      <td>2021-08-18 16:02:22.591443</td>\n",
       "      <td>0 days 00:02:24.509222</td>\n",
       "      <td>0.080024</td>\n",
       "      <td>0.4</td>\n",
       "      <td>0.032629</td>\n",
       "      <td>0.020</td>\n",
       "      <td>5</td>\n",
       "      <td>276</td>\n",
       "      <td>48</td>\n",
       "      <td>0.5</td>\n",
       "      <td>COMPLETE</td>\n",
       "    </tr>\n",
       "    <tr>\n",
       "      <th>36</th>\n",
       "      <td>36</td>\n",
       "      <td>0.718806</td>\n",
       "      <td>2021-08-18 16:02:22.591443</td>\n",
       "      <td>2021-08-18 16:04:35.923946</td>\n",
       "      <td>0 days 00:02:13.332503</td>\n",
       "      <td>0.410587</td>\n",
       "      <td>0.4</td>\n",
       "      <td>0.036433</td>\n",
       "      <td>0.020</td>\n",
       "      <td>5</td>\n",
       "      <td>274</td>\n",
       "      <td>48</td>\n",
       "      <td>0.5</td>\n",
       "      <td>COMPLETE</td>\n",
       "    </tr>\n",
       "    <tr>\n",
       "      <th>37</th>\n",
       "      <td>37</td>\n",
       "      <td>0.720432</td>\n",
       "      <td>2021-08-18 16:04:35.923946</td>\n",
       "      <td>2021-08-18 16:05:45.039583</td>\n",
       "      <td>0 days 00:01:09.115637</td>\n",
       "      <td>0.069638</td>\n",
       "      <td>0.4</td>\n",
       "      <td>0.033126</td>\n",
       "      <td>0.020</td>\n",
       "      <td>15</td>\n",
       "      <td>279</td>\n",
       "      <td>48</td>\n",
       "      <td>0.5</td>\n",
       "      <td>COMPLETE</td>\n",
       "    </tr>\n",
       "    <tr>\n",
       "      <th>38</th>\n",
       "      <td>38</td>\n",
       "      <td>0.718795</td>\n",
       "      <td>2021-08-18 16:05:45.039583</td>\n",
       "      <td>2021-08-18 16:08:02.175382</td>\n",
       "      <td>0 days 00:02:17.135799</td>\n",
       "      <td>0.730367</td>\n",
       "      <td>0.4</td>\n",
       "      <td>0.004474</td>\n",
       "      <td>0.020</td>\n",
       "      <td>5</td>\n",
       "      <td>277</td>\n",
       "      <td>48</td>\n",
       "      <td>0.8</td>\n",
       "      <td>COMPLETE</td>\n",
       "    </tr>\n",
       "    <tr>\n",
       "      <th>39</th>\n",
       "      <td>39</td>\n",
       "      <td>0.718654</td>\n",
       "      <td>2021-08-18 16:08:02.178375</td>\n",
       "      <td>2021-08-18 16:10:40.718552</td>\n",
       "      <td>0 days 00:02:38.540177</td>\n",
       "      <td>0.466243</td>\n",
       "      <td>0.4</td>\n",
       "      <td>0.002915</td>\n",
       "      <td>0.020</td>\n",
       "      <td>5</td>\n",
       "      <td>281</td>\n",
       "      <td>48</td>\n",
       "      <td>0.8</td>\n",
       "      <td>COMPLETE</td>\n",
       "    </tr>\n",
       "    <tr>\n",
       "      <th>40</th>\n",
       "      <td>40</td>\n",
       "      <td>0.718649</td>\n",
       "      <td>2021-08-18 16:10:40.734273</td>\n",
       "      <td>2021-08-18 16:13:12.563543</td>\n",
       "      <td>0 days 00:02:31.829270</td>\n",
       "      <td>0.429394</td>\n",
       "      <td>0.4</td>\n",
       "      <td>0.002987</td>\n",
       "      <td>0.018</td>\n",
       "      <td>5</td>\n",
       "      <td>279</td>\n",
       "      <td>48</td>\n",
       "      <td>0.8</td>\n",
       "      <td>COMPLETE</td>\n",
       "    </tr>\n",
       "    <tr>\n",
       "      <th>41</th>\n",
       "      <td>41</td>\n",
       "      <td>0.718700</td>\n",
       "      <td>2021-08-18 16:13:12.566534</td>\n",
       "      <td>2021-08-18 16:16:07.200002</td>\n",
       "      <td>0 days 00:02:54.633468</td>\n",
       "      <td>0.453987</td>\n",
       "      <td>0.4</td>\n",
       "      <td>0.003317</td>\n",
       "      <td>0.020</td>\n",
       "      <td>5</td>\n",
       "      <td>284</td>\n",
       "      <td>48</td>\n",
       "      <td>0.8</td>\n",
       "      <td>COMPLETE</td>\n",
       "    </tr>\n",
       "    <tr>\n",
       "      <th>42</th>\n",
       "      <td>42</td>\n",
       "      <td>0.718773</td>\n",
       "      <td>2021-08-18 16:16:07.200002</td>\n",
       "      <td>2021-08-18 16:19:31.788990</td>\n",
       "      <td>0 days 00:03:24.588988</td>\n",
       "      <td>0.651267</td>\n",
       "      <td>0.4</td>\n",
       "      <td>0.002790</td>\n",
       "      <td>0.018</td>\n",
       "      <td>5</td>\n",
       "      <td>279</td>\n",
       "      <td>48</td>\n",
       "      <td>0.8</td>\n",
       "      <td>COMPLETE</td>\n",
       "    </tr>\n",
       "    <tr>\n",
       "      <th>43</th>\n",
       "      <td>43</td>\n",
       "      <td>0.720445</td>\n",
       "      <td>2021-08-18 16:19:31.789986</td>\n",
       "      <td>2021-08-18 16:21:26.186911</td>\n",
       "      <td>0 days 00:01:54.396925</td>\n",
       "      <td>0.494113</td>\n",
       "      <td>0.4</td>\n",
       "      <td>0.002451</td>\n",
       "      <td>0.018</td>\n",
       "      <td>20</td>\n",
       "      <td>290</td>\n",
       "      <td>48</td>\n",
       "      <td>0.8</td>\n",
       "      <td>COMPLETE</td>\n",
       "    </tr>\n",
       "    <tr>\n",
       "      <th>44</th>\n",
       "      <td>44</td>\n",
       "      <td>0.719385</td>\n",
       "      <td>2021-08-18 16:21:26.204888</td>\n",
       "      <td>2021-08-18 16:24:47.057875</td>\n",
       "      <td>0 days 00:03:20.852987</td>\n",
       "      <td>0.049754</td>\n",
       "      <td>0.9</td>\n",
       "      <td>0.002571</td>\n",
       "      <td>0.018</td>\n",
       "      <td>5</td>\n",
       "      <td>288</td>\n",
       "      <td>48</td>\n",
       "      <td>0.8</td>\n",
       "      <td>COMPLETE</td>\n",
       "    </tr>\n",
       "    <tr>\n",
       "      <th>45</th>\n",
       "      <td>45</td>\n",
       "      <td>0.721935</td>\n",
       "      <td>2021-08-18 16:24:47.057875</td>\n",
       "      <td>2021-08-18 16:26:55.476579</td>\n",
       "      <td>0 days 00:02:08.418704</td>\n",
       "      <td>0.013947</td>\n",
       "      <td>0.4</td>\n",
       "      <td>0.008289</td>\n",
       "      <td>0.018</td>\n",
       "      <td>13</td>\n",
       "      <td>88</td>\n",
       "      <td>48</td>\n",
       "      <td>0.8</td>\n",
       "      <td>COMPLETE</td>\n",
       "    </tr>\n",
       "    <tr>\n",
       "      <th>46</th>\n",
       "      <td>46</td>\n",
       "      <td>0.719347</td>\n",
       "      <td>2021-08-18 16:26:55.477577</td>\n",
       "      <td>2021-08-18 16:30:31.124667</td>\n",
       "      <td>0 days 00:03:35.647090</td>\n",
       "      <td>0.170110</td>\n",
       "      <td>0.5</td>\n",
       "      <td>0.001076</td>\n",
       "      <td>0.014</td>\n",
       "      <td>5</td>\n",
       "      <td>244</td>\n",
       "      <td>48</td>\n",
       "      <td>0.8</td>\n",
       "      <td>COMPLETE</td>\n",
       "    </tr>\n",
       "    <tr>\n",
       "      <th>47</th>\n",
       "      <td>47</td>\n",
       "      <td>0.719323</td>\n",
       "      <td>2021-08-18 16:30:31.132671</td>\n",
       "      <td>2021-08-18 16:34:55.797316</td>\n",
       "      <td>0 days 00:04:24.664645</td>\n",
       "      <td>0.357805</td>\n",
       "      <td>0.4</td>\n",
       "      <td>0.004202</td>\n",
       "      <td>0.008</td>\n",
       "      <td>9</td>\n",
       "      <td>274</td>\n",
       "      <td>48</td>\n",
       "      <td>0.8</td>\n",
       "      <td>COMPLETE</td>\n",
       "    </tr>\n",
       "    <tr>\n",
       "      <th>48</th>\n",
       "      <td>48</td>\n",
       "      <td>0.721549</td>\n",
       "      <td>2021-08-18 16:34:55.812988</td>\n",
       "      <td>2021-08-18 16:36:36.744740</td>\n",
       "      <td>0 days 00:01:40.931752</td>\n",
       "      <td>0.735046</td>\n",
       "      <td>0.7</td>\n",
       "      <td>0.014747</td>\n",
       "      <td>0.018</td>\n",
       "      <td>15</td>\n",
       "      <td>271</td>\n",
       "      <td>48</td>\n",
       "      <td>0.4</td>\n",
       "      <td>COMPLETE</td>\n",
       "    </tr>\n",
       "    <tr>\n",
       "      <th>49</th>\n",
       "      <td>49</td>\n",
       "      <td>0.718818</td>\n",
       "      <td>2021-08-18 16:36:36.744740</td>\n",
       "      <td>2021-08-18 16:39:53.583453</td>\n",
       "      <td>0 days 00:03:16.838713</td>\n",
       "      <td>0.237892</td>\n",
       "      <td>0.4</td>\n",
       "      <td>0.001871</td>\n",
       "      <td>0.018</td>\n",
       "      <td>5</td>\n",
       "      <td>224</td>\n",
       "      <td>24</td>\n",
       "      <td>0.8</td>\n",
       "      <td>COMPLETE</td>\n",
       "    </tr>\n",
       "  </tbody>\n",
       "</table>\n",
       "</div>"
      ],
      "text/plain": [
       "    number     value             datetime_start          datetime_complete  \\\n",
       "0        0  0.723351 2021-08-18 14:36:35.819690 2021-08-18 14:38:17.487478   \n",
       "1        1  0.721256 2021-08-18 14:38:17.487478 2021-08-18 14:40:11.180872   \n",
       "2        2  0.722103 2021-08-18 14:40:11.188878 2021-08-18 14:43:41.668000   \n",
       "3        3  0.720108 2021-08-18 14:43:41.683631 2021-08-18 14:47:52.231384   \n",
       "4        4  0.722329 2021-08-18 14:47:52.232366 2021-08-18 14:50:02.654198   \n",
       "5        5  0.720798 2021-08-18 14:50:02.654198 2021-08-18 14:53:38.424307   \n",
       "6        6  0.725053 2021-08-18 14:53:38.424307 2021-08-18 14:57:01.333694   \n",
       "7        7  0.720710 2021-08-18 14:57:01.341735 2021-08-18 15:00:57.356765   \n",
       "8        8  0.722506 2021-08-18 15:00:57.364773 2021-08-18 15:03:37.786284   \n",
       "9        9  0.721923 2021-08-18 15:03:37.794279 2021-08-18 15:06:13.961432   \n",
       "10      10  0.720071 2021-08-18 15:06:13.964946 2021-08-18 15:10:33.693121   \n",
       "11      11  0.720061 2021-08-18 15:10:33.695000 2021-08-18 15:14:59.189846   \n",
       "12      12  0.720093 2021-08-18 15:14:59.197147 2021-08-18 15:19:23.737261   \n",
       "13      13  0.719985 2021-08-18 15:19:23.740173 2021-08-18 15:22:20.510327   \n",
       "14      14  0.720044 2021-08-18 15:22:20.518332 2021-08-18 15:25:18.639658   \n",
       "15      15  0.720285 2021-08-18 15:25:18.655279 2021-08-18 15:27:47.111799   \n",
       "16      16  0.720406 2021-08-18 15:27:47.114791 2021-08-18 15:29:35.507912   \n",
       "17      17  0.720707 2021-08-18 15:29:35.507912 2021-08-18 15:31:26.368296   \n",
       "18      18  0.721690 2021-08-18 15:31:26.368296 2021-08-18 15:32:33.747092   \n",
       "19      19  0.719995 2021-08-18 15:32:33.747092 2021-08-18 15:33:56.521564   \n",
       "20      20  0.720075 2021-08-18 15:33:56.524557 2021-08-18 15:35:25.866688   \n",
       "21      21  0.719851 2021-08-18 15:35:25.869678 2021-08-18 15:36:47.783489   \n",
       "22      22  0.719889 2021-08-18 15:36:47.785484 2021-08-18 15:38:08.593892   \n",
       "23      23  0.720200 2021-08-18 15:38:08.593892 2021-08-18 15:39:31.341234   \n",
       "24      24  0.719810 2021-08-18 15:39:31.341234 2021-08-18 15:41:44.278706   \n",
       "25      25  0.719724 2021-08-18 15:41:44.278706 2021-08-18 15:43:42.237951   \n",
       "26      26  0.720256 2021-08-18 15:43:42.239978 2021-08-18 15:45:32.278543   \n",
       "27      27  0.719563 2021-08-18 15:45:32.278543 2021-08-18 15:47:24.065904   \n",
       "28      28  0.719292 2021-08-18 15:47:24.068896 2021-08-18 15:49:33.962055   \n",
       "29      29  0.719775 2021-08-18 15:49:33.962055 2021-08-18 15:51:51.105203   \n",
       "30      30  0.719107 2021-08-18 15:51:51.105203 2021-08-18 15:53:21.071149   \n",
       "31      31  0.719097 2021-08-18 15:53:21.071149 2021-08-18 15:54:53.949405   \n",
       "32      32  0.718980 2021-08-18 15:54:53.949405 2021-08-18 15:56:45.260016   \n",
       "33      33  0.719142 2021-08-18 15:56:45.263010 2021-08-18 15:58:22.126408   \n",
       "34      34  0.719136 2021-08-18 15:58:22.142030 2021-08-18 15:59:58.082221   \n",
       "35      35  0.718589 2021-08-18 15:59:58.082221 2021-08-18 16:02:22.591443   \n",
       "36      36  0.718806 2021-08-18 16:02:22.591443 2021-08-18 16:04:35.923946   \n",
       "37      37  0.720432 2021-08-18 16:04:35.923946 2021-08-18 16:05:45.039583   \n",
       "38      38  0.718795 2021-08-18 16:05:45.039583 2021-08-18 16:08:02.175382   \n",
       "39      39  0.718654 2021-08-18 16:08:02.178375 2021-08-18 16:10:40.718552   \n",
       "40      40  0.718649 2021-08-18 16:10:40.734273 2021-08-18 16:13:12.563543   \n",
       "41      41  0.718700 2021-08-18 16:13:12.566534 2021-08-18 16:16:07.200002   \n",
       "42      42  0.718773 2021-08-18 16:16:07.200002 2021-08-18 16:19:31.788990   \n",
       "43      43  0.720445 2021-08-18 16:19:31.789986 2021-08-18 16:21:26.186911   \n",
       "44      44  0.719385 2021-08-18 16:21:26.204888 2021-08-18 16:24:47.057875   \n",
       "45      45  0.721935 2021-08-18 16:24:47.057875 2021-08-18 16:26:55.476579   \n",
       "46      46  0.719347 2021-08-18 16:26:55.477577 2021-08-18 16:30:31.124667   \n",
       "47      47  0.719323 2021-08-18 16:30:31.132671 2021-08-18 16:34:55.797316   \n",
       "48      48  0.721549 2021-08-18 16:34:55.812988 2021-08-18 16:36:36.744740   \n",
       "49      49  0.718818 2021-08-18 16:36:36.744740 2021-08-18 16:39:53.583453   \n",
       "\n",
       "                 duration  params_alpha  params_colsample_bytree  \\\n",
       "0  0 days 00:01:41.667788      0.210313                      0.9   \n",
       "1  0 days 00:01:53.693394      0.034017                      0.7   \n",
       "2  0 days 00:03:30.479122      0.002766                      0.9   \n",
       "3  0 days 00:04:10.547753      0.835604                      1.0   \n",
       "4  0 days 00:02:10.421832      0.627865                      0.7   \n",
       "5  0 days 00:03:35.770109      0.024296                      0.4   \n",
       "6  0 days 00:03:22.909387      0.478301                      0.7   \n",
       "7  0 days 00:03:56.015030      2.261671                      0.9   \n",
       "8  0 days 00:02:40.421511      1.952240                      0.7   \n",
       "9  0 days 00:02:36.167153      0.240505                      0.6   \n",
       "10 0 days 00:04:19.728175      6.469671                      1.0   \n",
       "11 0 days 00:04:25.494846      8.705729                      1.0   \n",
       "12 0 days 00:04:24.540114      6.707730                      1.0   \n",
       "13 0 days 00:02:56.770154      9.879546                      0.8   \n",
       "14 0 days 00:02:58.121326      9.960511                      0.8   \n",
       "15 0 days 00:02:28.456520      0.001520                      0.8   \n",
       "16 0 days 00:01:48.393121      2.295809                      0.8   \n",
       "17 0 days 00:01:50.860384      0.038914                      0.5   \n",
       "18 0 days 00:01:07.378796      0.007291                      0.8   \n",
       "19 0 days 00:01:22.774472      2.867349                      0.3   \n",
       "20 0 days 00:01:29.342131      3.011882                      0.3   \n",
       "21 0 days 00:01:21.913811      8.230843                      0.3   \n",
       "22 0 days 00:01:20.808408      3.736279                      0.3   \n",
       "23 0 days 00:01:22.747342      1.230818                      0.3   \n",
       "24 0 days 00:02:12.937472      4.641249                      0.3   \n",
       "25 0 days 00:01:57.959245      4.176269                      0.3   \n",
       "26 0 days 00:01:50.038565      0.180564                      0.3   \n",
       "27 0 days 00:01:51.787361      1.317150                      0.3   \n",
       "28 0 days 00:02:09.893159      1.206087                      0.3   \n",
       "29 0 days 00:02:17.143148      0.304240                      0.6   \n",
       "30 0 days 00:01:29.965946      1.363230                      0.4   \n",
       "31 0 days 00:01:32.878256      1.151636                      0.4   \n",
       "32 0 days 00:01:51.310611      1.119929                      0.4   \n",
       "33 0 days 00:01:36.863398      0.130974                      0.4   \n",
       "34 0 days 00:01:35.940191      0.095084                      0.4   \n",
       "35 0 days 00:02:24.509222      0.080024                      0.4   \n",
       "36 0 days 00:02:13.332503      0.410587                      0.4   \n",
       "37 0 days 00:01:09.115637      0.069638                      0.4   \n",
       "38 0 days 00:02:17.135799      0.730367                      0.4   \n",
       "39 0 days 00:02:38.540177      0.466243                      0.4   \n",
       "40 0 days 00:02:31.829270      0.429394                      0.4   \n",
       "41 0 days 00:02:54.633468      0.453987                      0.4   \n",
       "42 0 days 00:03:24.588988      0.651267                      0.4   \n",
       "43 0 days 00:01:54.396925      0.494113                      0.4   \n",
       "44 0 days 00:03:20.852987      0.049754                      0.9   \n",
       "45 0 days 00:02:08.418704      0.013947                      0.4   \n",
       "46 0 days 00:03:35.647090      0.170110                      0.5   \n",
       "47 0 days 00:04:24.664645      0.357805                      0.4   \n",
       "48 0 days 00:01:40.931752      0.735046                      0.7   \n",
       "49 0 days 00:03:16.838713      0.237892                      0.4   \n",
       "\n",
       "    params_lambda  params_learning_rate  params_max_depth  \\\n",
       "0        0.247248                 0.020                15   \n",
       "1        0.308782                 0.018                13   \n",
       "2        0.783375                 0.008                15   \n",
       "3        0.005694                 0.009                 7   \n",
       "4        0.001597                 0.018                 9   \n",
       "5        0.009045                 0.009                20   \n",
       "6        0.022959                 0.014                20   \n",
       "7        0.219821                 0.008                 5   \n",
       "8        0.001307                 0.012                17   \n",
       "9        0.015272                 0.012                11   \n",
       "10       6.794042                 0.009                 7   \n",
       "11       9.763087                 0.009                 7   \n",
       "12       7.977181                 0.009                 7   \n",
       "13       6.774530                 0.016                 7   \n",
       "14       1.893362                 0.016                 7   \n",
       "15       2.261722                 0.016                 7   \n",
       "16       1.796895                 0.016                 9   \n",
       "17       0.070426                 0.010                11   \n",
       "18       1.432941                 0.016                13   \n",
       "19       3.425793                 0.016                17   \n",
       "20       0.624167                 0.016                17   \n",
       "21       3.487803                 0.016                17   \n",
       "22       4.324506                 0.016                17   \n",
       "23       3.057120                 0.016                17   \n",
       "24       5.263978                 0.010                17   \n",
       "25       0.819177                 0.010                17   \n",
       "26       0.863277                 0.010                17   \n",
       "27       0.062831                 0.010                17   \n",
       "28       0.112321                 0.010                 5   \n",
       "29       0.068304                 0.010                 5   \n",
       "30       0.132331                 0.020                 5   \n",
       "31       0.041961                 0.020                 5   \n",
       "32       0.132308                 0.020                 5   \n",
       "33       0.193209                 0.020                 5   \n",
       "34       0.178042                 0.020                 5   \n",
       "35       0.032629                 0.020                 5   \n",
       "36       0.036433                 0.020                 5   \n",
       "37       0.033126                 0.020                15   \n",
       "38       0.004474                 0.020                 5   \n",
       "39       0.002915                 0.020                 5   \n",
       "40       0.002987                 0.018                 5   \n",
       "41       0.003317                 0.020                 5   \n",
       "42       0.002790                 0.018                 5   \n",
       "43       0.002451                 0.018                20   \n",
       "44       0.002571                 0.018                 5   \n",
       "45       0.008289                 0.018                13   \n",
       "46       0.001076                 0.014                 5   \n",
       "47       0.004202                 0.008                 9   \n",
       "48       0.014747                 0.018                15   \n",
       "49       0.001871                 0.018                 5   \n",
       "\n",
       "    params_min_child_weight  params_random_state  params_subsample     state  \n",
       "0                        81                   24               0.6  COMPLETE  \n",
       "1                       276                   24               0.8  COMPLETE  \n",
       "2                       106                   48               0.4  COMPLETE  \n",
       "3                       299                   48               0.4  COMPLETE  \n",
       "4                         5                   24               0.4  COMPLETE  \n",
       "5                       279                   24               1.0  COMPLETE  \n",
       "6                        49                   24               1.0  COMPLETE  \n",
       "7                       236                   48               0.6  COMPLETE  \n",
       "8                       114                   24               0.6  COMPLETE  \n",
       "9                        31                   48               0.5  COMPLETE  \n",
       "10                      188                 2020               0.7  COMPLETE  \n",
       "11                      193                 2020               0.7  COMPLETE  \n",
       "12                      186                 2020               0.7  COMPLETE  \n",
       "13                      176                 2020               0.7  COMPLETE  \n",
       "14                      175                 2020               0.7  COMPLETE  \n",
       "15                      145                 2020               0.7  COMPLETE  \n",
       "16                      228                 2020               0.7  COMPLETE  \n",
       "17                      151                 2020               0.8  COMPLETE  \n",
       "18                      154                 2020               0.5  COMPLETE  \n",
       "19                      239                 2020               0.7  COMPLETE  \n",
       "20                      234                 2020               0.7  COMPLETE  \n",
       "21                      204                 2020               0.7  COMPLETE  \n",
       "22                      210                 2020               0.7  COMPLETE  \n",
       "23                      215                 2020               0.7  COMPLETE  \n",
       "24                      205                 2020               0.7  COMPLETE  \n",
       "25                      211                 2020               0.7  COMPLETE  \n",
       "26                      259                 2020               1.0  COMPLETE  \n",
       "27                      207                 2020               0.5  COMPLETE  \n",
       "28                      259                 2020               0.5  COMPLETE  \n",
       "29                      258                   48               0.5  COMPLETE  \n",
       "30                      256                 2020               0.5  COMPLETE  \n",
       "31                      258                 2020               0.5  COMPLETE  \n",
       "32                      259                 2020               0.5  COMPLETE  \n",
       "33                      300                 2020               0.5  COMPLETE  \n",
       "34                      296                 2020               0.5  COMPLETE  \n",
       "35                      276                   48               0.5  COMPLETE  \n",
       "36                      274                   48               0.5  COMPLETE  \n",
       "37                      279                   48               0.5  COMPLETE  \n",
       "38                      277                   48               0.8  COMPLETE  \n",
       "39                      281                   48               0.8  COMPLETE  \n",
       "40                      279                   48               0.8  COMPLETE  \n",
       "41                      284                   48               0.8  COMPLETE  \n",
       "42                      279                   48               0.8  COMPLETE  \n",
       "43                      290                   48               0.8  COMPLETE  \n",
       "44                      288                   48               0.8  COMPLETE  \n",
       "45                       88                   48               0.8  COMPLETE  \n",
       "46                      244                   48               0.8  COMPLETE  \n",
       "47                      274                   48               0.8  COMPLETE  \n",
       "48                      271                   48               0.4  COMPLETE  \n",
       "49                      224                   24               0.8  COMPLETE  "
      ]
     },
     "execution_count": 165,
     "metadata": {},
     "output_type": "execute_result"
    }
   ],
   "source": [
    "study.trials_dataframe()"
   ]
  },
  {
   "cell_type": "code",
   "execution_count": 174,
   "id": "37f0f858",
   "metadata": {},
   "outputs": [],
   "source": [
    "params=study.best_params   \n",
    "params['tree_method']='hist'\n",
    "params['n_estimators']=4000"
   ]
  },
  {
   "cell_type": "code",
   "execution_count": 175,
   "id": "fe3d544b",
   "metadata": {},
   "outputs": [
    {
     "data": {
      "text/plain": [
       "{'lambda': 0.032629267738566316,\n",
       " 'alpha': 0.0800238045532207,\n",
       " 'colsample_bytree': 0.4,\n",
       " 'subsample': 0.5,\n",
       " 'learning_rate': 0.02,\n",
       " 'max_depth': 5,\n",
       " 'random_state': 48,\n",
       " 'min_child_weight': 276,\n",
       " 'tree_method': 'hist',\n",
       " 'n_estimators': 4000}"
      ]
     },
     "execution_count": 175,
     "metadata": {},
     "output_type": "execute_result"
    }
   ],
   "source": [
    "params"
   ]
  },
  {
   "cell_type": "code",
   "execution_count": 176,
   "id": "660e87df",
   "metadata": {},
   "outputs": [
    {
     "data": {
      "application/javascript": [
       "\n",
       "        if (window._pyforest_update_imports_cell) { window._pyforest_update_imports_cell('from sklearn.model_selection import KFold\\nimport xgboost as xgb'); }\n",
       "    "
      ],
      "text/plain": [
       "<IPython.core.display.Javascript object>"
      ]
     },
     "metadata": {},
     "output_type": "display_data"
    },
    {
     "data": {
      "application/javascript": [
       "\n",
       "        if (window._pyforest_update_imports_cell) { window._pyforest_update_imports_cell('from sklearn.model_selection import KFold\\nimport xgboost as xgb'); }\n",
       "    "
      ],
      "text/plain": [
       "<IPython.core.display.Javascript object>"
      ]
     },
     "metadata": {},
     "output_type": "display_data"
    },
    {
     "name": "stdout",
     "output_type": "stream",
     "text": [
      "1 0.7181724839308349\n"
     ]
    },
    {
     "data": {
      "application/javascript": [
       "\n",
       "        if (window._pyforest_update_imports_cell) { window._pyforest_update_imports_cell('from sklearn.model_selection import KFold\\nimport xgboost as xgb'); }\n",
       "    "
      ],
      "text/plain": [
       "<IPython.core.display.Javascript object>"
      ]
     },
     "metadata": {},
     "output_type": "display_data"
    },
    {
     "name": "stdout",
     "output_type": "stream",
     "text": [
      "2 0.7180344272867432\n"
     ]
    },
    {
     "data": {
      "application/javascript": [
       "\n",
       "        if (window._pyforest_update_imports_cell) { window._pyforest_update_imports_cell('from sklearn.model_selection import KFold\\nimport xgboost as xgb'); }\n",
       "    "
      ],
      "text/plain": [
       "<IPython.core.display.Javascript object>"
      ]
     },
     "metadata": {},
     "output_type": "display_data"
    },
    {
     "name": "stdout",
     "output_type": "stream",
     "text": [
      "3 0.7201600505815681\n"
     ]
    },
    {
     "data": {
      "application/javascript": [
       "\n",
       "        if (window._pyforest_update_imports_cell) { window._pyforest_update_imports_cell('from sklearn.model_selection import KFold\\nimport xgboost as xgb'); }\n",
       "    "
      ],
      "text/plain": [
       "<IPython.core.display.Javascript object>"
      ]
     },
     "metadata": {},
     "output_type": "display_data"
    },
    {
     "name": "stdout",
     "output_type": "stream",
     "text": [
      "4 0.7203048117952704\n"
     ]
    },
    {
     "data": {
      "application/javascript": [
       "\n",
       "        if (window._pyforest_update_imports_cell) { window._pyforest_update_imports_cell('from sklearn.model_selection import KFold\\nimport xgboost as xgb'); }\n",
       "    "
      ],
      "text/plain": [
       "<IPython.core.display.Javascript object>"
      ]
     },
     "metadata": {},
     "output_type": "display_data"
    },
    {
     "name": "stdout",
     "output_type": "stream",
     "text": [
      "5 0.7188820769391631\n"
     ]
    }
   ],
   "source": [
    "\"\"\"\"\n",
    "columns=cat_feat+num_feat\n",
    "preds=np.zeros(X_test.shape[0])\n",
    "kf=KFold(n_splits=5,random_state=42,shuffle=True)\n",
    "rmse=[]\n",
    "n=0\n",
    "for trn_idx,test_idx in kf.split(X_train[columns],y_train):\n",
    "    X_tr,X_vl=X_train[columns].iloc[trn_idx],X_train.iloc[test_idx]\n",
    "    y_tr,y_vl=y_train.iloc[trn_idx],y_train.iloc[test_idx]\n",
    "    model = xgb.XGBRegressor(**params)\n",
    "    model.fit(X_tr,y_tr,eval_set=[(X_vl,y_vl)],early_stopping_rounds=100,verbose=False)\n",
    "    preds+=model.predict(X_test[columns])/kf.n_splits\n",
    "    rmse.append(mean_squared_error(y_vl, model.predict(X_vl), squared=False))\n",
    "    print(n+1,rmse[n])\n",
    "    n+=1\n",
    "    \"\"\""
   ]
  },
  {
   "cell_type": "code",
   "execution_count": 192,
   "id": "4175b439",
   "metadata": {},
   "outputs": [
    {
     "data": {
      "text/plain": [
       "['cat0',\n",
       " 'cat1',\n",
       " 'cat2',\n",
       " 'cat3',\n",
       " 'cat4',\n",
       " 'cat5',\n",
       " 'cat6',\n",
       " 'cat7',\n",
       " 'cat8',\n",
       " 'cat9']"
      ]
     },
     "execution_count": 192,
     "metadata": {},
     "output_type": "execute_result"
    }
   ],
   "source": [
    "cat_feat"
   ]
  },
  {
   "cell_type": "code",
   "execution_count": 198,
   "id": "29f196a0",
   "metadata": {},
   "outputs": [],
   "source": [
    "def objective(trial,data=X_train,target=y_train):\n",
    "    \n",
    "    train_x, test_x, train_y, test_y = train_test_split(X_train, y_train, test_size=0.15,random_state=42)\n",
    "    param = {\n",
    "        'loss_function': 'RMSE',\n",
    "        'task_type': 'CPU',\n",
    "        'l2_leaf_reg': trial.suggest_loguniform('l2_leaf_reg', 1e-3, 10.0),\n",
    "        'max_bin': trial.suggest_int('max_bin', 200, 400),\n",
    "        #'rsm': trial.suggest_uniform('rsm', 0.3, 1.0),\n",
    "        'subsample': trial.suggest_uniform('bagging_fraction', 0.4, 1.0),\n",
    "        'learning_rate': trial.suggest_uniform('learning_rate', 0.006, 0.018),\n",
    "        'n_estimators':  4000,\n",
    "        'max_depth': trial.suggest_categorical('max_depth', [7,10,14,16]),\n",
    "        'random_state': trial.suggest_categorical('random_state', [24, 48,2020]),\n",
    "        'min_data_in_leaf': trial.suggest_int('min_data_in_leaf', 1, 300),\n",
    "    }\n",
    "    model = CatBoostRegressor(**param)  \n",
    "    \n",
    "    model.fit(train_x,train_y,cat_features=cat_feat,eval_set=[(test_x,test_y)],early_stopping_rounds=200,verbose=False)\n",
    "    \n",
    "    preds = model.predict(test_x)\n",
    "    \n",
    "    rmse = mean_squared_error(test_y, preds,squared=False)\n",
    "    \n",
    "    return rmse"
   ]
  },
  {
   "cell_type": "code",
   "execution_count": 1,
   "id": "cf79152c",
   "metadata": {},
   "outputs": [],
   "source": [
    "#study = optuna.create_study(direction='minimize')\n",
    "#study.optimize(objective, n_trials=50)\n",
    "#print('Number of finished trials:', len(study.trials))\n",
    "#print('Best trial:', study.best_trial.params)"
   ]
  },
  {
   "cell_type": "code",
   "execution_count": 5,
   "id": "da93f72a",
   "metadata": {},
   "outputs": [],
   "source": [
    "train['kfold']=-1"
   ]
  },
  {
   "cell_type": "code",
   "execution_count": 9,
   "id": "e36f8294",
   "metadata": {},
   "outputs": [
    {
     "data": {
      "text/html": [
       "<div>\n",
       "<style scoped>\n",
       "    .dataframe tbody tr th:only-of-type {\n",
       "        vertical-align: middle;\n",
       "    }\n",
       "\n",
       "    .dataframe tbody tr th {\n",
       "        vertical-align: top;\n",
       "    }\n",
       "\n",
       "    .dataframe thead th {\n",
       "        text-align: right;\n",
       "    }\n",
       "</style>\n",
       "<table border=\"1\" class=\"dataframe\">\n",
       "  <thead>\n",
       "    <tr style=\"text-align: right;\">\n",
       "      <th></th>\n",
       "      <th>cat0</th>\n",
       "      <th>cat1</th>\n",
       "      <th>cat2</th>\n",
       "      <th>cat3</th>\n",
       "      <th>cat4</th>\n",
       "      <th>cat5</th>\n",
       "      <th>cat6</th>\n",
       "      <th>cat7</th>\n",
       "      <th>cat8</th>\n",
       "      <th>cat9</th>\n",
       "      <th>cont0</th>\n",
       "      <th>cont1</th>\n",
       "      <th>cont2</th>\n",
       "      <th>cont3</th>\n",
       "      <th>cont4</th>\n",
       "      <th>cont5</th>\n",
       "      <th>cont6</th>\n",
       "      <th>cont7</th>\n",
       "      <th>cont8</th>\n",
       "      <th>cont9</th>\n",
       "      <th>cont10</th>\n",
       "      <th>cont11</th>\n",
       "      <th>cont12</th>\n",
       "      <th>cont13</th>\n",
       "      <th>target</th>\n",
       "      <th>kfold</th>\n",
       "    </tr>\n",
       "    <tr>\n",
       "      <th>id</th>\n",
       "      <th></th>\n",
       "      <th></th>\n",
       "      <th></th>\n",
       "      <th></th>\n",
       "      <th></th>\n",
       "      <th></th>\n",
       "      <th></th>\n",
       "      <th></th>\n",
       "      <th></th>\n",
       "      <th></th>\n",
       "      <th></th>\n",
       "      <th></th>\n",
       "      <th></th>\n",
       "      <th></th>\n",
       "      <th></th>\n",
       "      <th></th>\n",
       "      <th></th>\n",
       "      <th></th>\n",
       "      <th></th>\n",
       "      <th></th>\n",
       "      <th></th>\n",
       "      <th></th>\n",
       "      <th></th>\n",
       "      <th></th>\n",
       "      <th></th>\n",
       "      <th></th>\n",
       "    </tr>\n",
       "  </thead>\n",
       "  <tbody>\n",
       "    <tr>\n",
       "      <th>1</th>\n",
       "      <td>B</td>\n",
       "      <td>B</td>\n",
       "      <td>B</td>\n",
       "      <td>C</td>\n",
       "      <td>B</td>\n",
       "      <td>B</td>\n",
       "      <td>A</td>\n",
       "      <td>E</td>\n",
       "      <td>C</td>\n",
       "      <td>N</td>\n",
       "      <td>0.201470</td>\n",
       "      <td>-0.014822</td>\n",
       "      <td>0.669699</td>\n",
       "      <td>0.136278</td>\n",
       "      <td>0.610706</td>\n",
       "      <td>0.400361</td>\n",
       "      <td>0.160266</td>\n",
       "      <td>0.310921</td>\n",
       "      <td>0.389470</td>\n",
       "      <td>0.267559</td>\n",
       "      <td>0.237281</td>\n",
       "      <td>0.377873</td>\n",
       "      <td>0.322401</td>\n",
       "      <td>0.869850</td>\n",
       "      <td>8.113634</td>\n",
       "      <td>-1</td>\n",
       "    </tr>\n",
       "    <tr>\n",
       "      <th>2</th>\n",
       "      <td>B</td>\n",
       "      <td>B</td>\n",
       "      <td>A</td>\n",
       "      <td>A</td>\n",
       "      <td>B</td>\n",
       "      <td>D</td>\n",
       "      <td>A</td>\n",
       "      <td>F</td>\n",
       "      <td>A</td>\n",
       "      <td>O</td>\n",
       "      <td>0.743068</td>\n",
       "      <td>0.367411</td>\n",
       "      <td>1.021605</td>\n",
       "      <td>0.365798</td>\n",
       "      <td>0.276853</td>\n",
       "      <td>0.533087</td>\n",
       "      <td>0.558922</td>\n",
       "      <td>0.516294</td>\n",
       "      <td>0.594928</td>\n",
       "      <td>0.341439</td>\n",
       "      <td>0.906013</td>\n",
       "      <td>0.921701</td>\n",
       "      <td>0.261975</td>\n",
       "      <td>0.465083</td>\n",
       "      <td>8.481233</td>\n",
       "      <td>-1</td>\n",
       "    </tr>\n",
       "    <tr>\n",
       "      <th>3</th>\n",
       "      <td>A</td>\n",
       "      <td>A</td>\n",
       "      <td>A</td>\n",
       "      <td>C</td>\n",
       "      <td>B</td>\n",
       "      <td>D</td>\n",
       "      <td>A</td>\n",
       "      <td>D</td>\n",
       "      <td>A</td>\n",
       "      <td>F</td>\n",
       "      <td>0.742708</td>\n",
       "      <td>0.310383</td>\n",
       "      <td>-0.012673</td>\n",
       "      <td>0.576957</td>\n",
       "      <td>0.285074</td>\n",
       "      <td>0.650609</td>\n",
       "      <td>0.375348</td>\n",
       "      <td>0.902567</td>\n",
       "      <td>0.555205</td>\n",
       "      <td>0.843531</td>\n",
       "      <td>0.748809</td>\n",
       "      <td>0.620126</td>\n",
       "      <td>0.541474</td>\n",
       "      <td>0.763846</td>\n",
       "      <td>8.364351</td>\n",
       "      <td>-1</td>\n",
       "    </tr>\n",
       "    <tr>\n",
       "      <th>4</th>\n",
       "      <td>B</td>\n",
       "      <td>B</td>\n",
       "      <td>A</td>\n",
       "      <td>C</td>\n",
       "      <td>B</td>\n",
       "      <td>D</td>\n",
       "      <td>A</td>\n",
       "      <td>E</td>\n",
       "      <td>C</td>\n",
       "      <td>K</td>\n",
       "      <td>0.429551</td>\n",
       "      <td>0.620998</td>\n",
       "      <td>0.577942</td>\n",
       "      <td>0.280610</td>\n",
       "      <td>0.284667</td>\n",
       "      <td>0.668980</td>\n",
       "      <td>0.239061</td>\n",
       "      <td>0.732948</td>\n",
       "      <td>0.679618</td>\n",
       "      <td>0.574844</td>\n",
       "      <td>0.346010</td>\n",
       "      <td>0.714610</td>\n",
       "      <td>0.540150</td>\n",
       "      <td>0.280682</td>\n",
       "      <td>8.049253</td>\n",
       "      <td>-1</td>\n",
       "    </tr>\n",
       "    <tr>\n",
       "      <th>6</th>\n",
       "      <td>A</td>\n",
       "      <td>A</td>\n",
       "      <td>A</td>\n",
       "      <td>C</td>\n",
       "      <td>B</td>\n",
       "      <td>D</td>\n",
       "      <td>A</td>\n",
       "      <td>E</td>\n",
       "      <td>A</td>\n",
       "      <td>N</td>\n",
       "      <td>1.058291</td>\n",
       "      <td>0.367492</td>\n",
       "      <td>-0.052389</td>\n",
       "      <td>0.232407</td>\n",
       "      <td>0.287595</td>\n",
       "      <td>0.686964</td>\n",
       "      <td>0.420667</td>\n",
       "      <td>0.648182</td>\n",
       "      <td>0.684501</td>\n",
       "      <td>0.956692</td>\n",
       "      <td>1.000773</td>\n",
       "      <td>0.776742</td>\n",
       "      <td>0.625849</td>\n",
       "      <td>0.250823</td>\n",
       "      <td>7.972260</td>\n",
       "      <td>-1</td>\n",
       "    </tr>\n",
       "  </tbody>\n",
       "</table>\n",
       "</div>"
      ],
      "text/plain": [
       "   cat0 cat1 cat2 cat3 cat4 cat5 cat6 cat7 cat8 cat9     cont0     cont1  \\\n",
       "id                                                                         \n",
       "1     B    B    B    C    B    B    A    E    C    N  0.201470 -0.014822   \n",
       "2     B    B    A    A    B    D    A    F    A    O  0.743068  0.367411   \n",
       "3     A    A    A    C    B    D    A    D    A    F  0.742708  0.310383   \n",
       "4     B    B    A    C    B    D    A    E    C    K  0.429551  0.620998   \n",
       "6     A    A    A    C    B    D    A    E    A    N  1.058291  0.367492   \n",
       "\n",
       "       cont2     cont3     cont4     cont5     cont6     cont7     cont8  \\\n",
       "id                                                                         \n",
       "1   0.669699  0.136278  0.610706  0.400361  0.160266  0.310921  0.389470   \n",
       "2   1.021605  0.365798  0.276853  0.533087  0.558922  0.516294  0.594928   \n",
       "3  -0.012673  0.576957  0.285074  0.650609  0.375348  0.902567  0.555205   \n",
       "4   0.577942  0.280610  0.284667  0.668980  0.239061  0.732948  0.679618   \n",
       "6  -0.052389  0.232407  0.287595  0.686964  0.420667  0.648182  0.684501   \n",
       "\n",
       "       cont9    cont10    cont11    cont12    cont13    target  kfold  \n",
       "id                                                                     \n",
       "1   0.267559  0.237281  0.377873  0.322401  0.869850  8.113634     -1  \n",
       "2   0.341439  0.906013  0.921701  0.261975  0.465083  8.481233     -1  \n",
       "3   0.843531  0.748809  0.620126  0.541474  0.763846  8.364351     -1  \n",
       "4   0.574844  0.346010  0.714610  0.540150  0.280682  8.049253     -1  \n",
       "6   0.956692  1.000773  0.776742  0.625849  0.250823  7.972260     -1  "
      ]
     },
     "execution_count": 9,
     "metadata": {},
     "output_type": "execute_result"
    }
   ],
   "source": [
    "train.head(5)"
   ]
  },
  {
   "cell_type": "code",
   "execution_count": 15,
   "id": "9729769a",
   "metadata": {},
   "outputs": [],
   "source": [
    "from sklearn.model_selection import KFold\n",
    "kf=KFold(n_splits=5,shuffle=True,random_state=2)\n",
    "for fold, (train_indices,val_indices) in enumerate(kf.split(X=train)):\n",
    "    train.loc[val_indices,'kfold']=fold"
   ]
  },
  {
   "cell_type": "code",
   "execution_count": 16,
   "id": "fafa628e",
   "metadata": {},
   "outputs": [],
   "source": [
    "train.to_csv('train_kfold.csv',index=False)"
   ]
  },
  {
   "cell_type": "code",
   "execution_count": 30,
   "id": "3405504d",
   "metadata": {},
   "outputs": [
    {
     "data": {
      "text/html": [
       "<div>\n",
       "<style scoped>\n",
       "    .dataframe tbody tr th:only-of-type {\n",
       "        vertical-align: middle;\n",
       "    }\n",
       "\n",
       "    .dataframe tbody tr th {\n",
       "        vertical-align: top;\n",
       "    }\n",
       "\n",
       "    .dataframe thead th {\n",
       "        text-align: right;\n",
       "    }\n",
       "</style>\n",
       "<table border=\"1\" class=\"dataframe\">\n",
       "  <thead>\n",
       "    <tr style=\"text-align: right;\">\n",
       "      <th></th>\n",
       "      <th>cat0</th>\n",
       "      <th>cat1</th>\n",
       "      <th>cat2</th>\n",
       "      <th>cat3</th>\n",
       "      <th>cat4</th>\n",
       "      <th>cat5</th>\n",
       "      <th>cat6</th>\n",
       "      <th>cat7</th>\n",
       "      <th>cat8</th>\n",
       "      <th>cat9</th>\n",
       "      <th>cont0</th>\n",
       "      <th>cont1</th>\n",
       "      <th>cont2</th>\n",
       "      <th>cont3</th>\n",
       "      <th>cont4</th>\n",
       "      <th>cont5</th>\n",
       "      <th>cont6</th>\n",
       "      <th>cont7</th>\n",
       "      <th>cont8</th>\n",
       "      <th>cont9</th>\n",
       "      <th>cont10</th>\n",
       "      <th>cont11</th>\n",
       "      <th>cont12</th>\n",
       "      <th>cont13</th>\n",
       "      <th>target</th>\n",
       "      <th>kfold</th>\n",
       "    </tr>\n",
       "  </thead>\n",
       "  <tbody>\n",
       "    <tr>\n",
       "      <th>0</th>\n",
       "      <td>B</td>\n",
       "      <td>B</td>\n",
       "      <td>B</td>\n",
       "      <td>C</td>\n",
       "      <td>B</td>\n",
       "      <td>B</td>\n",
       "      <td>A</td>\n",
       "      <td>E</td>\n",
       "      <td>C</td>\n",
       "      <td>N</td>\n",
       "      <td>0.201470</td>\n",
       "      <td>-0.014822</td>\n",
       "      <td>0.669699</td>\n",
       "      <td>0.136278</td>\n",
       "      <td>0.610706</td>\n",
       "      <td>0.400361</td>\n",
       "      <td>0.160266</td>\n",
       "      <td>0.310921</td>\n",
       "      <td>0.389470</td>\n",
       "      <td>0.267559</td>\n",
       "      <td>0.237281</td>\n",
       "      <td>0.377873</td>\n",
       "      <td>0.322401</td>\n",
       "      <td>0.869850</td>\n",
       "      <td>8.113634</td>\n",
       "      <td>0.0</td>\n",
       "    </tr>\n",
       "    <tr>\n",
       "      <th>1</th>\n",
       "      <td>B</td>\n",
       "      <td>B</td>\n",
       "      <td>A</td>\n",
       "      <td>A</td>\n",
       "      <td>B</td>\n",
       "      <td>D</td>\n",
       "      <td>A</td>\n",
       "      <td>F</td>\n",
       "      <td>A</td>\n",
       "      <td>O</td>\n",
       "      <td>0.743068</td>\n",
       "      <td>0.367411</td>\n",
       "      <td>1.021605</td>\n",
       "      <td>0.365798</td>\n",
       "      <td>0.276853</td>\n",
       "      <td>0.533087</td>\n",
       "      <td>0.558922</td>\n",
       "      <td>0.516294</td>\n",
       "      <td>0.594928</td>\n",
       "      <td>0.341439</td>\n",
       "      <td>0.906013</td>\n",
       "      <td>0.921701</td>\n",
       "      <td>0.261975</td>\n",
       "      <td>0.465083</td>\n",
       "      <td>8.481233</td>\n",
       "      <td>3.0</td>\n",
       "    </tr>\n",
       "    <tr>\n",
       "      <th>2</th>\n",
       "      <td>A</td>\n",
       "      <td>A</td>\n",
       "      <td>A</td>\n",
       "      <td>C</td>\n",
       "      <td>B</td>\n",
       "      <td>D</td>\n",
       "      <td>A</td>\n",
       "      <td>D</td>\n",
       "      <td>A</td>\n",
       "      <td>F</td>\n",
       "      <td>0.742708</td>\n",
       "      <td>0.310383</td>\n",
       "      <td>-0.012673</td>\n",
       "      <td>0.576957</td>\n",
       "      <td>0.285074</td>\n",
       "      <td>0.650609</td>\n",
       "      <td>0.375348</td>\n",
       "      <td>0.902567</td>\n",
       "      <td>0.555205</td>\n",
       "      <td>0.843531</td>\n",
       "      <td>0.748809</td>\n",
       "      <td>0.620126</td>\n",
       "      <td>0.541474</td>\n",
       "      <td>0.763846</td>\n",
       "      <td>8.364351</td>\n",
       "      <td>4.0</td>\n",
       "    </tr>\n",
       "    <tr>\n",
       "      <th>3</th>\n",
       "      <td>B</td>\n",
       "      <td>B</td>\n",
       "      <td>A</td>\n",
       "      <td>C</td>\n",
       "      <td>B</td>\n",
       "      <td>D</td>\n",
       "      <td>A</td>\n",
       "      <td>E</td>\n",
       "      <td>C</td>\n",
       "      <td>K</td>\n",
       "      <td>0.429551</td>\n",
       "      <td>0.620998</td>\n",
       "      <td>0.577942</td>\n",
       "      <td>0.280610</td>\n",
       "      <td>0.284667</td>\n",
       "      <td>0.668980</td>\n",
       "      <td>0.239061</td>\n",
       "      <td>0.732948</td>\n",
       "      <td>0.679618</td>\n",
       "      <td>0.574844</td>\n",
       "      <td>0.346010</td>\n",
       "      <td>0.714610</td>\n",
       "      <td>0.540150</td>\n",
       "      <td>0.280682</td>\n",
       "      <td>8.049253</td>\n",
       "      <td>3.0</td>\n",
       "    </tr>\n",
       "    <tr>\n",
       "      <th>4</th>\n",
       "      <td>A</td>\n",
       "      <td>A</td>\n",
       "      <td>A</td>\n",
       "      <td>C</td>\n",
       "      <td>B</td>\n",
       "      <td>D</td>\n",
       "      <td>A</td>\n",
       "      <td>E</td>\n",
       "      <td>A</td>\n",
       "      <td>N</td>\n",
       "      <td>1.058291</td>\n",
       "      <td>0.367492</td>\n",
       "      <td>-0.052389</td>\n",
       "      <td>0.232407</td>\n",
       "      <td>0.287595</td>\n",
       "      <td>0.686964</td>\n",
       "      <td>0.420667</td>\n",
       "      <td>0.648182</td>\n",
       "      <td>0.684501</td>\n",
       "      <td>0.956692</td>\n",
       "      <td>1.000773</td>\n",
       "      <td>0.776742</td>\n",
       "      <td>0.625849</td>\n",
       "      <td>0.250823</td>\n",
       "      <td>7.972260</td>\n",
       "      <td>2.0</td>\n",
       "    </tr>\n",
       "  </tbody>\n",
       "</table>\n",
       "</div>"
      ],
      "text/plain": [
       "  cat0 cat1 cat2 cat3 cat4 cat5 cat6 cat7 cat8 cat9     cont0     cont1  \\\n",
       "0    B    B    B    C    B    B    A    E    C    N  0.201470 -0.014822   \n",
       "1    B    B    A    A    B    D    A    F    A    O  0.743068  0.367411   \n",
       "2    A    A    A    C    B    D    A    D    A    F  0.742708  0.310383   \n",
       "3    B    B    A    C    B    D    A    E    C    K  0.429551  0.620998   \n",
       "4    A    A    A    C    B    D    A    E    A    N  1.058291  0.367492   \n",
       "\n",
       "      cont2     cont3     cont4     cont5     cont6     cont7     cont8  \\\n",
       "0  0.669699  0.136278  0.610706  0.400361  0.160266  0.310921  0.389470   \n",
       "1  1.021605  0.365798  0.276853  0.533087  0.558922  0.516294  0.594928   \n",
       "2 -0.012673  0.576957  0.285074  0.650609  0.375348  0.902567  0.555205   \n",
       "3  0.577942  0.280610  0.284667  0.668980  0.239061  0.732948  0.679618   \n",
       "4 -0.052389  0.232407  0.287595  0.686964  0.420667  0.648182  0.684501   \n",
       "\n",
       "      cont9    cont10    cont11    cont12    cont13    target  kfold  \n",
       "0  0.267559  0.237281  0.377873  0.322401  0.869850  8.113634    0.0  \n",
       "1  0.341439  0.906013  0.921701  0.261975  0.465083  8.481233    3.0  \n",
       "2  0.843531  0.748809  0.620126  0.541474  0.763846  8.364351    4.0  \n",
       "3  0.574844  0.346010  0.714610  0.540150  0.280682  8.049253    3.0  \n",
       "4  0.956692  1.000773  0.776742  0.625849  0.250823  7.972260    2.0  "
      ]
     },
     "execution_count": 30,
     "metadata": {},
     "output_type": "execute_result"
    }
   ],
   "source": [
    "train.head(5)"
   ]
  },
  {
   "cell_type": "code",
   "execution_count": 39,
   "id": "232da356",
   "metadata": {},
   "outputs": [],
   "source": [
    "from sklearn.preprocessing import OrdinalEncoder\n",
    "from xgboost import XGBRegressor\n",
    "from sklearn.metrics import mean_squared_error"
   ]
  },
  {
   "cell_type": "code",
   "execution_count": 42,
   "id": "3106762e",
   "metadata": {},
   "outputs": [
    {
     "ename": "KeyboardInterrupt",
     "evalue": "",
     "output_type": "error",
     "traceback": [
      "\u001b[1;31m---------------------------------------------------------------------------\u001b[0m",
      "\u001b[1;31mKeyboardInterrupt\u001b[0m                         Traceback (most recent call last)",
      "\u001b[1;32m<ipython-input-42-35ff0b048bf4>\u001b[0m in \u001b[0;36m<module>\u001b[1;34m\u001b[0m\n\u001b[0;32m     29\u001b[0m                       \u001b[0meval_metric\u001b[0m\u001b[1;33m=\u001b[0m\u001b[1;34m'rmse'\u001b[0m\u001b[1;33m\u001b[0m\u001b[1;33m\u001b[0m\u001b[0m\n\u001b[0;32m     30\u001b[0m                        )\n\u001b[1;32m---> 31\u001b[1;33m     \u001b[0mmodel\u001b[0m\u001b[1;33m.\u001b[0m\u001b[0mfit\u001b[0m\u001b[1;33m(\u001b[0m\u001b[0mx_train\u001b[0m\u001b[1;33m,\u001b[0m\u001b[0my_train\u001b[0m\u001b[1;33m)\u001b[0m\u001b[1;33m\u001b[0m\u001b[1;33m\u001b[0m\u001b[0m\n\u001b[0m\u001b[0;32m     32\u001b[0m     \u001b[0mpreds_valid\u001b[0m\u001b[1;33m=\u001b[0m\u001b[0mmodel\u001b[0m\u001b[1;33m.\u001b[0m\u001b[0mpredict\u001b[0m\u001b[1;33m(\u001b[0m\u001b[0mx_valid\u001b[0m\u001b[1;33m)\u001b[0m\u001b[1;33m\u001b[0m\u001b[1;33m\u001b[0m\u001b[0m\n\u001b[0;32m     33\u001b[0m     \u001b[0mpreds_test\u001b[0m\u001b[1;33m=\u001b[0m\u001b[0mmodel\u001b[0m\u001b[1;33m.\u001b[0m\u001b[0mpredict\u001b[0m\u001b[1;33m(\u001b[0m\u001b[0mx_test\u001b[0m\u001b[1;33m)\u001b[0m\u001b[1;33m\u001b[0m\u001b[1;33m\u001b[0m\u001b[0m\n",
      "\u001b[1;32m~\\anaconda3\\lib\\site-packages\\xgboost\\core.py\u001b[0m in \u001b[0;36minner_f\u001b[1;34m(*args, **kwargs)\u001b[0m\n\u001b[0;32m    434\u001b[0m         \u001b[1;32mfor\u001b[0m \u001b[0mk\u001b[0m\u001b[1;33m,\u001b[0m \u001b[0marg\u001b[0m \u001b[1;32min\u001b[0m \u001b[0mzip\u001b[0m\u001b[1;33m(\u001b[0m\u001b[0msig\u001b[0m\u001b[1;33m.\u001b[0m\u001b[0mparameters\u001b[0m\u001b[1;33m,\u001b[0m \u001b[0margs\u001b[0m\u001b[1;33m)\u001b[0m\u001b[1;33m:\u001b[0m\u001b[1;33m\u001b[0m\u001b[1;33m\u001b[0m\u001b[0m\n\u001b[0;32m    435\u001b[0m             \u001b[0mkwargs\u001b[0m\u001b[1;33m[\u001b[0m\u001b[0mk\u001b[0m\u001b[1;33m]\u001b[0m \u001b[1;33m=\u001b[0m \u001b[0marg\u001b[0m\u001b[1;33m\u001b[0m\u001b[1;33m\u001b[0m\u001b[0m\n\u001b[1;32m--> 436\u001b[1;33m         \u001b[1;32mreturn\u001b[0m \u001b[0mf\u001b[0m\u001b[1;33m(\u001b[0m\u001b[1;33m**\u001b[0m\u001b[0mkwargs\u001b[0m\u001b[1;33m)\u001b[0m\u001b[1;33m\u001b[0m\u001b[1;33m\u001b[0m\u001b[0m\n\u001b[0m\u001b[0;32m    437\u001b[0m \u001b[1;33m\u001b[0m\u001b[0m\n\u001b[0;32m    438\u001b[0m     \u001b[1;32mreturn\u001b[0m \u001b[0minner_f\u001b[0m\u001b[1;33m\u001b[0m\u001b[1;33m\u001b[0m\u001b[0m\n",
      "\u001b[1;32m~\\anaconda3\\lib\\site-packages\\xgboost\\sklearn.py\u001b[0m in \u001b[0;36mfit\u001b[1;34m(self, X, y, sample_weight, base_margin, eval_set, eval_metric, early_stopping_rounds, verbose, xgb_model, sample_weight_eval_set, base_margin_eval_set, feature_weights, callbacks)\u001b[0m\n\u001b[0;32m    734\u001b[0m \u001b[1;33m\u001b[0m\u001b[0m\n\u001b[0;32m    735\u001b[0m         \u001b[0mmodel\u001b[0m\u001b[1;33m,\u001b[0m \u001b[0mfeval\u001b[0m\u001b[1;33m,\u001b[0m \u001b[0mparams\u001b[0m \u001b[1;33m=\u001b[0m \u001b[0mself\u001b[0m\u001b[1;33m.\u001b[0m\u001b[0m_configure_fit\u001b[0m\u001b[1;33m(\u001b[0m\u001b[0mxgb_model\u001b[0m\u001b[1;33m,\u001b[0m \u001b[0meval_metric\u001b[0m\u001b[1;33m,\u001b[0m \u001b[0mparams\u001b[0m\u001b[1;33m)\u001b[0m\u001b[1;33m\u001b[0m\u001b[1;33m\u001b[0m\u001b[0m\n\u001b[1;32m--> 736\u001b[1;33m         self._Booster = train(\n\u001b[0m\u001b[0;32m    737\u001b[0m             \u001b[0mparams\u001b[0m\u001b[1;33m,\u001b[0m\u001b[1;33m\u001b[0m\u001b[1;33m\u001b[0m\u001b[0m\n\u001b[0;32m    738\u001b[0m             \u001b[0mtrain_dmatrix\u001b[0m\u001b[1;33m,\u001b[0m\u001b[1;33m\u001b[0m\u001b[1;33m\u001b[0m\u001b[0m\n",
      "\u001b[1;32m~\\anaconda3\\lib\\site-packages\\xgboost\\training.py\u001b[0m in \u001b[0;36mtrain\u001b[1;34m(params, dtrain, num_boost_round, evals, obj, feval, maximize, early_stopping_rounds, evals_result, verbose_eval, xgb_model, callbacks)\u001b[0m\n\u001b[0;32m    187\u001b[0m     \u001b[0mBooster\u001b[0m \u001b[1;33m:\u001b[0m \u001b[0ma\u001b[0m \u001b[0mtrained\u001b[0m \u001b[0mbooster\u001b[0m \u001b[0mmodel\u001b[0m\u001b[1;33m\u001b[0m\u001b[1;33m\u001b[0m\u001b[0m\n\u001b[0;32m    188\u001b[0m     \"\"\"\n\u001b[1;32m--> 189\u001b[1;33m     bst = _train_internal(params, dtrain,\n\u001b[0m\u001b[0;32m    190\u001b[0m                           \u001b[0mnum_boost_round\u001b[0m\u001b[1;33m=\u001b[0m\u001b[0mnum_boost_round\u001b[0m\u001b[1;33m,\u001b[0m\u001b[1;33m\u001b[0m\u001b[1;33m\u001b[0m\u001b[0m\n\u001b[0;32m    191\u001b[0m                           \u001b[0mevals\u001b[0m\u001b[1;33m=\u001b[0m\u001b[0mevals\u001b[0m\u001b[1;33m,\u001b[0m\u001b[1;33m\u001b[0m\u001b[1;33m\u001b[0m\u001b[0m\n",
      "\u001b[1;32m~\\anaconda3\\lib\\site-packages\\xgboost\\training.py\u001b[0m in \u001b[0;36m_train_internal\u001b[1;34m(params, dtrain, num_boost_round, evals, obj, feval, xgb_model, callbacks, evals_result, maximize, verbose_eval, early_stopping_rounds)\u001b[0m\n\u001b[0;32m     79\u001b[0m         \u001b[1;32mif\u001b[0m \u001b[0mcallbacks\u001b[0m\u001b[1;33m.\u001b[0m\u001b[0mbefore_iteration\u001b[0m\u001b[1;33m(\u001b[0m\u001b[0mbst\u001b[0m\u001b[1;33m,\u001b[0m \u001b[0mi\u001b[0m\u001b[1;33m,\u001b[0m \u001b[0mdtrain\u001b[0m\u001b[1;33m,\u001b[0m \u001b[0mevals\u001b[0m\u001b[1;33m)\u001b[0m\u001b[1;33m:\u001b[0m\u001b[1;33m\u001b[0m\u001b[1;33m\u001b[0m\u001b[0m\n\u001b[0;32m     80\u001b[0m             \u001b[1;32mbreak\u001b[0m\u001b[1;33m\u001b[0m\u001b[1;33m\u001b[0m\u001b[0m\n\u001b[1;32m---> 81\u001b[1;33m         \u001b[0mbst\u001b[0m\u001b[1;33m.\u001b[0m\u001b[0mupdate\u001b[0m\u001b[1;33m(\u001b[0m\u001b[0mdtrain\u001b[0m\u001b[1;33m,\u001b[0m \u001b[0mi\u001b[0m\u001b[1;33m,\u001b[0m \u001b[0mobj\u001b[0m\u001b[1;33m)\u001b[0m\u001b[1;33m\u001b[0m\u001b[1;33m\u001b[0m\u001b[0m\n\u001b[0m\u001b[0;32m     82\u001b[0m         \u001b[1;32mif\u001b[0m \u001b[0mcallbacks\u001b[0m\u001b[1;33m.\u001b[0m\u001b[0mafter_iteration\u001b[0m\u001b[1;33m(\u001b[0m\u001b[0mbst\u001b[0m\u001b[1;33m,\u001b[0m \u001b[0mi\u001b[0m\u001b[1;33m,\u001b[0m \u001b[0mdtrain\u001b[0m\u001b[1;33m,\u001b[0m \u001b[0mevals\u001b[0m\u001b[1;33m)\u001b[0m\u001b[1;33m:\u001b[0m\u001b[1;33m\u001b[0m\u001b[1;33m\u001b[0m\u001b[0m\n\u001b[0;32m     83\u001b[0m             \u001b[1;32mbreak\u001b[0m\u001b[1;33m\u001b[0m\u001b[1;33m\u001b[0m\u001b[0m\n",
      "\u001b[1;32m~\\anaconda3\\lib\\site-packages\\xgboost\\core.py\u001b[0m in \u001b[0;36mupdate\u001b[1;34m(self, dtrain, iteration, fobj)\u001b[0m\n\u001b[0;32m   1497\u001b[0m \u001b[1;33m\u001b[0m\u001b[0m\n\u001b[0;32m   1498\u001b[0m         \u001b[1;32mif\u001b[0m \u001b[0mfobj\u001b[0m \u001b[1;32mis\u001b[0m \u001b[1;32mNone\u001b[0m\u001b[1;33m:\u001b[0m\u001b[1;33m\u001b[0m\u001b[1;33m\u001b[0m\u001b[0m\n\u001b[1;32m-> 1499\u001b[1;33m             _check_call(_LIB.XGBoosterUpdateOneIter(self.handle,\n\u001b[0m\u001b[0;32m   1500\u001b[0m                                                     \u001b[0mctypes\u001b[0m\u001b[1;33m.\u001b[0m\u001b[0mc_int\u001b[0m\u001b[1;33m(\u001b[0m\u001b[0miteration\u001b[0m\u001b[1;33m)\u001b[0m\u001b[1;33m,\u001b[0m\u001b[1;33m\u001b[0m\u001b[1;33m\u001b[0m\u001b[0m\n\u001b[0;32m   1501\u001b[0m                                                     dtrain.handle))\n",
      "\u001b[1;31mKeyboardInterrupt\u001b[0m: "
     ]
    }
   ],
   "source": [
    "final_pred=[]\n",
    "for fold in range(5):\n",
    "    x_train=train[train.kfold!=fold].reset_index(drop=True)\n",
    "    x_valid=train[train.kfold==fold].reset_index(drop=True)\n",
    "    \n",
    "    y_train=x_train.target\n",
    "    y_valid=x_valid.target\n",
    "    X_test=test.copy()\n",
    "    \n",
    "    \n",
    "    x_train=x_train[columns_to_consider]\n",
    "    x_valid=x_valid[columns_to_consider]\n",
    "    x_test=test.copy()\n",
    "    \n",
    "    ordinal=OrdinalEncoder()\n",
    "    x_train[cat_feat]=ordinal.fit_transform(x_train[cat_feat])\n",
    "    x_valid[cat_feat]=ordinal.transform(x_valid[cat_feat])\n",
    "    x_test[cat_feat]=ordinal.transform(x_test[cat_feat])\n",
    "    \n",
    "    model=XGBRegressor(random_state=fold,\n",
    "                      n_jobs=-1,\n",
    "                      n_estimators=5000,\n",
    "                      tree_method='hist',\n",
    "                      learning_rate=0.01,\n",
    "                      subsample=0.9,\n",
    "                      max_depth=9,\n",
    "                      colsample_bytree=0.5,\n",
    "                      reg_alpha=30,\n",
    "                      eval_metric='rmse'\n",
    "                       )\n",
    "    model.fit(x_train,y_train)\n",
    "    preds_valid=model.predict(x_valid)\n",
    "    preds_test=model.predict(x_test)\n",
    "    final_pred.append(preds_test)\n",
    "    print(fold,mean_squared_error(y_valid,preds_valid,squared=False))"
   ]
  },
  {
   "cell_type": "code",
   "execution_count": 1,
   "id": "1f9abf27",
   "metadata": {},
   "outputs": [],
   "source": [
    "import pandas as pd\n",
    "import numpy as np\n",
    "from sklearn import preprocessing\n",
    "from sklearn.model_selection import train_test_split\n",
    "from sklearn.ensemble import RandomForestRegressor\n",
    "from sklearn.metrics import mean_squared_error\n",
    "from xgboost import XGBRegressor"
   ]
  },
  {
   "cell_type": "code",
   "execution_count": 8,
   "id": "2e52f34f",
   "metadata": {},
   "outputs": [],
   "source": [
    "df = pd.read_csv(\"train_kfold.csv\")\n",
    "df_test = pd.read_csv(\"test.csv\")\n",
    "sample_submission = pd.read_csv(\"sample_submission.csv\")"
   ]
  },
  {
   "cell_type": "code",
   "execution_count": 10,
   "id": "0e8292ae",
   "metadata": {},
   "outputs": [],
   "source": [
    "useful_features = [c for c in df.columns if c not in (\"id\", \"target\", \"kfold\")]\n",
    "object_cols = [col for col in useful_features if col.startswith(\"cat\")]\n",
    "df_test = df_test[useful_features]"
   ]
  },
  {
   "cell_type": "code",
   "execution_count": 11,
   "id": "35261dbd",
   "metadata": {},
   "outputs": [
    {
     "name": "stdout",
     "output_type": "stream",
     "text": [
      "[0]\tvalidation_0-rmse:7.17448\n",
      "[1000]\tvalidation_0-rmse:0.71730\n",
      "[2000]\tvalidation_0-rmse:0.71549\n",
      "[2978]\tvalidation_0-rmse:0.71523\n",
      "0 0.7151770613510307\n",
      "[0]\tvalidation_0-rmse:7.17474\n",
      "[1000]\tvalidation_0-rmse:0.71979\n",
      "[2000]\tvalidation_0-rmse:0.71809\n",
      "[3000]\tvalidation_0-rmse:0.71784\n",
      "[3005]\tvalidation_0-rmse:0.71784\n",
      "1 0.7177753594443534\n",
      "[0]\tvalidation_0-rmse:7.17089\n",
      "[1000]\tvalidation_0-rmse:0.71869\n",
      "[2000]\tvalidation_0-rmse:0.71691\n",
      "[3000]\tvalidation_0-rmse:0.71672\n",
      "[3040]\tvalidation_0-rmse:0.71673\n",
      "2 0.7166369053432292\n",
      "[0]\tvalidation_0-rmse:7.17439\n",
      "[1000]\tvalidation_0-rmse:0.72122\n",
      "[2000]\tvalidation_0-rmse:0.71972\n",
      "[2749]\tvalidation_0-rmse:0.71958\n",
      "3 0.7195361927035168\n",
      "[0]\tvalidation_0-rmse:7.17020\n",
      "[1000]\tvalidation_0-rmse:0.71615\n",
      "[2000]\tvalidation_0-rmse:0.71438\n",
      "[2867]\tvalidation_0-rmse:0.71417\n",
      "4 0.714142258790473\n",
      "0.7166535555265205 0.0019002612820140429\n"
     ]
    }
   ],
   "source": [
    "final_predictions = []\n",
    "scores = []\n",
    "for fold in range(5):\n",
    "    xtrain =  df[df.kfold != fold].reset_index(drop=True)\n",
    "    xvalid = df[df.kfold == fold].reset_index(drop=True)\n",
    "    xtest = df_test.copy()\n",
    "\n",
    "    ytrain = xtrain.target\n",
    "    yvalid = xvalid.target\n",
    "    \n",
    "    xtrain = xtrain[useful_features]\n",
    "    xvalid = xvalid[useful_features]\n",
    "    \n",
    "    ordinal_encoder = preprocessing.OrdinalEncoder()\n",
    "    xtrain[object_cols] = ordinal_encoder.fit_transform(xtrain[object_cols])\n",
    "    xvalid[object_cols] = ordinal_encoder.transform(xvalid[object_cols])\n",
    "    xtest[object_cols] = ordinal_encoder.transform(xtest[object_cols])\n",
    "    \n",
    "    params = {'learning_rate': 0.07853392035787837, 'reg_lambda': 1.7549293092194938e-05, 'reg_alpha': 14.68267919457715, 'subsample': 0.8031450486786944, 'colsample_bytree': 0.170759104940733, 'max_depth': 3}\n",
    "    \n",
    "    model = XGBRegressor(\n",
    "        random_state=0, \n",
    "        #tree_method='gpu_hist',\n",
    "        #gpu_id=0,\n",
    "        #predictor=\"gpu_predictor\",\n",
    "        n_estimators=5000,\n",
    "        **params\n",
    "    )\n",
    "    model.fit(xtrain, ytrain, early_stopping_rounds=300, eval_set=[(xvalid, yvalid)], verbose=1000)\n",
    "    preds_valid = model.predict(xvalid)\n",
    "    test_preds = model.predict(xtest)\n",
    "    final_predictions.append(test_preds)\n",
    "    rmse = mean_squared_error(yvalid, preds_valid, squared=False)\n",
    "    print(fold, rmse)\n",
    "    scores.append(rmse)\n",
    "\n",
    "print(np.mean(scores), np.std(scores))"
   ]
  },
  {
   "cell_type": "code",
   "execution_count": 12,
   "id": "906bcd6a",
   "metadata": {},
   "outputs": [],
   "source": [
    "preds = np.mean(np.column_stack(final_predictions), axis=1)\n",
    "sample_submission.target = preds\n",
    "sample_submission.to_csv(\"s8.csv\", index=False)"
   ]
  },
  {
   "cell_type": "code",
   "execution_count": 177,
   "id": "4af21bda",
   "metadata": {},
   "outputs": [],
   "source": [
    "submission=pd.read_csv('sample_submission.csv',index_col='id')\n",
    "submission['target']=preds"
   ]
  },
  {
   "cell_type": "code",
   "execution_count": 178,
   "id": "3e6f574a",
   "metadata": {},
   "outputs": [],
   "source": [
    "submission.to_csv('s7.csv')"
   ]
  }
 ],
 "metadata": {
  "kernelspec": {
   "display_name": "Python 3",
   "language": "python",
   "name": "python3"
  },
  "language_info": {
   "codemirror_mode": {
    "name": "ipython",
    "version": 3
   },
   "file_extension": ".py",
   "mimetype": "text/x-python",
   "name": "python",
   "nbconvert_exporter": "python",
   "pygments_lexer": "ipython3",
   "version": "3.8.8"
  }
 },
 "nbformat": 4,
 "nbformat_minor": 5
}
